{
 "cells": [
  {
   "cell_type": "markdown",
   "id": "3489baa8",
   "metadata": {},
   "source": [
    "## Load the Data"
   ]
  },
  {
   "cell_type": "code",
   "execution_count": 1,
   "id": "113cccd8",
   "metadata": {
    "ExecuteTime": {
     "end_time": "2022-06-25T12:59:50.669611Z",
     "start_time": "2022-06-25T12:59:46.503334Z"
    }
   },
   "outputs": [],
   "source": [
    "import numpy as np\n",
    "import pandas as pd\n",
    "from matplotlib import pyplot as plt\n",
    "import matplotlib.cm as cm\n",
    "import seaborn as sns\n",
    "sns.set(color_codes=True)\n",
    "%matplotlib inline \n",
    "sns.set_palette(\"deep\")\n",
    "pd.pandas.set_option('display.max_columns',None)\n",
    "\n",
    "#Supress warnings\n",
    "import warnings\n",
    "warnings.filterwarnings('ignore')\n"
   ]
  },
  {
   "cell_type": "code",
   "execution_count": 2,
   "id": "4cf27987",
   "metadata": {
    "ExecuteTime": {
     "end_time": "2022-06-25T12:59:51.513028Z",
     "start_time": "2022-06-25T12:59:50.674610Z"
    }
   },
   "outputs": [],
   "source": [
    "from sklearn.linear_model import LinearRegression\n",
    "from sklearn.tree import DecisionTreeRegressor\n",
    "from sklearn.ensemble import (\n",
    "    RandomForestRegressor,\n",
    "    AdaBoostRegressor,\n",
    "    GradientBoostingRegressor,\n",
    "    StackingRegressor,\n",
    ")\n",
    "from sklearn.neural_network import MLPRegressor\n",
    "from xgboost import XGBRegressor\n",
    "from sklearn.linear_model import Ridge\n",
    "from sklearn.linear_model import Lasso\n",
    "from sklearn.tree import DecisionTreeRegressor\n",
    "from sklearn.pipeline import Pipeline\n",
    "\n",
    "from sklearn import metrics\n",
    "from sklearn.model_selection import train_test_split,GridSearchCV,RandomizedSearchCV\n",
    "from sklearn.tree import DecisionTreeRegressor\n",
    "from sklearn.pipeline import Pipeline\n",
    "\n",
    "# Evaluation Metrics\n",
    "from sklearn.metrics import mean_squared_error as mse\n",
    "from sklearn.metrics import r2_score as rs\n",
    "from sklearn.metrics import mean_absolute_percentage_error\n",
    "\n",
    "#import xgboost\n",
    "from xgboost import XGBRegressor\n",
    "from xgboost import plot_importance  # to plot feature importance\n"
   ]
  },
  {
   "cell_type": "code",
   "execution_count": 3,
   "id": "35041416",
   "metadata": {
    "ExecuteTime": {
     "end_time": "2022-06-25T13:00:00.819461Z",
     "start_time": "2022-06-25T12:59:51.515981Z"
    }
   },
   "outputs": [
    {
     "data": {
      "text/html": [
       "<div>\n",
       "<style scoped>\n",
       "    .dataframe tbody tr th:only-of-type {\n",
       "        vertical-align: middle;\n",
       "    }\n",
       "\n",
       "    .dataframe tbody tr th {\n",
       "        vertical-align: top;\n",
       "    }\n",
       "\n",
       "    .dataframe thead th {\n",
       "        text-align: right;\n",
       "    }\n",
       "</style>\n",
       "<table border=\"1\" class=\"dataframe\">\n",
       "  <thead>\n",
       "    <tr style=\"text-align: right;\">\n",
       "      <th></th>\n",
       "      <th>price</th>\n",
       "      <th>room_bed</th>\n",
       "      <th>room_bath</th>\n",
       "      <th>living_measure</th>\n",
       "      <th>lot_measure</th>\n",
       "      <th>ceil</th>\n",
       "      <th>coast</th>\n",
       "      <th>sight</th>\n",
       "      <th>condition</th>\n",
       "      <th>quality</th>\n",
       "      <th>ceil_measure</th>\n",
       "      <th>basement</th>\n",
       "      <th>furnished</th>\n",
       "      <th>total_area</th>\n",
       "      <th>renovated</th>\n",
       "      <th>building_age</th>\n",
       "    </tr>\n",
       "  </thead>\n",
       "  <tbody>\n",
       "    <tr>\n",
       "      <th>0</th>\n",
       "      <td>735000</td>\n",
       "      <td>4</td>\n",
       "      <td>2.75</td>\n",
       "      <td>3040</td>\n",
       "      <td>2415</td>\n",
       "      <td>2.0</td>\n",
       "      <td>1</td>\n",
       "      <td>4</td>\n",
       "      <td>3</td>\n",
       "      <td>8</td>\n",
       "      <td>3040.0</td>\n",
       "      <td>0.0</td>\n",
       "      <td>0</td>\n",
       "      <td>5455</td>\n",
       "      <td>0</td>\n",
       "      <td>48</td>\n",
       "    </tr>\n",
       "    <tr>\n",
       "      <th>1</th>\n",
       "      <td>257000</td>\n",
       "      <td>3</td>\n",
       "      <td>2.50</td>\n",
       "      <td>1740</td>\n",
       "      <td>3721</td>\n",
       "      <td>2.0</td>\n",
       "      <td>0</td>\n",
       "      <td>0</td>\n",
       "      <td>3</td>\n",
       "      <td>8</td>\n",
       "      <td>1740.0</td>\n",
       "      <td>0.0</td>\n",
       "      <td>0</td>\n",
       "      <td>5461</td>\n",
       "      <td>0</td>\n",
       "      <td>5</td>\n",
       "    </tr>\n",
       "    <tr>\n",
       "      <th>2</th>\n",
       "      <td>466000</td>\n",
       "      <td>2</td>\n",
       "      <td>1.50</td>\n",
       "      <td>1140</td>\n",
       "      <td>1058</td>\n",
       "      <td>3.0</td>\n",
       "      <td>0</td>\n",
       "      <td>0</td>\n",
       "      <td>3</td>\n",
       "      <td>7</td>\n",
       "      <td>1140.0</td>\n",
       "      <td>0.0</td>\n",
       "      <td>0</td>\n",
       "      <td>2198</td>\n",
       "      <td>0</td>\n",
       "      <td>9</td>\n",
       "    </tr>\n",
       "    <tr>\n",
       "      <th>3</th>\n",
       "      <td>1160000</td>\n",
       "      <td>4</td>\n",
       "      <td>3.50</td>\n",
       "      <td>4680</td>\n",
       "      <td>9700</td>\n",
       "      <td>2.0</td>\n",
       "      <td>0</td>\n",
       "      <td>0</td>\n",
       "      <td>3</td>\n",
       "      <td>10</td>\n",
       "      <td>3360.0</td>\n",
       "      <td>1.0</td>\n",
       "      <td>1</td>\n",
       "      <td>14380</td>\n",
       "      <td>0</td>\n",
       "      <td>9</td>\n",
       "    </tr>\n",
       "    <tr>\n",
       "      <th>4</th>\n",
       "      <td>449950</td>\n",
       "      <td>4</td>\n",
       "      <td>2.50</td>\n",
       "      <td>3100</td>\n",
       "      <td>10000</td>\n",
       "      <td>2.0</td>\n",
       "      <td>0</td>\n",
       "      <td>0</td>\n",
       "      <td>3</td>\n",
       "      <td>9</td>\n",
       "      <td>3100.0</td>\n",
       "      <td>0.0</td>\n",
       "      <td>1</td>\n",
       "      <td>13100</td>\n",
       "      <td>0</td>\n",
       "      <td>36</td>\n",
       "    </tr>\n",
       "  </tbody>\n",
       "</table>\n",
       "</div>"
      ],
      "text/plain": [
       "     price  room_bed  room_bath  living_measure  lot_measure  ceil  coast  \\\n",
       "0   735000         4       2.75            3040         2415   2.0      1   \n",
       "1   257000         3       2.50            1740         3721   2.0      0   \n",
       "2   466000         2       1.50            1140         1058   3.0      0   \n",
       "3  1160000         4       3.50            4680         9700   2.0      0   \n",
       "4   449950         4       2.50            3100        10000   2.0      0   \n",
       "\n",
       "   sight  condition  quality  ceil_measure  basement  furnished  total_area  \\\n",
       "0      4          3        8        3040.0       0.0          0        5455   \n",
       "1      0          3        8        1740.0       0.0          0        5461   \n",
       "2      0          3        7        1140.0       0.0          0        2198   \n",
       "3      0          3       10        3360.0       1.0          1       14380   \n",
       "4      0          3        9        3100.0       0.0          1       13100   \n",
       "\n",
       "   renovated  building_age  \n",
       "0          0            48  \n",
       "1          0             5  \n",
       "2          0             9  \n",
       "3          0             9  \n",
       "4          0            36  "
      ]
     },
     "execution_count": 3,
     "metadata": {},
     "output_type": "execute_result"
    }
   ],
   "source": [
    "house_price= pd.read_excel('HousePriceoutput.xlsx')\n",
    "house_price.head()"
   ]
  },
  {
   "cell_type": "markdown",
   "id": "4cf61862",
   "metadata": {},
   "source": [
    "## Linear Regression with Stats Model"
   ]
  },
  {
   "cell_type": "code",
   "execution_count": 4,
   "id": "4cea1ada",
   "metadata": {
    "ExecuteTime": {
     "end_time": "2022-06-25T13:00:01.105655Z",
     "start_time": "2022-06-25T13:00:00.822424Z"
    }
   },
   "outputs": [],
   "source": [
    "import statsmodels.formula.api as SM"
   ]
  },
  {
   "cell_type": "code",
   "execution_count": 5,
   "id": "4289bbf2",
   "metadata": {
    "ExecuteTime": {
     "end_time": "2022-06-25T13:00:01.152537Z",
     "start_time": "2022-06-25T13:00:01.109643Z"
    }
   },
   "outputs": [
    {
     "data": {
      "text/html": [
       "<div>\n",
       "<style scoped>\n",
       "    .dataframe tbody tr th:only-of-type {\n",
       "        vertical-align: middle;\n",
       "    }\n",
       "\n",
       "    .dataframe tbody tr th {\n",
       "        vertical-align: top;\n",
       "    }\n",
       "\n",
       "    .dataframe thead th {\n",
       "        text-align: right;\n",
       "    }\n",
       "</style>\n",
       "<table border=\"1\" class=\"dataframe\">\n",
       "  <thead>\n",
       "    <tr style=\"text-align: right;\">\n",
       "      <th></th>\n",
       "      <th>price</th>\n",
       "      <th>room_bed</th>\n",
       "      <th>room_bath</th>\n",
       "      <th>living_measure</th>\n",
       "      <th>lot_measure</th>\n",
       "      <th>ceil</th>\n",
       "      <th>coast</th>\n",
       "      <th>sight</th>\n",
       "      <th>condition</th>\n",
       "      <th>quality</th>\n",
       "      <th>ceil_measure</th>\n",
       "      <th>basement</th>\n",
       "      <th>furnished</th>\n",
       "      <th>total_area</th>\n",
       "      <th>renovated</th>\n",
       "      <th>building_age</th>\n",
       "    </tr>\n",
       "  </thead>\n",
       "  <tbody>\n",
       "    <tr>\n",
       "      <th>0</th>\n",
       "      <td>735000</td>\n",
       "      <td>4</td>\n",
       "      <td>2.75</td>\n",
       "      <td>3040</td>\n",
       "      <td>2415</td>\n",
       "      <td>2.0</td>\n",
       "      <td>1</td>\n",
       "      <td>4</td>\n",
       "      <td>3</td>\n",
       "      <td>8</td>\n",
       "      <td>3040.0</td>\n",
       "      <td>0.0</td>\n",
       "      <td>0</td>\n",
       "      <td>5455</td>\n",
       "      <td>0</td>\n",
       "      <td>48</td>\n",
       "    </tr>\n",
       "    <tr>\n",
       "      <th>1</th>\n",
       "      <td>257000</td>\n",
       "      <td>3</td>\n",
       "      <td>2.50</td>\n",
       "      <td>1740</td>\n",
       "      <td>3721</td>\n",
       "      <td>2.0</td>\n",
       "      <td>0</td>\n",
       "      <td>0</td>\n",
       "      <td>3</td>\n",
       "      <td>8</td>\n",
       "      <td>1740.0</td>\n",
       "      <td>0.0</td>\n",
       "      <td>0</td>\n",
       "      <td>5461</td>\n",
       "      <td>0</td>\n",
       "      <td>5</td>\n",
       "    </tr>\n",
       "    <tr>\n",
       "      <th>2</th>\n",
       "      <td>466000</td>\n",
       "      <td>2</td>\n",
       "      <td>1.50</td>\n",
       "      <td>1140</td>\n",
       "      <td>1058</td>\n",
       "      <td>3.0</td>\n",
       "      <td>0</td>\n",
       "      <td>0</td>\n",
       "      <td>3</td>\n",
       "      <td>7</td>\n",
       "      <td>1140.0</td>\n",
       "      <td>0.0</td>\n",
       "      <td>0</td>\n",
       "      <td>2198</td>\n",
       "      <td>0</td>\n",
       "      <td>9</td>\n",
       "    </tr>\n",
       "    <tr>\n",
       "      <th>3</th>\n",
       "      <td>1160000</td>\n",
       "      <td>4</td>\n",
       "      <td>3.50</td>\n",
       "      <td>4680</td>\n",
       "      <td>9700</td>\n",
       "      <td>2.0</td>\n",
       "      <td>0</td>\n",
       "      <td>0</td>\n",
       "      <td>3</td>\n",
       "      <td>10</td>\n",
       "      <td>3360.0</td>\n",
       "      <td>1.0</td>\n",
       "      <td>1</td>\n",
       "      <td>14380</td>\n",
       "      <td>0</td>\n",
       "      <td>9</td>\n",
       "    </tr>\n",
       "    <tr>\n",
       "      <th>4</th>\n",
       "      <td>449950</td>\n",
       "      <td>4</td>\n",
       "      <td>2.50</td>\n",
       "      <td>3100</td>\n",
       "      <td>10000</td>\n",
       "      <td>2.0</td>\n",
       "      <td>0</td>\n",
       "      <td>0</td>\n",
       "      <td>3</td>\n",
       "      <td>9</td>\n",
       "      <td>3100.0</td>\n",
       "      <td>0.0</td>\n",
       "      <td>1</td>\n",
       "      <td>13100</td>\n",
       "      <td>0</td>\n",
       "      <td>36</td>\n",
       "    </tr>\n",
       "  </tbody>\n",
       "</table>\n",
       "</div>"
      ],
      "text/plain": [
       "     price  room_bed  room_bath  living_measure  lot_measure  ceil  coast  \\\n",
       "0   735000         4       2.75            3040         2415   2.0      1   \n",
       "1   257000         3       2.50            1740         3721   2.0      0   \n",
       "2   466000         2       1.50            1140         1058   3.0      0   \n",
       "3  1160000         4       3.50            4680         9700   2.0      0   \n",
       "4   449950         4       2.50            3100        10000   2.0      0   \n",
       "\n",
       "   sight  condition  quality  ceil_measure  basement  furnished  total_area  \\\n",
       "0      4          3        8        3040.0       0.0          0        5455   \n",
       "1      0          3        8        1740.0       0.0          0        5461   \n",
       "2      0          3        7        1140.0       0.0          0        2198   \n",
       "3      0          3       10        3360.0       1.0          1       14380   \n",
       "4      0          3        9        3100.0       0.0          1       13100   \n",
       "\n",
       "   renovated  building_age  \n",
       "0          0            48  \n",
       "1          0             5  \n",
       "2          0             9  \n",
       "3          0             9  \n",
       "4          0            36  "
      ]
     },
     "execution_count": 5,
     "metadata": {},
     "output_type": "execute_result"
    }
   ],
   "source": [
    "House_Price_allvar = pd.get_dummies(house_price, drop_first=True)\n",
    "House_Price_allvar.head()"
   ]
  },
  {
   "cell_type": "code",
   "execution_count": 6,
   "id": "5e0f4926",
   "metadata": {
    "ExecuteTime": {
     "end_time": "2022-06-25T13:00:01.168489Z",
     "start_time": "2022-06-25T13:00:01.158516Z"
    }
   },
   "outputs": [],
   "source": [
    "f_1 = 'price~room_bed+room_bath+living_measure+lot_measure+ceil+coast+sight+condition+quality+ceil_measure+basement+furnished+total_area+renovated+building_age'"
   ]
  },
  {
   "cell_type": "code",
   "execution_count": 7,
   "id": "6c5b7618",
   "metadata": {
    "ExecuteTime": {
     "end_time": "2022-06-25T13:00:01.390890Z",
     "start_time": "2022-06-25T13:00:01.172482Z"
    }
   },
   "outputs": [
    {
     "data": {
      "text/html": [
       "<table class=\"simpletable\">\n",
       "<caption>OLS Regression Results</caption>\n",
       "<tr>\n",
       "  <th>Dep. Variable:</th>          <td>price</td>      <th>  R-squared:         </th>  <td>   0.642</td>  \n",
       "</tr>\n",
       "<tr>\n",
       "  <th>Model:</th>                   <td>OLS</td>       <th>  Adj. R-squared:    </th>  <td>   0.642</td>  \n",
       "</tr>\n",
       "<tr>\n",
       "  <th>Method:</th>             <td>Least Squares</td>  <th>  F-statistic:       </th>  <td>   2724.</td>  \n",
       "</tr>\n",
       "<tr>\n",
       "  <th>Date:</th>             <td>Sat, 25 Jun 2022</td> <th>  Prob (F-statistic):</th>   <td>  0.00</td>   \n",
       "</tr>\n",
       "<tr>\n",
       "  <th>Time:</th>                 <td>18:30:01</td>     <th>  Log-Likelihood:    </th> <td>-2.9196e+05</td>\n",
       "</tr>\n",
       "<tr>\n",
       "  <th>No. Observations:</th>      <td> 21288</td>      <th>  AIC:               </th>  <td>5.839e+05</td> \n",
       "</tr>\n",
       "<tr>\n",
       "  <th>Df Residuals:</th>          <td> 21273</td>      <th>  BIC:               </th>  <td>5.841e+05</td> \n",
       "</tr>\n",
       "<tr>\n",
       "  <th>Df Model:</th>              <td>    14</td>      <th>                     </th>      <td> </td>     \n",
       "</tr>\n",
       "<tr>\n",
       "  <th>Covariance Type:</th>      <td>nonrobust</td>    <th>                     </th>      <td> </td>     \n",
       "</tr>\n",
       "</table>\n",
       "<table class=\"simpletable\">\n",
       "<tr>\n",
       "         <td></td>           <th>coef</th>     <th>std err</th>      <th>t</th>      <th>P>|t|</th>  <th>[0.025</th>    <th>0.975]</th>  \n",
       "</tr>\n",
       "<tr>\n",
       "  <th>Intercept</th>      <td>-1.073e+06</td> <td>    2e+04</td> <td>  -53.557</td> <td> 0.000</td> <td>-1.11e+06</td> <td>-1.03e+06</td>\n",
       "</tr>\n",
       "<tr>\n",
       "  <th>room_bed</th>       <td>-2.393e+04</td> <td> 2010.597</td> <td>  -11.900</td> <td> 0.000</td> <td>-2.79e+04</td> <td>   -2e+04</td>\n",
       "</tr>\n",
       "<tr>\n",
       "  <th>room_bath</th>      <td> 7.339e+04</td> <td> 3463.415</td> <td>   21.189</td> <td> 0.000</td> <td> 6.66e+04</td> <td> 8.02e+04</td>\n",
       "</tr>\n",
       "<tr>\n",
       "  <th>living_measure</th> <td>  109.9938</td> <td>    4.607</td> <td>   23.876</td> <td> 0.000</td> <td>  100.964</td> <td>  119.024</td>\n",
       "</tr>\n",
       "<tr>\n",
       "  <th>lot_measure</th>    <td>  -55.1400</td> <td>    2.305</td> <td>  -23.927</td> <td> 0.000</td> <td>  -59.657</td> <td>  -50.623</td>\n",
       "</tr>\n",
       "<tr>\n",
       "  <th>ceil</th>           <td> 3.275e+04</td> <td> 3808.411</td> <td>    8.599</td> <td> 0.000</td> <td> 2.53e+04</td> <td> 4.02e+04</td>\n",
       "</tr>\n",
       "<tr>\n",
       "  <th>coast</th>          <td> 5.893e+05</td> <td> 1.91e+04</td> <td>   30.882</td> <td> 0.000</td> <td> 5.52e+05</td> <td> 6.27e+05</td>\n",
       "</tr>\n",
       "<tr>\n",
       "  <th>sight</th>          <td> 4.357e+04</td> <td> 2304.129</td> <td>   18.908</td> <td> 0.000</td> <td> 3.91e+04</td> <td> 4.81e+04</td>\n",
       "</tr>\n",
       "<tr>\n",
       "  <th>condition</th>      <td> 1.854e+04</td> <td> 2562.479</td> <td>    7.236</td> <td> 0.000</td> <td> 1.35e+04</td> <td> 2.36e+04</td>\n",
       "</tr>\n",
       "<tr>\n",
       "  <th>quality</th>        <td> 1.294e+05</td> <td> 2668.637</td> <td>   48.500</td> <td> 0.000</td> <td> 1.24e+05</td> <td> 1.35e+05</td>\n",
       "</tr>\n",
       "<tr>\n",
       "  <th>ceil_measure</th>   <td>  -45.5894</td> <td>    7.341</td> <td>   -6.210</td> <td> 0.000</td> <td>  -59.978</td> <td>  -31.201</td>\n",
       "</tr>\n",
       "<tr>\n",
       "  <th>basement</th>       <td>-1.366e+04</td> <td> 5531.987</td> <td>   -2.469</td> <td> 0.014</td> <td>-2.45e+04</td> <td>-2813.801</td>\n",
       "</tr>\n",
       "<tr>\n",
       "  <th>furnished</th>      <td>  5.03e+04</td> <td> 6302.772</td> <td>    7.980</td> <td> 0.000</td> <td> 3.79e+04</td> <td> 6.27e+04</td>\n",
       "</tr>\n",
       "<tr>\n",
       "  <th>total_area</th>     <td>   54.8538</td> <td>    2.303</td> <td>   23.823</td> <td> 0.000</td> <td>   50.341</td> <td>   59.367</td>\n",
       "</tr>\n",
       "<tr>\n",
       "  <th>renovated</th>      <td> 2.286e+05</td> <td> 7727.446</td> <td>   29.577</td> <td> 0.000</td> <td> 2.13e+05</td> <td> 2.44e+05</td>\n",
       "</tr>\n",
       "<tr>\n",
       "  <th>building_age</th>   <td> 3734.9237</td> <td>   73.494</td> <td>   50.819</td> <td> 0.000</td> <td> 3590.869</td> <td> 3878.978</td>\n",
       "</tr>\n",
       "</table>\n",
       "<table class=\"simpletable\">\n",
       "<tr>\n",
       "  <th>Omnibus:</th>       <td>15994.843</td> <th>  Durbin-Watson:     </th>  <td>   1.983</td>  \n",
       "</tr>\n",
       "<tr>\n",
       "  <th>Prob(Omnibus):</th>  <td> 0.000</td>   <th>  Jarque-Bera (JB):  </th> <td>1068606.955</td>\n",
       "</tr>\n",
       "<tr>\n",
       "  <th>Skew:</th>           <td> 3.033</td>   <th>  Prob(JB):          </th>  <td>    0.00</td>  \n",
       "</tr>\n",
       "<tr>\n",
       "  <th>Kurtosis:</th>       <td>37.175</td>   <th>  Cond. No.          </th>  <td>4.15e+15</td>  \n",
       "</tr>\n",
       "</table><br/><br/>Notes:<br/>[1] Standard Errors assume that the covariance matrix of the errors is correctly specified.<br/>[2] The smallest eigenvalue is 3.64e-18. This might indicate that there are<br/>strong multicollinearity problems or that the design matrix is singular."
      ],
      "text/plain": [
       "<class 'statsmodels.iolib.summary.Summary'>\n",
       "\"\"\"\n",
       "                            OLS Regression Results                            \n",
       "==============================================================================\n",
       "Dep. Variable:                  price   R-squared:                       0.642\n",
       "Model:                            OLS   Adj. R-squared:                  0.642\n",
       "Method:                 Least Squares   F-statistic:                     2724.\n",
       "Date:                Sat, 25 Jun 2022   Prob (F-statistic):               0.00\n",
       "Time:                        18:30:01   Log-Likelihood:            -2.9196e+05\n",
       "No. Observations:               21288   AIC:                         5.839e+05\n",
       "Df Residuals:                   21273   BIC:                         5.841e+05\n",
       "Df Model:                          14                                         \n",
       "Covariance Type:            nonrobust                                         \n",
       "==================================================================================\n",
       "                     coef    std err          t      P>|t|      [0.025      0.975]\n",
       "----------------------------------------------------------------------------------\n",
       "Intercept      -1.073e+06      2e+04    -53.557      0.000   -1.11e+06   -1.03e+06\n",
       "room_bed       -2.393e+04   2010.597    -11.900      0.000   -2.79e+04      -2e+04\n",
       "room_bath       7.339e+04   3463.415     21.189      0.000    6.66e+04    8.02e+04\n",
       "living_measure   109.9938      4.607     23.876      0.000     100.964     119.024\n",
       "lot_measure      -55.1400      2.305    -23.927      0.000     -59.657     -50.623\n",
       "ceil            3.275e+04   3808.411      8.599      0.000    2.53e+04    4.02e+04\n",
       "coast           5.893e+05   1.91e+04     30.882      0.000    5.52e+05    6.27e+05\n",
       "sight           4.357e+04   2304.129     18.908      0.000    3.91e+04    4.81e+04\n",
       "condition       1.854e+04   2562.479      7.236      0.000    1.35e+04    2.36e+04\n",
       "quality         1.294e+05   2668.637     48.500      0.000    1.24e+05    1.35e+05\n",
       "ceil_measure     -45.5894      7.341     -6.210      0.000     -59.978     -31.201\n",
       "basement       -1.366e+04   5531.987     -2.469      0.014   -2.45e+04   -2813.801\n",
       "furnished        5.03e+04   6302.772      7.980      0.000    3.79e+04    6.27e+04\n",
       "total_area        54.8538      2.303     23.823      0.000      50.341      59.367\n",
       "renovated       2.286e+05   7727.446     29.577      0.000    2.13e+05    2.44e+05\n",
       "building_age    3734.9237     73.494     50.819      0.000    3590.869    3878.978\n",
       "==============================================================================\n",
       "Omnibus:                    15994.843   Durbin-Watson:                   1.983\n",
       "Prob(Omnibus):                  0.000   Jarque-Bera (JB):          1068606.955\n",
       "Skew:                           3.033   Prob(JB):                         0.00\n",
       "Kurtosis:                      37.175   Cond. No.                     4.15e+15\n",
       "==============================================================================\n",
       "\n",
       "Notes:\n",
       "[1] Standard Errors assume that the covariance matrix of the errors is correctly specified.\n",
       "[2] The smallest eigenvalue is 3.64e-18. This might indicate that there are\n",
       "strong multicollinearity problems or that the design matrix is singular.\n",
       "\"\"\""
      ]
     },
     "execution_count": 7,
     "metadata": {},
     "output_type": "execute_result"
    }
   ],
   "source": [
    "OLSmodel_1 = SM.ols(f_1,data=House_Price_allvar).fit()\n",
    "OLSmodel_1.summary()"
   ]
  },
  {
   "cell_type": "code",
   "execution_count": 8,
   "id": "f3059976",
   "metadata": {
    "ExecuteTime": {
     "end_time": "2022-06-25T13:00:01.406850Z",
     "start_time": "2022-06-25T13:00:01.393892Z"
    }
   },
   "outputs": [],
   "source": [
    "def vif_cal(input_data):\n",
    "    x_vars = input_data\n",
    "    xvar_names = input_data.columns\n",
    "    for i in range(len(xvar_names)):\n",
    "        y = x_vars[xvar_names[i]]\n",
    "        x = x_vars[xvar_names.drop(xvar_names[i])]\n",
    "        rsq = SM.ols(formula=\"y~x\", data=x_vars).fit().rsquared\n",
    "        vif = round(1 / (1 - rsq), 2)\n",
    "        print(xvar_names[i], \" VIF = \", vif)"
   ]
  },
  {
   "cell_type": "code",
   "execution_count": 9,
   "id": "943929f1",
   "metadata": {
    "ExecuteTime": {
     "end_time": "2022-06-25T13:00:02.136896Z",
     "start_time": "2022-06-25T13:00:01.410837Z"
    }
   },
   "outputs": [
    {
     "name": "stdout",
     "output_type": "stream",
     "text": [
      "room_bed  VIF =  1.55\n",
      "room_bath  VIF =  3.15\n",
      "living_measure  VIF =  inf\n",
      "lot_measure  VIF =  inf\n",
      "ceil  VIF =  1.88\n",
      "coast  VIF =  1.2\n",
      "sight  VIF =  1.38\n",
      "condition  VIF =  1.24\n",
      "quality  VIF =  4.38\n",
      "ceil_measure  VIF =  14.9\n",
      "basement  VIF =  3.22\n",
      "furnished  VIF =  2.79\n",
      "total_area  VIF =  inf\n",
      "renovated  VIF =  1.07\n",
      "building_age  VIF =  2.0\n"
     ]
    }
   ],
   "source": [
    "vif_cal(input_data= House_Price_allvar.drop('price', axis=1))"
   ]
  },
  {
   "cell_type": "markdown",
   "id": "88c003d3",
   "metadata": {},
   "source": [
    "The above values corroborates our understanding of vif. Since there was a presence of multicollinearity we see that the vif values are very high in living_measure, lot_measure, ceil_measure, basement & total_area .\n",
    "\n",
    "If variables are decided to be dropped on the basis of vif, we will drop them one by one. After one variable is dropped we are going to run the regression model and the vif function. Then if needed we will drop more variables.\n",
    "\n",
    "Dropping variables means losing out on information. That can hamper the predictive as well as the descriptive power of the model."
   ]
  },
  {
   "cell_type": "markdown",
   "id": "77a17602",
   "metadata": {},
   "source": [
    "**Dropping Features one by one**"
   ]
  },
  {
   "cell_type": "code",
   "execution_count": 10,
   "id": "852eea11",
   "metadata": {
    "ExecuteTime": {
     "end_time": "2022-06-25T13:00:02.168809Z",
     "start_time": "2022-06-25T13:00:02.139886Z"
    }
   },
   "outputs": [
    {
     "data": {
      "text/html": [
       "<div>\n",
       "<style scoped>\n",
       "    .dataframe tbody tr th:only-of-type {\n",
       "        vertical-align: middle;\n",
       "    }\n",
       "\n",
       "    .dataframe tbody tr th {\n",
       "        vertical-align: top;\n",
       "    }\n",
       "\n",
       "    .dataframe thead th {\n",
       "        text-align: right;\n",
       "    }\n",
       "</style>\n",
       "<table border=\"1\" class=\"dataframe\">\n",
       "  <thead>\n",
       "    <tr style=\"text-align: right;\">\n",
       "      <th></th>\n",
       "      <th>price</th>\n",
       "      <th>room_bed</th>\n",
       "      <th>room_bath</th>\n",
       "      <th>living_measure</th>\n",
       "      <th>ceil</th>\n",
       "      <th>coast</th>\n",
       "      <th>sight</th>\n",
       "      <th>condition</th>\n",
       "      <th>quality</th>\n",
       "      <th>basement</th>\n",
       "      <th>furnished</th>\n",
       "      <th>total_area</th>\n",
       "      <th>renovated</th>\n",
       "      <th>building_age</th>\n",
       "    </tr>\n",
       "  </thead>\n",
       "  <tbody>\n",
       "    <tr>\n",
       "      <th>0</th>\n",
       "      <td>735000</td>\n",
       "      <td>4</td>\n",
       "      <td>2.75</td>\n",
       "      <td>3040</td>\n",
       "      <td>2.0</td>\n",
       "      <td>1</td>\n",
       "      <td>4</td>\n",
       "      <td>3</td>\n",
       "      <td>8</td>\n",
       "      <td>0.0</td>\n",
       "      <td>0</td>\n",
       "      <td>5455</td>\n",
       "      <td>0</td>\n",
       "      <td>48</td>\n",
       "    </tr>\n",
       "    <tr>\n",
       "      <th>1</th>\n",
       "      <td>257000</td>\n",
       "      <td>3</td>\n",
       "      <td>2.50</td>\n",
       "      <td>1740</td>\n",
       "      <td>2.0</td>\n",
       "      <td>0</td>\n",
       "      <td>0</td>\n",
       "      <td>3</td>\n",
       "      <td>8</td>\n",
       "      <td>0.0</td>\n",
       "      <td>0</td>\n",
       "      <td>5461</td>\n",
       "      <td>0</td>\n",
       "      <td>5</td>\n",
       "    </tr>\n",
       "    <tr>\n",
       "      <th>2</th>\n",
       "      <td>466000</td>\n",
       "      <td>2</td>\n",
       "      <td>1.50</td>\n",
       "      <td>1140</td>\n",
       "      <td>3.0</td>\n",
       "      <td>0</td>\n",
       "      <td>0</td>\n",
       "      <td>3</td>\n",
       "      <td>7</td>\n",
       "      <td>0.0</td>\n",
       "      <td>0</td>\n",
       "      <td>2198</td>\n",
       "      <td>0</td>\n",
       "      <td>9</td>\n",
       "    </tr>\n",
       "    <tr>\n",
       "      <th>3</th>\n",
       "      <td>1160000</td>\n",
       "      <td>4</td>\n",
       "      <td>3.50</td>\n",
       "      <td>4680</td>\n",
       "      <td>2.0</td>\n",
       "      <td>0</td>\n",
       "      <td>0</td>\n",
       "      <td>3</td>\n",
       "      <td>10</td>\n",
       "      <td>1.0</td>\n",
       "      <td>1</td>\n",
       "      <td>14380</td>\n",
       "      <td>0</td>\n",
       "      <td>9</td>\n",
       "    </tr>\n",
       "    <tr>\n",
       "      <th>4</th>\n",
       "      <td>449950</td>\n",
       "      <td>4</td>\n",
       "      <td>2.50</td>\n",
       "      <td>3100</td>\n",
       "      <td>2.0</td>\n",
       "      <td>0</td>\n",
       "      <td>0</td>\n",
       "      <td>3</td>\n",
       "      <td>9</td>\n",
       "      <td>0.0</td>\n",
       "      <td>1</td>\n",
       "      <td>13100</td>\n",
       "      <td>0</td>\n",
       "      <td>36</td>\n",
       "    </tr>\n",
       "  </tbody>\n",
       "</table>\n",
       "</div>"
      ],
      "text/plain": [
       "     price  room_bed  room_bath  living_measure  ceil  coast  sight  \\\n",
       "0   735000         4       2.75            3040   2.0      1      4   \n",
       "1   257000         3       2.50            1740   2.0      0      0   \n",
       "2   466000         2       1.50            1140   3.0      0      0   \n",
       "3  1160000         4       3.50            4680   2.0      0      0   \n",
       "4   449950         4       2.50            3100   2.0      0      0   \n",
       "\n",
       "   condition  quality  basement  furnished  total_area  renovated  \\\n",
       "0          3        8       0.0          0        5455          0   \n",
       "1          3        8       0.0          0        5461          0   \n",
       "2          3        7       0.0          0        2198          0   \n",
       "3          3       10       1.0          1       14380          0   \n",
       "4          3        9       0.0          1       13100          0   \n",
       "\n",
       "   building_age  \n",
       "0            48  \n",
       "1             5  \n",
       "2             9  \n",
       "3             9  \n",
       "4            36  "
      ]
     },
     "execution_count": 10,
     "metadata": {},
     "output_type": "execute_result"
    }
   ],
   "source": [
    "House_Price_Drop_lot_measure = House_Price_allvar[[\n",
    "'price', 'room_bed', 'room_bath','living_measure','ceil', 'coast', 'sight', 'condition', 'quality', 'basement',\n",
    "    'furnished','total_area','renovated', 'building_age'\n",
    "]]\n",
    "House_Price_Drop_lot_measure.head()"
   ]
  },
  {
   "cell_type": "code",
   "execution_count": 11,
   "id": "c270979e",
   "metadata": {
    "ExecuteTime": {
     "end_time": "2022-06-25T13:00:02.184765Z",
     "start_time": "2022-06-25T13:00:02.171800Z"
    }
   },
   "outputs": [],
   "source": [
    "f_2 = 'price~room_bed+room_bath+living_measure+ceil+coast+sight+condition+quality+basement+furnished+total_area+renovated+building_age'"
   ]
  },
  {
   "cell_type": "code",
   "execution_count": 12,
   "id": "d489106a",
   "metadata": {
    "ExecuteTime": {
     "end_time": "2022-06-25T13:00:02.328382Z",
     "start_time": "2022-06-25T13:00:02.189753Z"
    }
   },
   "outputs": [
    {
     "data": {
      "text/html": [
       "<table class=\"simpletable\">\n",
       "<caption>OLS Regression Results</caption>\n",
       "<tr>\n",
       "  <th>Dep. Variable:</th>          <td>price</td>      <th>  R-squared:         </th>  <td>   0.641</td>  \n",
       "</tr>\n",
       "<tr>\n",
       "  <th>Model:</th>                   <td>OLS</td>       <th>  Adj. R-squared:    </th>  <td>   0.641</td>  \n",
       "</tr>\n",
       "<tr>\n",
       "  <th>Method:</th>             <td>Least Squares</td>  <th>  F-statistic:       </th>  <td>   2925.</td>  \n",
       "</tr>\n",
       "<tr>\n",
       "  <th>Date:</th>             <td>Sat, 25 Jun 2022</td> <th>  Prob (F-statistic):</th>   <td>  0.00</td>   \n",
       "</tr>\n",
       "<tr>\n",
       "  <th>Time:</th>                 <td>18:30:02</td>     <th>  Log-Likelihood:    </th> <td>-2.9198e+05</td>\n",
       "</tr>\n",
       "<tr>\n",
       "  <th>No. Observations:</th>      <td> 21288</td>      <th>  AIC:               </th>  <td>5.840e+05</td> \n",
       "</tr>\n",
       "<tr>\n",
       "  <th>Df Residuals:</th>          <td> 21274</td>      <th>  BIC:               </th>  <td>5.841e+05</td> \n",
       "</tr>\n",
       "<tr>\n",
       "  <th>Df Model:</th>              <td>    13</td>      <th>                     </th>      <td> </td>     \n",
       "</tr>\n",
       "<tr>\n",
       "  <th>Covariance Type:</th>      <td>nonrobust</td>    <th>                     </th>      <td> </td>     \n",
       "</tr>\n",
       "</table>\n",
       "<table class=\"simpletable\">\n",
       "<tr>\n",
       "         <td></td>           <th>coef</th>     <th>std err</th>      <th>t</th>      <th>P>|t|</th>  <th>[0.025</th>    <th>0.975]</th>  \n",
       "</tr>\n",
       "<tr>\n",
       "  <th>Intercept</th>      <td> -1.08e+06</td> <td>    2e+04</td> <td>  -53.912</td> <td> 0.000</td> <td>-1.12e+06</td> <td>-1.04e+06</td>\n",
       "</tr>\n",
       "<tr>\n",
       "  <th>room_bed</th>       <td>-2.295e+04</td> <td> 2006.205</td> <td>  -11.439</td> <td> 0.000</td> <td>-2.69e+04</td> <td> -1.9e+04</td>\n",
       "</tr>\n",
       "<tr>\n",
       "  <th>room_bath</th>      <td> 7.527e+04</td> <td> 3453.080</td> <td>   21.799</td> <td> 0.000</td> <td> 6.85e+04</td> <td>  8.2e+04</td>\n",
       "</tr>\n",
       "<tr>\n",
       "  <th>living_measure</th> <td>  126.9285</td> <td>    3.152</td> <td>   40.265</td> <td> 0.000</td> <td>  120.750</td> <td>  133.107</td>\n",
       "</tr>\n",
       "<tr>\n",
       "  <th>ceil</th>           <td> 2.674e+04</td> <td> 3686.469</td> <td>    7.252</td> <td> 0.000</td> <td> 1.95e+04</td> <td>  3.4e+04</td>\n",
       "</tr>\n",
       "<tr>\n",
       "  <th>coast</th>          <td> 5.885e+05</td> <td> 1.91e+04</td> <td>   30.812</td> <td> 0.000</td> <td> 5.51e+05</td> <td> 6.26e+05</td>\n",
       "</tr>\n",
       "<tr>\n",
       "  <th>sight</th>          <td> 4.556e+04</td> <td> 2283.692</td> <td>   19.950</td> <td> 0.000</td> <td> 4.11e+04</td> <td>    5e+04</td>\n",
       "</tr>\n",
       "<tr>\n",
       "  <th>condition</th>      <td>     2e+04</td> <td> 2553.931</td> <td>    7.831</td> <td> 0.000</td> <td>  1.5e+04</td> <td>  2.5e+04</td>\n",
       "</tr>\n",
       "<tr>\n",
       "  <th>quality</th>        <td> 1.281e+05</td> <td> 2662.897</td> <td>   48.120</td> <td> 0.000</td> <td> 1.23e+05</td> <td> 1.33e+05</td>\n",
       "</tr>\n",
       "<tr>\n",
       "  <th>basement</th>       <td> 1.292e+04</td> <td> 3507.961</td> <td>    3.684</td> <td> 0.000</td> <td> 6047.498</td> <td> 1.98e+04</td>\n",
       "</tr>\n",
       "<tr>\n",
       "  <th>furnished</th>      <td> 4.893e+04</td> <td> 6304.495</td> <td>    7.762</td> <td> 0.000</td> <td> 3.66e+04</td> <td> 6.13e+04</td>\n",
       "</tr>\n",
       "<tr>\n",
       "  <th>total_area</th>     <td>   -0.2942</td> <td>    0.044</td> <td>   -6.704</td> <td> 0.000</td> <td>   -0.380</td> <td>   -0.208</td>\n",
       "</tr>\n",
       "<tr>\n",
       "  <th>renovated</th>      <td> 2.307e+05</td> <td> 7726.619</td> <td>   29.856</td> <td> 0.000</td> <td> 2.16e+05</td> <td> 2.46e+05</td>\n",
       "</tr>\n",
       "<tr>\n",
       "  <th>building_age</th>   <td> 3744.4413</td> <td>   73.543</td> <td>   50.915</td> <td> 0.000</td> <td> 3600.291</td> <td> 3888.592</td>\n",
       "</tr>\n",
       "</table>\n",
       "<table class=\"simpletable\">\n",
       "<tr>\n",
       "  <th>Omnibus:</th>       <td>16100.288</td> <th>  Durbin-Watson:     </th>  <td>   1.983</td>  \n",
       "</tr>\n",
       "<tr>\n",
       "  <th>Prob(Omnibus):</th>  <td> 0.000</td>   <th>  Jarque-Bera (JB):  </th> <td>1100419.049</td>\n",
       "</tr>\n",
       "<tr>\n",
       "  <th>Skew:</th>           <td> 3.058</td>   <th>  Prob(JB):          </th>  <td>    0.00</td>  \n",
       "</tr>\n",
       "<tr>\n",
       "  <th>Kurtosis:</th>       <td>37.687</td>   <th>  Cond. No.          </th>  <td>5.32e+05</td>  \n",
       "</tr>\n",
       "</table><br/><br/>Notes:<br/>[1] Standard Errors assume that the covariance matrix of the errors is correctly specified.<br/>[2] The condition number is large, 5.32e+05. This might indicate that there are<br/>strong multicollinearity or other numerical problems."
      ],
      "text/plain": [
       "<class 'statsmodels.iolib.summary.Summary'>\n",
       "\"\"\"\n",
       "                            OLS Regression Results                            \n",
       "==============================================================================\n",
       "Dep. Variable:                  price   R-squared:                       0.641\n",
       "Model:                            OLS   Adj. R-squared:                  0.641\n",
       "Method:                 Least Squares   F-statistic:                     2925.\n",
       "Date:                Sat, 25 Jun 2022   Prob (F-statistic):               0.00\n",
       "Time:                        18:30:02   Log-Likelihood:            -2.9198e+05\n",
       "No. Observations:               21288   AIC:                         5.840e+05\n",
       "Df Residuals:                   21274   BIC:                         5.841e+05\n",
       "Df Model:                          13                                         \n",
       "Covariance Type:            nonrobust                                         \n",
       "==================================================================================\n",
       "                     coef    std err          t      P>|t|      [0.025      0.975]\n",
       "----------------------------------------------------------------------------------\n",
       "Intercept       -1.08e+06      2e+04    -53.912      0.000   -1.12e+06   -1.04e+06\n",
       "room_bed       -2.295e+04   2006.205    -11.439      0.000   -2.69e+04    -1.9e+04\n",
       "room_bath       7.527e+04   3453.080     21.799      0.000    6.85e+04     8.2e+04\n",
       "living_measure   126.9285      3.152     40.265      0.000     120.750     133.107\n",
       "ceil            2.674e+04   3686.469      7.252      0.000    1.95e+04     3.4e+04\n",
       "coast           5.885e+05   1.91e+04     30.812      0.000    5.51e+05    6.26e+05\n",
       "sight           4.556e+04   2283.692     19.950      0.000    4.11e+04       5e+04\n",
       "condition           2e+04   2553.931      7.831      0.000     1.5e+04     2.5e+04\n",
       "quality         1.281e+05   2662.897     48.120      0.000    1.23e+05    1.33e+05\n",
       "basement        1.292e+04   3507.961      3.684      0.000    6047.498    1.98e+04\n",
       "furnished       4.893e+04   6304.495      7.762      0.000    3.66e+04    6.13e+04\n",
       "total_area        -0.2942      0.044     -6.704      0.000      -0.380      -0.208\n",
       "renovated       2.307e+05   7726.619     29.856      0.000    2.16e+05    2.46e+05\n",
       "building_age    3744.4413     73.543     50.915      0.000    3600.291    3888.592\n",
       "==============================================================================\n",
       "Omnibus:                    16100.288   Durbin-Watson:                   1.983\n",
       "Prob(Omnibus):                  0.000   Jarque-Bera (JB):          1100419.049\n",
       "Skew:                           3.058   Prob(JB):                         0.00\n",
       "Kurtosis:                      37.687   Cond. No.                     5.32e+05\n",
       "==============================================================================\n",
       "\n",
       "Notes:\n",
       "[1] Standard Errors assume that the covariance matrix of the errors is correctly specified.\n",
       "[2] The condition number is large, 5.32e+05. This might indicate that there are\n",
       "strong multicollinearity or other numerical problems.\n",
       "\"\"\""
      ]
     },
     "execution_count": 12,
     "metadata": {},
     "output_type": "execute_result"
    }
   ],
   "source": [
    "OLSmodel_2 = SM.ols(f_2,data=House_Price_Drop_lot_measure).fit()\n",
    "OLSmodel_2.summary()"
   ]
  },
  {
   "cell_type": "code",
   "execution_count": 13,
   "id": "d72e7e6b",
   "metadata": {
    "ExecuteTime": {
     "end_time": "2022-06-25T13:00:02.851981Z",
     "start_time": "2022-06-25T13:00:02.331374Z"
    }
   },
   "outputs": [
    {
     "name": "stdout",
     "output_type": "stream",
     "text": [
      "room_bed  VIF =  1.54\n",
      "room_bath  VIF =  3.13\n",
      "living_measure  VIF =  3.23\n",
      "ceil  VIF =  1.76\n",
      "coast  VIF =  1.2\n",
      "sight  VIF =  1.36\n",
      "condition  VIF =  1.22\n",
      "quality  VIF =  4.35\n",
      "basement  VIF =  1.29\n",
      "furnished  VIF =  2.79\n",
      "total_area  VIF =  1.07\n",
      "renovated  VIF =  1.06\n",
      "building_age  VIF =  2.0\n"
     ]
    }
   ],
   "source": [
    "vif_cal(input_data= House_Price_Drop_lot_measure.drop('price', axis=1))"
   ]
  },
  {
   "cell_type": "code",
   "execution_count": 14,
   "id": "db46e0ed",
   "metadata": {
    "ExecuteTime": {
     "end_time": "2022-06-25T13:00:02.867939Z",
     "start_time": "2022-06-25T13:00:02.856968Z"
    }
   },
   "outputs": [],
   "source": [
    "model_MLR_1_pred = OLSmodel_1.fittedvalues\n",
    "model_MLR_2_pred = OLSmodel_2.fittedvalues"
   ]
  },
  {
   "cell_type": "code",
   "execution_count": 15,
   "id": "6769a427",
   "metadata": {
    "ExecuteTime": {
     "end_time": "2022-06-25T13:00:02.883895Z",
     "start_time": "2022-06-25T13:00:02.870930Z"
    }
   },
   "outputs": [
    {
     "data": {
      "text/plain": [
       "218774.33439648466"
      ]
     },
     "execution_count": 15,
     "metadata": {},
     "output_type": "execute_result"
    }
   ],
   "source": [
    "from sklearn import metrics\n",
    "\n",
    "metrics.mean_squared_error(House_Price_allvar['price'], model_MLR_1_pred,squared=False)"
   ]
  },
  {
   "cell_type": "code",
   "execution_count": 16,
   "id": "c66c4467",
   "metadata": {
    "ExecuteTime": {
     "end_time": "2022-06-25T13:00:02.899853Z",
     "start_time": "2022-06-25T13:00:02.886887Z"
    }
   },
   "outputs": [
    {
     "data": {
      "text/plain": [
       "218972.56165284567"
      ]
     },
     "execution_count": 16,
     "metadata": {},
     "output_type": "execute_result"
    }
   ],
   "source": [
    "metrics.mean_squared_error(House_Price_Drop_lot_measure['price'], model_MLR_2_pred,squared=False)"
   ]
  },
  {
   "cell_type": "markdown",
   "id": "6751bb2a",
   "metadata": {},
   "source": [
    "## Machine Learning Models"
   ]
  },
  {
   "cell_type": "code",
   "execution_count": 17,
   "id": "1b596188",
   "metadata": {
    "ExecuteTime": {
     "end_time": "2022-06-25T13:00:02.915810Z",
     "start_time": "2022-06-25T13:00:02.902845Z"
    }
   },
   "outputs": [
    {
     "data": {
      "text/plain": [
       "Index(['price', 'room_bed', 'room_bath', 'living_measure', 'lot_measure',\n",
       "       'ceil', 'coast', 'sight', 'condition', 'quality', 'ceil_measure',\n",
       "       'basement', 'furnished', 'total_area', 'renovated', 'building_age'],\n",
       "      dtype='object')"
      ]
     },
     "execution_count": 17,
     "metadata": {},
     "output_type": "execute_result"
    }
   ],
   "source": [
    "house_price.columns"
   ]
  },
  {
   "cell_type": "code",
   "execution_count": 18,
   "id": "0d465a99",
   "metadata": {
    "ExecuteTime": {
     "end_time": "2022-06-25T13:00:02.930770Z",
     "start_time": "2022-06-25T13:00:02.918802Z"
    }
   },
   "outputs": [
    {
     "data": {
      "text/plain": [
       "(21288, 16)"
      ]
     },
     "execution_count": 18,
     "metadata": {},
     "output_type": "execute_result"
    }
   ],
   "source": [
    "house_price.shape"
   ]
  },
  {
   "cell_type": "code",
   "execution_count": 19,
   "id": "0b52b124",
   "metadata": {
    "ExecuteTime": {
     "end_time": "2022-06-25T13:00:02.946727Z",
     "start_time": "2022-06-25T13:00:02.933762Z"
    }
   },
   "outputs": [],
   "source": [
    "# Copy all the predictor variables into X dataframe\n",
    "X = house_price.drop('price', axis=1)\n",
    "\n",
    "# Copy target into the y dataframe. \n",
    "y = house_price[['price']]"
   ]
  },
  {
   "cell_type": "code",
   "execution_count": 20,
   "id": "d4089811",
   "metadata": {
    "ExecuteTime": {
     "end_time": "2022-06-25T13:00:02.977644Z",
     "start_time": "2022-06-25T13:00:02.950716Z"
    }
   },
   "outputs": [],
   "source": [
    "#Splitting the dataset into the traing set and test set\n",
    "from sklearn.model_selection import train_test_split\n",
    "\n",
    "X_train, X_test, y_train, y_test = train_test_split(X, y, test_size=0.3, random_state=1)"
   ]
  },
  {
   "cell_type": "code",
   "execution_count": 21,
   "id": "0d10eab3",
   "metadata": {
    "ExecuteTime": {
     "end_time": "2022-06-25T13:00:02.993602Z",
     "start_time": "2022-06-25T13:00:02.980636Z"
    }
   },
   "outputs": [],
   "source": [
    "# to perform hyperparameter tuning\n",
    "from sklearn.model_selection import GridSearchCV\n",
    "from sklearn.model_selection import RandomizedSearchCV\n",
    "\n",
    "from sklearn.linear_model import Ridge  # Linear Regression + L2 regularization\n",
    "from sklearn.linear_model import Lasso  # Linear Regression + L1 regularization\n",
    "from sklearn.svm import SVR # Support Vector Regressor\n",
    "from sklearn.ensemble import RandomForestRegressor\n",
    "from sklearn.neighbors import KNeighborsRegressor \n",
    "from sklearn.model_selection import train_test_split\n",
    "from sklearn.tree import DecisionTreeRegressor\n",
    "\n",
    "# Evaluation Metrics\n",
    "from math import sqrt\n",
    "from sklearn.metrics import r2_score\n",
    "from sklearn.metrics import mean_squared_error as mse\n",
    "from sklearn.metrics import r2_score as rs\n",
    "from sklearn.metrics import mean_absolute_percentage_error\n",
    "\n",
    "#import xgboost\n",
    "from xgboost import XGBRegressor\n",
    "from xgboost import plot_importance  # to plot feature importance"
   ]
  },
  {
   "cell_type": "markdown",
   "id": "542859d7",
   "metadata": {},
   "source": [
    "### Linear Reg"
   ]
  },
  {
   "cell_type": "code",
   "execution_count": 22,
   "id": "8de24c76",
   "metadata": {
    "ExecuteTime": {
     "end_time": "2022-06-25T13:00:03.025516Z",
     "start_time": "2022-06-25T13:00:02.996594Z"
    }
   },
   "outputs": [
    {
     "data": {
      "text/plain": [
       "LinearRegression()"
      ]
     },
     "execution_count": 22,
     "metadata": {},
     "output_type": "execute_result"
    }
   ],
   "source": [
    "# Created a linear model\n",
    "LR_model=LinearRegression()\n",
    "LR_model.fit(X_train,y_train)"
   ]
  },
  {
   "cell_type": "code",
   "execution_count": 23,
   "id": "c266c47f",
   "metadata": {
    "ExecuteTime": {
     "end_time": "2022-06-25T13:00:03.057462Z",
     "start_time": "2022-06-25T13:00:03.027511Z"
    }
   },
   "outputs": [],
   "source": [
    "## Predict Train results\n",
    "y_train_pred = LR_model.predict(X_train)\n",
    "\n",
    "## Predict Test results\n",
    "y_pred = LR_model.predict(X_test)"
   ]
  },
  {
   "cell_type": "code",
   "execution_count": 24,
   "id": "613a2a26",
   "metadata": {
    "ExecuteTime": {
     "end_time": "2022-06-25T13:00:03.089345Z",
     "start_time": "2022-06-25T13:00:03.060423Z"
    }
   },
   "outputs": [
    {
     "name": "stdout",
     "output_type": "stream",
     "text": [
      "Train Results for MultiLinear Regression:\n",
      "*******************************\n",
      "Root mean squared error:  219827.71250717045\n",
      "R-squared:  0.6460459117961375\n",
      "Mean Absolute Percentage Error:  0.2943065660232412\n"
     ]
    }
   ],
   "source": [
    "LR_RMSE_Train = metrics.mean_squared_error(y_train.values, y_train_pred,squared=False)\n",
    "LR_R2_Train = metrics.r2_score(y_train.values, y_train_pred) \n",
    "LR_MAPE_Train = metrics.mean_absolute_percentage_error(y_train.values, y_train_pred) \n",
    "\n",
    "print(\"Train Results for MultiLinear Regression:\")\n",
    "print(\"*******************************\")\n",
    "print(\"Root mean squared error: \", sqrt(mse(y_train.values, y_train_pred)))\n",
    "print(\"R-squared: \", r2_score(y_train.values, y_train_pred))\n",
    "print(\"Mean Absolute Percentage Error: \", mean_absolute_percentage_error(y_train.values, y_train_pred))"
   ]
  },
  {
   "cell_type": "code",
   "execution_count": 25,
   "id": "4784900d",
   "metadata": {
    "ExecuteTime": {
     "end_time": "2022-06-25T13:00:03.121261Z",
     "start_time": "2022-06-25T13:00:03.092338Z"
    }
   },
   "outputs": [
    {
     "data": {
      "text/html": [
       "<div>\n",
       "<style scoped>\n",
       "    .dataframe tbody tr th:only-of-type {\n",
       "        vertical-align: middle;\n",
       "    }\n",
       "\n",
       "    .dataframe tbody tr th {\n",
       "        vertical-align: top;\n",
       "    }\n",
       "\n",
       "    .dataframe thead th {\n",
       "        text-align: right;\n",
       "    }\n",
       "</style>\n",
       "<table border=\"1\" class=\"dataframe\">\n",
       "  <thead>\n",
       "    <tr style=\"text-align: right;\">\n",
       "      <th></th>\n",
       "      <th>Model</th>\n",
       "      <th>RMSE</th>\n",
       "      <th>Adjusted_r_2</th>\n",
       "      <th>MAPE</th>\n",
       "    </tr>\n",
       "  </thead>\n",
       "  <tbody>\n",
       "    <tr>\n",
       "      <th>0</th>\n",
       "      <td>MultiLinear Reg Train</td>\n",
       "      <td>219827.712507</td>\n",
       "      <td>0.646046</td>\n",
       "      <td>0.294307</td>\n",
       "    </tr>\n",
       "  </tbody>\n",
       "</table>\n",
       "</div>"
      ],
      "text/plain": [
       "                   Model           RMSE  Adjusted_r_2      MAPE\n",
       "0  MultiLinear Reg Train  219827.712507      0.646046  0.294307"
      ]
     },
     "execution_count": 25,
     "metadata": {},
     "output_type": "execute_result"
    }
   ],
   "source": [
    "results_train = pd.DataFrame([['MultiLinear Reg Train', LR_RMSE_Train, LR_R2_Train, LR_MAPE_Train]],\n",
    "               columns = ['Model', 'RMSE', 'Adjusted_r_2', 'MAPE'])\n",
    "results_train"
   ]
  },
  {
   "cell_type": "code",
   "execution_count": 26,
   "id": "f9ed7cc4",
   "metadata": {
    "ExecuteTime": {
     "end_time": "2022-06-25T13:00:03.153177Z",
     "start_time": "2022-06-25T13:00:03.124252Z"
    }
   },
   "outputs": [
    {
     "name": "stdout",
     "output_type": "stream",
     "text": [
      "Test Results for MultiLinear Regression:\n",
      "*******************************\n",
      "Root mean squared error:  216637.4420132624\n",
      "R-squared:  0.630326219739109\n",
      "Mean Absolute Percentage Error:  0.2935382169710143\n"
     ]
    }
   ],
   "source": [
    "#entering metrics score to the metics dataframe\n",
    "LR_RMSE_Test = metrics.mean_squared_error(y_test, y_pred,squared=False)\n",
    "LR_R2_Test = metrics.r2_score(y_test, y_pred) \n",
    "LR_MAPE_Test = metrics.mean_absolute_percentage_error(y_test, y_pred) \n",
    "\n",
    "\n",
    "print(\"Test Results for MultiLinear Regression:\")\n",
    "print(\"*******************************\")\n",
    "print(\"Root mean squared error: \", sqrt(mse(y_test, y_pred)))\n",
    "print(\"R-squared: \", r2_score(y_test, y_pred))\n",
    "print(\"Mean Absolute Percentage Error: \", mean_absolute_percentage_error(y_test, y_pred))"
   ]
  },
  {
   "cell_type": "code",
   "execution_count": 27,
   "id": "244ee03c",
   "metadata": {
    "ExecuteTime": {
     "end_time": "2022-06-25T13:00:03.185090Z",
     "start_time": "2022-06-25T13:00:03.156167Z"
    }
   },
   "outputs": [
    {
     "data": {
      "text/html": [
       "<div>\n",
       "<style scoped>\n",
       "    .dataframe tbody tr th:only-of-type {\n",
       "        vertical-align: middle;\n",
       "    }\n",
       "\n",
       "    .dataframe tbody tr th {\n",
       "        vertical-align: top;\n",
       "    }\n",
       "\n",
       "    .dataframe thead th {\n",
       "        text-align: right;\n",
       "    }\n",
       "</style>\n",
       "<table border=\"1\" class=\"dataframe\">\n",
       "  <thead>\n",
       "    <tr style=\"text-align: right;\">\n",
       "      <th></th>\n",
       "      <th>Model</th>\n",
       "      <th>RMSE</th>\n",
       "      <th>Adjusted_r_2</th>\n",
       "      <th>MAPE</th>\n",
       "    </tr>\n",
       "  </thead>\n",
       "  <tbody>\n",
       "    <tr>\n",
       "      <th>0</th>\n",
       "      <td>MultiLinear Reg Test</td>\n",
       "      <td>216637.442013</td>\n",
       "      <td>0.630326</td>\n",
       "      <td>0.293538</td>\n",
       "    </tr>\n",
       "  </tbody>\n",
       "</table>\n",
       "</div>"
      ],
      "text/plain": [
       "                  Model           RMSE  Adjusted_r_2      MAPE\n",
       "0  MultiLinear Reg Test  216637.442013      0.630326  0.293538"
      ]
     },
     "execution_count": 27,
     "metadata": {},
     "output_type": "execute_result"
    }
   ],
   "source": [
    "results_test = pd.DataFrame([['MultiLinear Reg Test', LR_RMSE_Test, LR_R2_Test, LR_MAPE_Test]],\n",
    "               columns = ['Model', 'RMSE', 'Adjusted_r_2', 'MAPE'])\n",
    "results_test"
   ]
  },
  {
   "cell_type": "code",
   "execution_count": 28,
   "id": "56b5c2be",
   "metadata": {
    "ExecuteTime": {
     "end_time": "2022-06-25T13:00:03.407494Z",
     "start_time": "2022-06-25T13:00:03.189079Z"
    }
   },
   "outputs": [
    {
     "name": "stdout",
     "output_type": "stream",
     "text": [
      "[0.65364522 0.64226535 0.65890947 0.61090368 0.66674257 0.65867588\n",
      " 0.67755824 0.65668087 0.58162839 0.61280035]\n",
      "Accuracy: 0.642% (2.873%)\n"
     ]
    }
   ],
   "source": [
    "#KFold cross validation\n",
    "from sklearn.model_selection import KFold\n",
    "from sklearn.model_selection import cross_val_score\n",
    "kfold = KFold(n_splits=10)\n",
    "results = cross_val_score(LR_model, X_train, y_train, cv=kfold)\n",
    "print(results)\n",
    "accu_k_lr=results.mean()\n",
    "print(\"Accuracy: %.3f%% (%.3f%%)\" % (accu_k_lr, results.std()*100.0))"
   ]
  },
  {
   "cell_type": "markdown",
   "id": "c195a473",
   "metadata": {},
   "source": [
    "### Random Forest Regression"
   ]
  },
  {
   "cell_type": "code",
   "execution_count": 29,
   "id": "0f99b1b8",
   "metadata": {
    "ExecuteTime": {
     "end_time": "2022-06-25T13:00:15.861731Z",
     "start_time": "2022-06-25T13:00:03.410486Z"
    }
   },
   "outputs": [
    {
     "data": {
      "text/plain": [
       "RandomForestRegressor()"
      ]
     },
     "execution_count": 29,
     "metadata": {},
     "output_type": "execute_result"
    }
   ],
   "source": [
    "#created a Random forest model\n",
    "RF_model=RandomForestRegressor()\n",
    "RF_model.fit(X_train,y_train)"
   ]
  },
  {
   "cell_type": "code",
   "execution_count": 30,
   "id": "cd8b82cb",
   "metadata": {
    "ExecuteTime": {
     "end_time": "2022-06-25T13:00:16.911923Z",
     "start_time": "2022-06-25T13:00:15.868713Z"
    }
   },
   "outputs": [
    {
     "name": "stdout",
     "output_type": "stream",
     "text": [
      "Performance on training data using Random Forest: 0.9617565903819678\n",
      "Performance on testing data using Random Forest: 0.7069175992233969\n",
      "Accuracy RF:  0.7069175992233969\n",
      "MSE:  37208154500.86364\n",
      "MAE: 121857.3146361446\n"
     ]
    }
   ],
   "source": [
    "y_pred = RF_model.predict(X_test)\n",
    "print('Performance on training data using Random Forest:',RF_model.score(X_train,y_train))\n",
    "print('Performance on testing data using Random Forest:',RF_model.score(X_test,y_test))\n",
    "acc_RF=metrics.r2_score(y_test, y_pred)\n",
    "print('Accuracy RF: ',acc_RF)\n",
    "print('MSE: ',metrics.mean_squared_error(y_test, y_pred))\n",
    "print('MAE:',metrics.mean_absolute_error(y_test,y_pred))"
   ]
  },
  {
   "cell_type": "code",
   "execution_count": 31,
   "id": "be346afc",
   "metadata": {
    "ExecuteTime": {
     "end_time": "2022-06-25T13:02:34.828767Z",
     "start_time": "2022-06-25T13:00:16.915914Z"
    }
   },
   "outputs": [
    {
     "name": "stdout",
     "output_type": "stream",
     "text": [
      "CPU times: total: 22.8 s\n",
      "Wall time: 2min 17s\n"
     ]
    },
    {
     "data": {
      "text/plain": [
       "RandomizedSearchCV(cv=5, estimator=RandomForestRegressor(), n_jobs=-1,\n",
       "                   param_distributions={'max_depth': [3, 7, 9, 11, 13],\n",
       "                                        'max_features': [4, 5, 6, 7],\n",
       "                                        'min_samples_leaf': [3, 4, 5],\n",
       "                                        'min_samples_split': [2, 5, 10, 12, 13],\n",
       "                                        'n_estimators': [400, 500, 600, 700,\n",
       "                                                         800, 1000]},\n",
       "                   scoring='neg_mean_absolute_error')"
      ]
     },
     "execution_count": 31,
     "metadata": {},
     "output_type": "execute_result"
    }
   ],
   "source": [
    "%%time\n",
    "tuned_params = {\n",
    "        'n_estimators': [400, 500, 600, 700, 800,1000],\n",
    "    'max_features': [4,5,6,7],\n",
    "    'min_samples_split': [2, 5, 10, 12, 13],\n",
    "    'min_samples_leaf': [3, 4, 5],\n",
    "    'max_depth': [3, 7, 9, 11, 13],\n",
    "}\n",
    "\n",
    "rf_model = RandomizedSearchCV(RandomForestRegressor(), tuned_params, scoring = 'neg_mean_absolute_error', cv=5, n_jobs=-1)\n",
    "\n",
    "rf_model.fit(X_train, y_train)"
   ]
  },
  {
   "cell_type": "code",
   "execution_count": 32,
   "id": "62280e37",
   "metadata": {
    "ExecuteTime": {
     "end_time": "2022-06-25T13:02:34.844725Z",
     "start_time": "2022-06-25T13:02:34.831759Z"
    }
   },
   "outputs": [
    {
     "data": {
      "text/plain": [
       "RandomForestRegressor(max_depth=11, max_features=5, min_samples_leaf=3,\n",
       "                      min_samples_split=5, n_estimators=1000)"
      ]
     },
     "execution_count": 32,
     "metadata": {},
     "output_type": "execute_result"
    }
   ],
   "source": [
    "rf_model.best_estimator_"
   ]
  },
  {
   "cell_type": "code",
   "execution_count": 33,
   "id": "b54109fc",
   "metadata": {
    "ExecuteTime": {
     "end_time": "2022-06-25T13:02:36.932186Z",
     "start_time": "2022-06-25T13:02:34.847713Z"
    }
   },
   "outputs": [],
   "source": [
    "## Predict Train results\n",
    "y_train_pred = rf_model.predict(X_train)"
   ]
  },
  {
   "cell_type": "code",
   "execution_count": 34,
   "id": "d755aa55",
   "metadata": {
    "ExecuteTime": {
     "end_time": "2022-06-25T13:02:38.012991Z",
     "start_time": "2022-06-25T13:02:36.935128Z"
    }
   },
   "outputs": [],
   "source": [
    "## Predict Test results\n",
    "y_pred = rf_model.predict(X_test)"
   ]
  },
  {
   "cell_type": "code",
   "execution_count": 35,
   "id": "75a94220",
   "metadata": {
    "ExecuteTime": {
     "end_time": "2022-06-25T13:02:38.044916Z",
     "start_time": "2022-06-25T13:02:38.017021Z"
    }
   },
   "outputs": [
    {
     "name": "stdout",
     "output_type": "stream",
     "text": [
      "Train Results for Random Forest Regression:\n",
      "*******************************\n",
      "Root mean squared error:  153558.40408647357\n",
      "R-squared:  0.8272853283933287\n",
      "Mean Absolute Percentage Error:  0.22787853346205858\n"
     ]
    }
   ],
   "source": [
    "#entering metrics score to the metics dataframe\n",
    "RF_RMSE_Train = metrics.mean_squared_error(y_train.values, y_train_pred,squared=False)\n",
    "RF_R2_Train = metrics.r2_score(y_train.values, y_train_pred) \n",
    "RF_MAPE_Train = metrics.mean_absolute_percentage_error(y_train.values, y_train_pred) \n",
    "\n",
    "print(\"Train Results for Random Forest Regression:\")\n",
    "print(\"*******************************\")\n",
    "print(\"Root mean squared error: \", sqrt(mse(y_train.values, y_train_pred)))\n",
    "print(\"R-squared: \", r2_score(y_train.values, y_train_pred))\n",
    "print(\"Mean Absolute Percentage Error: \", mean_absolute_percentage_error(y_train.values, y_train_pred))"
   ]
  },
  {
   "cell_type": "code",
   "execution_count": 36,
   "id": "ac087dae",
   "metadata": {
    "ExecuteTime": {
     "end_time": "2022-06-25T13:02:39.224096Z",
     "start_time": "2022-06-25T13:02:38.047909Z"
    }
   },
   "outputs": [
    {
     "data": {
      "text/html": [
       "<div>\n",
       "<style scoped>\n",
       "    .dataframe tbody tr th:only-of-type {\n",
       "        vertical-align: middle;\n",
       "    }\n",
       "\n",
       "    .dataframe tbody tr th {\n",
       "        vertical-align: top;\n",
       "    }\n",
       "\n",
       "    .dataframe thead th {\n",
       "        text-align: right;\n",
       "    }\n",
       "</style>\n",
       "<table border=\"1\" class=\"dataframe\">\n",
       "  <thead>\n",
       "    <tr style=\"text-align: right;\">\n",
       "      <th></th>\n",
       "      <th>Model</th>\n",
       "      <th>RMSE</th>\n",
       "      <th>Adjusted_r_2</th>\n",
       "      <th>MAPE</th>\n",
       "    </tr>\n",
       "  </thead>\n",
       "  <tbody>\n",
       "    <tr>\n",
       "      <th>0</th>\n",
       "      <td>MultiLinear Reg Train</td>\n",
       "      <td>219827.712507</td>\n",
       "      <td>0.646046</td>\n",
       "      <td>0.294307</td>\n",
       "    </tr>\n",
       "    <tr>\n",
       "      <th>1</th>\n",
       "      <td>Random Forest Train</td>\n",
       "      <td>153558.404086</td>\n",
       "      <td>0.827285</td>\n",
       "      <td>0.227879</td>\n",
       "    </tr>\n",
       "  </tbody>\n",
       "</table>\n",
       "</div>"
      ],
      "text/plain": [
       "                   Model           RMSE  Adjusted_r_2      MAPE\n",
       "0  MultiLinear Reg Train  219827.712507      0.646046  0.294307\n",
       "1    Random Forest Train  153558.404086      0.827285  0.227879"
      ]
     },
     "execution_count": 36,
     "metadata": {},
     "output_type": "execute_result"
    }
   ],
   "source": [
    "model_results = pd.DataFrame([['Random Forest Train', RF_RMSE_Train, RF_R2_Train, RF_MAPE_Train]],\n",
    "               columns = ['Model', 'RMSE', 'Adjusted_r_2', 'MAPE'])\n",
    "\n",
    "results_train = results_train.append(model_results, ignore_index = True)\n",
    "results_train"
   ]
  },
  {
   "cell_type": "code",
   "execution_count": 37,
   "id": "29166cd6",
   "metadata": {
    "ExecuteTime": {
     "end_time": "2022-06-25T13:02:39.255013Z",
     "start_time": "2022-06-25T13:02:39.228086Z"
    }
   },
   "outputs": [
    {
     "name": "stdout",
     "output_type": "stream",
     "text": [
      "Test Results for Random Forest Regression:\n",
      "*******************************\n",
      "Root mean squared error:  192314.2535739297\n",
      "R-squared:  0.7086771447611129\n",
      "Mean Absolute Percentage Error:  0.2594959590654819\n"
     ]
    }
   ],
   "source": [
    "#entering metrics score to the metics dataframe\n",
    "RF_RMSE_Test = metrics.mean_squared_error(y_test, y_pred,squared=False)\n",
    "RF_R2_Test = metrics.r2_score(y_test, y_pred) \n",
    "RF_MAPE_Test = metrics.mean_absolute_percentage_error(y_test, y_pred) \n",
    "\n",
    "\n",
    "print(\"Test Results for Random Forest Regression:\")\n",
    "print(\"*******************************\")\n",
    "print(\"Root mean squared error: \", sqrt(mse(y_test, y_pred)))\n",
    "print(\"R-squared: \", r2_score(y_test, y_pred))\n",
    "print(\"Mean Absolute Percentage Error: \", mean_absolute_percentage_error(y_test, y_pred))"
   ]
  },
  {
   "cell_type": "code",
   "execution_count": 38,
   "id": "483ec228",
   "metadata": {
    "ExecuteTime": {
     "end_time": "2022-06-25T13:02:39.302889Z",
     "start_time": "2022-06-25T13:02:39.258008Z"
    }
   },
   "outputs": [
    {
     "data": {
      "text/html": [
       "<div>\n",
       "<style scoped>\n",
       "    .dataframe tbody tr th:only-of-type {\n",
       "        vertical-align: middle;\n",
       "    }\n",
       "\n",
       "    .dataframe tbody tr th {\n",
       "        vertical-align: top;\n",
       "    }\n",
       "\n",
       "    .dataframe thead th {\n",
       "        text-align: right;\n",
       "    }\n",
       "</style>\n",
       "<table border=\"1\" class=\"dataframe\">\n",
       "  <thead>\n",
       "    <tr style=\"text-align: right;\">\n",
       "      <th></th>\n",
       "      <th>Model</th>\n",
       "      <th>RMSE</th>\n",
       "      <th>Adjusted_r_2</th>\n",
       "      <th>MAPE</th>\n",
       "    </tr>\n",
       "  </thead>\n",
       "  <tbody>\n",
       "    <tr>\n",
       "      <th>0</th>\n",
       "      <td>MultiLinear Reg Test</td>\n",
       "      <td>216637.442013</td>\n",
       "      <td>0.630326</td>\n",
       "      <td>0.293538</td>\n",
       "    </tr>\n",
       "    <tr>\n",
       "      <th>1</th>\n",
       "      <td>Random Forest Test</td>\n",
       "      <td>192314.253574</td>\n",
       "      <td>0.708677</td>\n",
       "      <td>0.259496</td>\n",
       "    </tr>\n",
       "  </tbody>\n",
       "</table>\n",
       "</div>"
      ],
      "text/plain": [
       "                  Model           RMSE  Adjusted_r_2      MAPE\n",
       "0  MultiLinear Reg Test  216637.442013      0.630326  0.293538\n",
       "1    Random Forest Test  192314.253574      0.708677  0.259496"
      ]
     },
     "execution_count": 38,
     "metadata": {},
     "output_type": "execute_result"
    }
   ],
   "source": [
    "model_results = pd.DataFrame([['Random Forest Test', RF_RMSE_Test, RF_R2_Test, RF_MAPE_Test]],\n",
    "               columns = ['Model', 'RMSE', 'Adjusted_r_2', 'MAPE'])\n",
    "\n",
    "results_test = results_test.append(model_results, ignore_index = True)\n",
    "results_test"
   ]
  },
  {
   "cell_type": "markdown",
   "id": "dedb3a51",
   "metadata": {},
   "source": [
    "##### Feature Importance"
   ]
  },
  {
   "cell_type": "code",
   "execution_count": 39,
   "id": "78b5ee17",
   "metadata": {
    "ExecuteTime": {
     "end_time": "2022-06-25T13:03:10.167325Z",
     "start_time": "2022-06-25T13:02:39.305885Z"
    }
   },
   "outputs": [
    {
     "data": {
      "text/plain": [
       "RandomForestRegressor(max_depth=11, max_features=7, min_samples_leaf=3,\n",
       "                      min_samples_split=5, n_estimators=1000)"
      ]
     },
     "execution_count": 39,
     "metadata": {},
     "output_type": "execute_result"
    }
   ],
   "source": [
    "## Building the model again with the best hyperparameters\n",
    "rf_model = RandomForestRegressor(min_samples_split=5,\n",
    "                                 n_estimators=1000,\n",
    "                                 max_depth=11,\n",
    "                                 max_features=7,\n",
    "                                 min_samples_leaf=3)\n",
    "rf_model.fit(X_train, y_train)"
   ]
  },
  {
   "cell_type": "code",
   "execution_count": 40,
   "id": "7a25158f",
   "metadata": {
    "ExecuteTime": {
     "end_time": "2022-06-25T13:03:10.372940Z",
     "start_time": "2022-06-25T13:03:10.170295Z"
    }
   },
   "outputs": [
    {
     "data": {
      "text/plain": [
       "quality           0.308529\n",
       "living_measure    0.177683\n",
       "furnished         0.145278\n",
       "room_bath         0.081725\n",
       "building_age      0.067785\n",
       "ceil_measure      0.041845\n",
       "sight             0.037031\n",
       "coast             0.030753\n",
       "lot_measure       0.026352\n",
       "total_area        0.023342\n",
       "basement          0.019850\n",
       "renovated         0.015592\n",
       "condition         0.012504\n",
       "room_bed          0.006686\n",
       "ceil              0.005043\n",
       "dtype: float64"
      ]
     },
     "execution_count": 40,
     "metadata": {},
     "output_type": "execute_result"
    }
   ],
   "source": [
    "pd.Series(rf_model.feature_importances_,index=X_train.columns).sort_values(ascending=False)"
   ]
  },
  {
   "cell_type": "code",
   "execution_count": 41,
   "id": "4c261041",
   "metadata": {
    "ExecuteTime": {
     "end_time": "2022-06-25T13:03:11.390297Z",
     "start_time": "2022-06-25T13:03:10.375932Z"
    }
   },
   "outputs": [
    {
     "data": {
      "image/png": "[encoded data removed]",
      "text/plain": [
       "<Figure size 576x396 with 1 Axes>"
      ]
     },
     "metadata": {},
     "output_type": "display_data"
    },
    {
     "data": {
      "text/plain": [
       "<AxesSubplot:title={'center':'Feature Importances of 15 Features using RandomForestRegressor'}, xlabel='relative importance'>"
      ]
     },
     "execution_count": 41,
     "metadata": {},
     "output_type": "execute_result"
    }
   ],
   "source": [
    "from yellowbrick.model_selection import FeatureImportances\n",
    "\n",
    "viz = FeatureImportances(rf_model)\n",
    "viz.fit(X, y)\n",
    "viz.show()"
   ]
  },
  {
   "cell_type": "markdown",
   "id": "21e479f3",
   "metadata": {},
   "source": [
    "### Descision Tree Regression"
   ]
  },
  {
   "cell_type": "code",
   "execution_count": 42,
   "id": "2374dcde",
   "metadata": {
    "ExecuteTime": {
     "end_time": "2022-06-25T13:03:11.706459Z",
     "start_time": "2022-06-25T13:03:11.392270Z"
    }
   },
   "outputs": [
    {
     "data": {
      "text/plain": [
       "DecisionTreeRegressor()"
      ]
     },
     "execution_count": 42,
     "metadata": {},
     "output_type": "execute_result"
    }
   ],
   "source": [
    "#Created a Decision Tree model\n",
    "dt_model = DecisionTreeRegressor()\n",
    "dt_model.fit(X_train , y_train)"
   ]
  },
  {
   "cell_type": "code",
   "execution_count": 43,
   "id": "c410d8ae",
   "metadata": {
    "ExecuteTime": {
     "end_time": "2022-06-25T13:03:11.770259Z",
     "start_time": "2022-06-25T13:03:11.709425Z"
    }
   },
   "outputs": [
    {
     "name": "stdout",
     "output_type": "stream",
     "text": [
      "Performance on training data using Decision Tree: 0.9999088043991257\n",
      "Performance on testing data using Decison Tree: 0.43100240848470095\n",
      "Accuracy DT:  0.43100240848470095\n",
      "MSE:  72236852979.30269\n",
      "MAE: 166988.35063410053\n"
     ]
    }
   ],
   "source": [
    "y_pred = dt_model.predict(X_test)\n",
    "print('Performance on training data using Decision Tree:',dt_model.score(X_train,y_train))\n",
    "print('Performance on testing data using Decison Tree:',dt_model.score(X_test,y_test))\n",
    "acc_DT=metrics.r2_score(y_test, y_pred)\n",
    "print('Accuracy DT: ',acc_DT)\n",
    "print('MSE: ',metrics.mean_squared_error(y_test, y_pred))\n",
    "print('MAE:',metrics.mean_absolute_error(y_test,y_pred))"
   ]
  },
  {
   "cell_type": "code",
   "execution_count": 44,
   "id": "2445514a",
   "metadata": {
    "ExecuteTime": {
     "end_time": "2022-06-25T13:03:16.868703Z",
     "start_time": "2022-06-25T13:03:11.773250Z"
    }
   },
   "outputs": [
    {
     "data": {
      "text/plain": [
       "GridSearchCV(cv=10, estimator=DecisionTreeRegressor(), n_jobs=-1,\n",
       "             param_grid={'max_depth': [8, 9, 10], 'min_samples_leaf': [3, 4, 5],\n",
       "                         'min_samples_split': [7, 9, 11]},\n",
       "             scoring='neg_mean_absolute_error')"
      ]
     },
     "execution_count": 44,
     "metadata": {},
     "output_type": "execute_result"
    }
   ],
   "source": [
    "#reducing overfitting\n",
    "tuned_params = {\n",
    "    'min_samples_split': [ 7, 9 , 11], \n",
    "    'min_samples_leaf': [3,4,5], \n",
    "    'max_depth': [8, 9, 10]\n",
    "}\n",
    "\n",
    "dt_model = GridSearchCV(DecisionTreeRegressor(), tuned_params, scoring = 'neg_mean_absolute_error', cv=10, n_jobs=-1)\n",
    "\n",
    "dt_model.fit(X_train, y_train)"
   ]
  },
  {
   "cell_type": "code",
   "execution_count": 45,
   "id": "9c5cccc8",
   "metadata": {
    "ExecuteTime": {
     "end_time": "2022-06-25T13:03:16.884661Z",
     "start_time": "2022-06-25T13:03:16.871696Z"
    }
   },
   "outputs": [
    {
     "data": {
      "text/plain": [
       "DecisionTreeRegressor(max_depth=9, min_samples_leaf=3, min_samples_split=9)"
      ]
     },
     "execution_count": 45,
     "metadata": {},
     "output_type": "execute_result"
    }
   ],
   "source": [
    "dt_model.best_estimator_"
   ]
  },
  {
   "cell_type": "code",
   "execution_count": 46,
   "id": "0f24cebc",
   "metadata": {
    "ExecuteTime": {
     "end_time": "2022-06-25T13:03:16.900618Z",
     "start_time": "2022-06-25T13:03:16.886656Z"
    }
   },
   "outputs": [],
   "source": [
    "## Predict Train results\n",
    "y_train_pred = dt_model.predict(X_train)"
   ]
  },
  {
   "cell_type": "code",
   "execution_count": 47,
   "id": "c2542c60",
   "metadata": {
    "ExecuteTime": {
     "end_time": "2022-06-25T13:03:16.916576Z",
     "start_time": "2022-06-25T13:03:16.902613Z"
    }
   },
   "outputs": [],
   "source": [
    "## Predict Test results\n",
    "y_pred = dt_model.predict(X_test)"
   ]
  },
  {
   "cell_type": "code",
   "execution_count": 48,
   "id": "82994633",
   "metadata": {
    "ExecuteTime": {
     "end_time": "2022-06-25T13:03:16.947501Z",
     "start_time": "2022-06-25T13:03:16.918569Z"
    }
   },
   "outputs": [
    {
     "name": "stdout",
     "output_type": "stream",
     "text": [
      "Train Results for Decision Tree Regression:\n",
      "*******************************\n",
      "Root mean squared error:  172733.1770739317\n",
      "R-squared:  0.7814586741708324\n",
      "Mean Absolute Percentage Error:  0.2454951100082352\n"
     ]
    }
   ],
   "source": [
    "#entering metrics score to the metics dataframe\n",
    "DT_RMSE_Train = metrics.mean_squared_error(y_train.values, y_train_pred,squared=False) \n",
    "DT_R2_Train = metrics.r2_score(y_train.values, y_train_pred) \n",
    "DT_MAPE_Train = metrics.mean_absolute_percentage_error(y_train.values, y_train_pred) \n",
    "\n",
    "\n",
    "print(\"Train Results for Decision Tree Regression:\")\n",
    "print(\"*******************************\")\n",
    "print(\"Root mean squared error: \", sqrt(mse(y_train.values, y_train_pred)))\n",
    "print(\"R-squared: \", rs(y_train.values, y_train_pred))\n",
    "print(\"Mean Absolute Percentage Error: \", mean_absolute_percentage_error(y_train.values, y_train_pred))"
   ]
  },
  {
   "cell_type": "code",
   "execution_count": 49,
   "id": "66efb17b",
   "metadata": {
    "ExecuteTime": {
     "end_time": "2022-06-25T13:03:17.011322Z",
     "start_time": "2022-06-25T13:03:16.949485Z"
    }
   },
   "outputs": [
    {
     "data": {
      "text/html": [
       "<div>\n",
       "<style scoped>\n",
       "    .dataframe tbody tr th:only-of-type {\n",
       "        vertical-align: middle;\n",
       "    }\n",
       "\n",
       "    .dataframe tbody tr th {\n",
       "        vertical-align: top;\n",
       "    }\n",
       "\n",
       "    .dataframe thead th {\n",
       "        text-align: right;\n",
       "    }\n",
       "</style>\n",
       "<table border=\"1\" class=\"dataframe\">\n",
       "  <thead>\n",
       "    <tr style=\"text-align: right;\">\n",
       "      <th></th>\n",
       "      <th>Model</th>\n",
       "      <th>RMSE</th>\n",
       "      <th>Adjusted_r_2</th>\n",
       "      <th>MAPE</th>\n",
       "    </tr>\n",
       "  </thead>\n",
       "  <tbody>\n",
       "    <tr>\n",
       "      <th>0</th>\n",
       "      <td>MultiLinear Reg Train</td>\n",
       "      <td>219827.712507</td>\n",
       "      <td>0.646046</td>\n",
       "      <td>0.294307</td>\n",
       "    </tr>\n",
       "    <tr>\n",
       "      <th>1</th>\n",
       "      <td>Random Forest Train</td>\n",
       "      <td>153558.404086</td>\n",
       "      <td>0.827285</td>\n",
       "      <td>0.227879</td>\n",
       "    </tr>\n",
       "    <tr>\n",
       "      <th>2</th>\n",
       "      <td>Decision Tree Train</td>\n",
       "      <td>172733.177074</td>\n",
       "      <td>0.781459</td>\n",
       "      <td>0.245495</td>\n",
       "    </tr>\n",
       "  </tbody>\n",
       "</table>\n",
       "</div>"
      ],
      "text/plain": [
       "                   Model           RMSE  Adjusted_r_2      MAPE\n",
       "0  MultiLinear Reg Train  219827.712507      0.646046  0.294307\n",
       "1    Random Forest Train  153558.404086      0.827285  0.227879\n",
       "2    Decision Tree Train  172733.177074      0.781459  0.245495"
      ]
     },
     "execution_count": 49,
     "metadata": {},
     "output_type": "execute_result"
    }
   ],
   "source": [
    "model_results = pd.DataFrame([['Decision Tree Train', DT_RMSE_Train, DT_R2_Train, DT_MAPE_Train]],\n",
    "               columns = ['Model', 'RMSE', 'Adjusted_r_2', 'MAPE'])\n",
    "\n",
    "results_train = results_train.append(model_results, ignore_index = True)\n",
    "results_train"
   ]
  },
  {
   "cell_type": "code",
   "execution_count": 50,
   "id": "86305026",
   "metadata": {
    "ExecuteTime": {
     "end_time": "2022-06-25T13:03:17.043235Z",
     "start_time": "2022-06-25T13:03:17.013315Z"
    }
   },
   "outputs": [
    {
     "name": "stdout",
     "output_type": "stream",
     "text": [
      "Test Results for Decision Tree Regression:\n",
      "*******************************\n",
      "Root mean squared error:  217296.96656789034\n",
      "R-squared:  0.6280719459133719\n",
      "Mean Absolute Percentage Error:  0.272697585012572\n"
     ]
    }
   ],
   "source": [
    "#entering metrics score to the metics dataframe\n",
    "DT_RMSE_Test = metrics.mean_squared_error(y_test, y_pred,squared=False)\n",
    "DT_R2_Test = metrics.r2_score(y_test, y_pred) \n",
    "DT_MAPE_Test = metrics.mean_absolute_percentage_error(y_test, y_pred) \n",
    "\n",
    "\n",
    "print(\"Test Results for Decision Tree Regression:\")\n",
    "print(\"*******************************\")\n",
    "print(\"Root mean squared error: \", sqrt(mse(y_test, y_pred)))\n",
    "print(\"R-squared: \", rs(y_test, y_pred))\n",
    "print(\"Mean Absolute Percentage Error: \", mean_absolute_percentage_error(y_test, y_pred))"
   ]
  },
  {
   "cell_type": "code",
   "execution_count": 51,
   "id": "f1b6b901",
   "metadata": {
    "ExecuteTime": {
     "end_time": "2022-06-25T13:03:17.091109Z",
     "start_time": "2022-06-25T13:03:17.046226Z"
    }
   },
   "outputs": [
    {
     "data": {
      "text/html": [
       "<div>\n",
       "<style scoped>\n",
       "    .dataframe tbody tr th:only-of-type {\n",
       "        vertical-align: middle;\n",
       "    }\n",
       "\n",
       "    .dataframe tbody tr th {\n",
       "        vertical-align: top;\n",
       "    }\n",
       "\n",
       "    .dataframe thead th {\n",
       "        text-align: right;\n",
       "    }\n",
       "</style>\n",
       "<table border=\"1\" class=\"dataframe\">\n",
       "  <thead>\n",
       "    <tr style=\"text-align: right;\">\n",
       "      <th></th>\n",
       "      <th>Model</th>\n",
       "      <th>RMSE</th>\n",
       "      <th>Adjusted_r_2</th>\n",
       "      <th>MAPE</th>\n",
       "    </tr>\n",
       "  </thead>\n",
       "  <tbody>\n",
       "    <tr>\n",
       "      <th>0</th>\n",
       "      <td>MultiLinear Reg Test</td>\n",
       "      <td>216637.442013</td>\n",
       "      <td>0.630326</td>\n",
       "      <td>0.293538</td>\n",
       "    </tr>\n",
       "    <tr>\n",
       "      <th>1</th>\n",
       "      <td>Random Forest Test</td>\n",
       "      <td>192314.253574</td>\n",
       "      <td>0.708677</td>\n",
       "      <td>0.259496</td>\n",
       "    </tr>\n",
       "    <tr>\n",
       "      <th>2</th>\n",
       "      <td>Decision Tree Test</td>\n",
       "      <td>217296.966568</td>\n",
       "      <td>0.628072</td>\n",
       "      <td>0.272698</td>\n",
       "    </tr>\n",
       "  </tbody>\n",
       "</table>\n",
       "</div>"
      ],
      "text/plain": [
       "                  Model           RMSE  Adjusted_r_2      MAPE\n",
       "0  MultiLinear Reg Test  216637.442013      0.630326  0.293538\n",
       "1    Random Forest Test  192314.253574      0.708677  0.259496\n",
       "2    Decision Tree Test  217296.966568      0.628072  0.272698"
      ]
     },
     "execution_count": 51,
     "metadata": {},
     "output_type": "execute_result"
    }
   ],
   "source": [
    "model_results = pd.DataFrame([['Decision Tree Test', DT_RMSE_Test, DT_R2_Test, DT_MAPE_Test]],\n",
    "               columns = ['Model', 'RMSE', 'Adjusted_r_2', 'MAPE'])\n",
    "\n",
    "results_test = results_test.append(model_results, ignore_index = True)\n",
    "results_test"
   ]
  },
  {
   "cell_type": "markdown",
   "id": "e9906280",
   "metadata": {},
   "source": [
    "#### Feature Importance"
   ]
  },
  {
   "cell_type": "code",
   "execution_count": 52,
   "id": "19d48f90",
   "metadata": {
    "ExecuteTime": {
     "end_time": "2022-06-25T13:03:17.107065Z",
     "start_time": "2022-06-25T13:03:17.097092Z"
    }
   },
   "outputs": [],
   "source": [
    "dt_model = DecisionTreeRegressor(max_depth=9, min_samples_leaf=10, min_samples_split=11,random_state =1)"
   ]
  },
  {
   "cell_type": "code",
   "execution_count": 53,
   "id": "fb7b32f0",
   "metadata": {
    "ExecuteTime": {
     "end_time": "2022-06-25T13:03:17.217767Z",
     "start_time": "2022-06-25T13:03:17.111056Z"
    }
   },
   "outputs": [
    {
     "data": {
      "text/plain": [
       "furnished         0.432823\n",
       "quality           0.226266\n",
       "living_measure    0.111878\n",
       "building_age      0.076269\n",
       "coast             0.040334\n",
       "renovated         0.021401\n",
       "room_bath         0.018417\n",
       "sight             0.015221\n",
       "lot_measure       0.014655\n",
       "total_area        0.013667\n",
       "basement          0.011585\n",
       "ceil_measure      0.010288\n",
       "condition         0.006112\n",
       "ceil              0.000707\n",
       "room_bed          0.000377\n",
       "dtype: float64"
      ]
     },
     "execution_count": 53,
     "metadata": {},
     "output_type": "execute_result"
    }
   ],
   "source": [
    "dt_model.fit(X_train, y_train)\n",
    "\n",
    "pd.Series(dt_model.feature_importances_,index=X_train.columns).sort_values(ascending=False)"
   ]
  },
  {
   "cell_type": "code",
   "execution_count": 54,
   "id": "661319ba",
   "metadata": {
    "ExecuteTime": {
     "end_time": "2022-06-25T13:03:17.598750Z",
     "start_time": "2022-06-25T13:03:17.219762Z"
    }
   },
   "outputs": [
    {
     "data": {
      "image/png": "[encoded data removed]",
      "text/plain": [
       "<Figure size 576x396 with 1 Axes>"
      ]
     },
     "metadata": {},
     "output_type": "display_data"
    },
    {
     "data": {
      "text/plain": [
       "<AxesSubplot:title={'center':'Feature Importances of 15 Features using DecisionTreeRegressor'}, xlabel='relative importance'>"
      ]
     },
     "execution_count": 54,
     "metadata": {},
     "output_type": "execute_result"
    }
   ],
   "source": [
    "viz = FeatureImportances(dt_model)\n",
    "viz.fit(X, y)\n",
    "viz.show()"
   ]
  },
  {
   "cell_type": "markdown",
   "id": "6d9231c0",
   "metadata": {},
   "source": [
    "### KNN "
   ]
  },
  {
   "cell_type": "code",
   "execution_count": 55,
   "id": "cb18bf06",
   "metadata": {
    "ExecuteTime": {
     "end_time": "2022-06-25T13:13:18.922506Z",
     "start_time": "2022-06-25T13:13:18.915524Z"
    }
   },
   "outputs": [],
   "source": [
    "from sklearn.model_selection import cross_val_score\n",
    "from sklearn.model_selection import KFold"
   ]
  },
  {
   "cell_type": "code",
   "execution_count": 56,
   "id": "28881bce",
   "metadata": {
    "ExecuteTime": {
     "end_time": "2022-06-25T13:13:19.160144Z",
     "start_time": "2022-06-25T13:13:19.125237Z"
    }
   },
   "outputs": [],
   "source": [
    "from sklearn.preprocessing import StandardScaler\n",
    "\n",
    "ss = StandardScaler()\n",
    "X_train_Scaled = ss.fit_transform(X_train)\n",
    "X_test_Scaled = ss.transform(X_test)"
   ]
  },
  {
   "cell_type": "code",
   "execution_count": 57,
   "id": "c17f29c5",
   "metadata": {
    "ExecuteTime": {
     "end_time": "2022-06-25T13:15:06.667396Z",
     "start_time": "2022-06-25T13:13:19.445684Z"
    }
   },
   "outputs": [
    {
     "name": "stdout",
     "output_type": "stream",
     "text": [
      "\n",
      "The optimal number of neighbors is 17.\n",
      "CPU times: total: 1min 46s\n",
      "Wall time: 1min 47s\n"
     ]
    }
   ],
   "source": [
    "%%time\n",
    "\n",
    "# creating odd list of K for KNN\n",
    "neighbors = list(range(1,50,2))\n",
    "# empty list that will hold cv scores\n",
    "cv_scores = []\n",
    "\n",
    "# perform 10-fold cross validation\n",
    "for k in neighbors:\n",
    "    knn = KNeighborsRegressor(n_neighbors=k)\n",
    "    scores = cross_val_score(knn, X_train_Scaled, y_train, cv=10, scoring='neg_mean_absolute_error')\n",
    "    cv_scores.append(scores.mean())\n",
    "\n",
    "# changing to misclassification error\n",
    "MSE = [1 - x for x in cv_scores]\n",
    "\n",
    "# determining best k\n",
    "optimal_k = neighbors[MSE.index(min(MSE))]\n",
    "print('\\nThe optimal number of neighbors is %d.' % optimal_k)"
   ]
  },
  {
   "cell_type": "code",
   "execution_count": 58,
   "id": "c47cd610",
   "metadata": {
    "ExecuteTime": {
     "end_time": "2022-06-25T13:15:06.730402Z",
     "start_time": "2022-06-25T13:15:06.670394Z"
    }
   },
   "outputs": [
    {
     "data": {
      "text/plain": [
       "KNeighborsRegressor(n_neighbors=17)"
      ]
     },
     "execution_count": 58,
     "metadata": {},
     "output_type": "execute_result"
    }
   ],
   "source": [
    "knn_model = KNeighborsRegressor(n_neighbors = optimal_k)\n",
    "knn_model.fit(X_train_Scaled, y_train)"
   ]
  },
  {
   "cell_type": "code",
   "execution_count": 59,
   "id": "c5d28276",
   "metadata": {
    "ExecuteTime": {
     "end_time": "2022-06-25T13:15:11.332803Z",
     "start_time": "2022-06-25T13:15:06.732397Z"
    }
   },
   "outputs": [],
   "source": [
    "## Predict Train results\n",
    "y_train_pred = knn_model.predict(X_train_Scaled)\n",
    "\n",
    "## Predict Test results\n",
    "y_pred = knn_model.predict(X_test_Scaled)"
   ]
  },
  {
   "cell_type": "code",
   "execution_count": 60,
   "id": "ca32a438",
   "metadata": {
    "ExecuteTime": {
     "end_time": "2022-06-25T13:15:11.363336Z",
     "start_time": "2022-06-25T13:15:11.336803Z"
    }
   },
   "outputs": [
    {
     "name": "stdout",
     "output_type": "stream",
     "text": [
      "Train Results for KNN Regression:\n",
      "*******************************\n",
      "Root mean squared error:  197302.60101322184\n",
      "R-squared:  0.7148668759397964\n",
      "Mean Absolute Percentage Error:  0.2463389671937815\n"
     ]
    }
   ],
   "source": [
    "#entering metrics score to the metics dataframe\n",
    "KNN_RMSE_Train = metrics.mean_squared_error(y_train.values, y_train_pred,squared=False) \n",
    "KNN_R2_Train = metrics.r2_score(y_train.values, y_train_pred) \n",
    "KNN_MAPE_Train = metrics.mean_absolute_percentage_error(y_train.values, y_train_pred) \n",
    "\n",
    "print(\"Train Results for KNN Regression:\")\n",
    "print(\"*******************************\")\n",
    "print(\"Root mean squared error: \", sqrt(mse(y_train.values, y_train_pred)))\n",
    "print(\"R-squared: \", rs(y_train.values, y_train_pred))\n",
    "print(\"Mean Absolute Percentage Error: \", mean_absolute_percentage_error(y_train.values, y_train_pred))"
   ]
  },
  {
   "cell_type": "code",
   "execution_count": 61,
   "id": "5a52f317",
   "metadata": {
    "ExecuteTime": {
     "end_time": "2022-06-25T13:15:11.395220Z",
     "start_time": "2022-06-25T13:15:11.365300Z"
    }
   },
   "outputs": [
    {
     "data": {
      "text/html": [
       "<div>\n",
       "<style scoped>\n",
       "    .dataframe tbody tr th:only-of-type {\n",
       "        vertical-align: middle;\n",
       "    }\n",
       "\n",
       "    .dataframe tbody tr th {\n",
       "        vertical-align: top;\n",
       "    }\n",
       "\n",
       "    .dataframe thead th {\n",
       "        text-align: right;\n",
       "    }\n",
       "</style>\n",
       "<table border=\"1\" class=\"dataframe\">\n",
       "  <thead>\n",
       "    <tr style=\"text-align: right;\">\n",
       "      <th></th>\n",
       "      <th>Model</th>\n",
       "      <th>RMSE</th>\n",
       "      <th>Adjusted_r_2</th>\n",
       "      <th>MAPE</th>\n",
       "    </tr>\n",
       "  </thead>\n",
       "  <tbody>\n",
       "    <tr>\n",
       "      <th>0</th>\n",
       "      <td>MultiLinear Reg Train</td>\n",
       "      <td>219827.712507</td>\n",
       "      <td>0.646046</td>\n",
       "      <td>0.294307</td>\n",
       "    </tr>\n",
       "    <tr>\n",
       "      <th>1</th>\n",
       "      <td>Random Forest Train</td>\n",
       "      <td>153558.404086</td>\n",
       "      <td>0.827285</td>\n",
       "      <td>0.227879</td>\n",
       "    </tr>\n",
       "    <tr>\n",
       "      <th>2</th>\n",
       "      <td>Decision Tree Train</td>\n",
       "      <td>172733.177074</td>\n",
       "      <td>0.781459</td>\n",
       "      <td>0.245495</td>\n",
       "    </tr>\n",
       "    <tr>\n",
       "      <th>3</th>\n",
       "      <td>KNN Train</td>\n",
       "      <td>197302.601013</td>\n",
       "      <td>0.714867</td>\n",
       "      <td>0.246339</td>\n",
       "    </tr>\n",
       "  </tbody>\n",
       "</table>\n",
       "</div>"
      ],
      "text/plain": [
       "                   Model           RMSE  Adjusted_r_2      MAPE\n",
       "0  MultiLinear Reg Train  219827.712507      0.646046  0.294307\n",
       "1    Random Forest Train  153558.404086      0.827285  0.227879\n",
       "2    Decision Tree Train  172733.177074      0.781459  0.245495\n",
       "3              KNN Train  197302.601013      0.714867  0.246339"
      ]
     },
     "execution_count": 61,
     "metadata": {},
     "output_type": "execute_result"
    }
   ],
   "source": [
    "model_results = pd.DataFrame([['KNN Train', KNN_RMSE_Train, KNN_R2_Train, KNN_MAPE_Train]],\n",
    "               columns = ['Model', 'RMSE', 'Adjusted_r_2', 'MAPE'])\n",
    "\n",
    "results_train = results_train.append(model_results, ignore_index = True)\n",
    "results_train"
   ]
  },
  {
   "cell_type": "code",
   "execution_count": 62,
   "id": "74fc936e",
   "metadata": {
    "ExecuteTime": {
     "end_time": "2022-06-25T13:15:11.427161Z",
     "start_time": "2022-06-25T13:15:11.399207Z"
    }
   },
   "outputs": [
    {
     "name": "stdout",
     "output_type": "stream",
     "text": [
      "Test Results for KN Regression:\n",
      "*******************************\n",
      "Root mean squared err*or:  206965.64655129673\n",
      "R-squared:  0.6625976216449065\n",
      "Mean Absolute Percentage Error:  0.2649097873274767\n"
     ]
    }
   ],
   "source": [
    "#entering metrics score to the metics dataframe\n",
    "KNN_RMSE_Test = metrics.mean_squared_error(y_test, y_pred,squared=False)\n",
    "KNN_R2_Test = metrics.r2_score(y_test, y_pred) \n",
    "KNN_MAPE_Test = metrics.mean_absolute_percentage_error(y_test, y_pred) \n",
    "\n",
    "\n",
    "print(\"Test Results for KN Regression:\")\n",
    "print(\"*******************************\")\n",
    "print(\"Root mean squared err*or: \", sqrt(mse(y_test, y_pred)))\n",
    "print(\"R-squared: \", rs(y_test, y_pred))\n",
    "print(\"Mean Absolute Percentage Error: \", mean_absolute_percentage_error(y_test, y_pred))"
   ]
  },
  {
   "cell_type": "code",
   "execution_count": 63,
   "id": "5285a288",
   "metadata": {
    "ExecuteTime": {
     "end_time": "2022-06-25T13:15:11.474622Z",
     "start_time": "2022-06-25T13:15:11.430124Z"
    }
   },
   "outputs": [
    {
     "name": "stdout",
     "output_type": "stream",
     "text": [
      "                  Model           RMSE  Adjusted_r_2      MAPE\n",
      "0  MultiLinear Reg Test  216637.442013      0.630326  0.293538\n",
      "1    Random Forest Test  192314.253574      0.708677  0.259496\n",
      "2    Decision Tree Test  217296.966568      0.628072  0.272698\n",
      "3              KNN Test  206965.646551      0.662598  0.264910\n"
     ]
    }
   ],
   "source": [
    "model_results = pd.DataFrame([['KNN Test', KNN_RMSE_Test, KNN_R2_Test, KNN_MAPE_Test]],\n",
    "               columns = ['Model', 'RMSE', 'Adjusted_r_2', 'MAPE'])\n",
    "\n",
    "results_test = results_test.append(model_results, ignore_index = True)\n",
    "print(results_test)"
   ]
  },
  {
   "cell_type": "code",
   "execution_count": 64,
   "id": "0409f45a",
   "metadata": {
    "ExecuteTime": {
     "end_time": "2022-06-25T13:17:24.444466Z",
     "start_time": "2022-06-25T13:15:11.476333Z"
    }
   },
   "outputs": [
    {
     "name": "stdout",
     "output_type": "stream",
     "text": [
      "Fitting 10 folds for each of 30 candidates, totalling 300 fits\n",
      "{'n_neighbors': 17}\n"
     ]
    }
   ],
   "source": [
    "knn = KNeighborsRegressor()\n",
    "k_range = list(range(1, 31))\n",
    "param_grid = dict(n_neighbors=k_range)\n",
    "  \n",
    "# defining parameter range\n",
    "grid = GridSearchCV(knn, param_grid, cv=10, scoring='neg_mean_absolute_error', return_train_score=False,verbose=1)\n",
    "  \n",
    "# fitting the model for grid search\n",
    "grid_search=grid.fit(X_train_Scaled, y_train)\n",
    "\n",
    "print(grid_search.best_params_)"
   ]
  },
  {
   "cell_type": "markdown",
   "id": "5d8dce74",
   "metadata": {},
   "source": [
    "### LASSO Regression"
   ]
  },
  {
   "cell_type": "code",
   "execution_count": 65,
   "id": "b97e2033",
   "metadata": {
    "ExecuteTime": {
     "end_time": "2022-06-25T13:17:24.459964Z",
     "start_time": "2022-06-25T13:17:24.447457Z"
    }
   },
   "outputs": [],
   "source": [
    "from sklearn.linear_model import Lasso"
   ]
  },
  {
   "cell_type": "code",
   "execution_count": 66,
   "id": "ba73a4a0",
   "metadata": {
    "ExecuteTime": {
     "end_time": "2022-06-25T13:17:24.680568Z",
     "start_time": "2022-06-25T13:17:24.463928Z"
    }
   },
   "outputs": [
    {
     "data": {
      "text/plain": [
       "Lasso(alpha=0.1)"
      ]
     },
     "execution_count": 66,
     "metadata": {},
     "output_type": "execute_result"
    }
   ],
   "source": [
    "#created a Lasso Regression model\n",
    "las_model=Lasso(alpha=0.1)\n",
    "las_model.fit(X_train,y_train)"
   ]
  },
  {
   "cell_type": "code",
   "execution_count": 67,
   "id": "8ee3c4d3",
   "metadata": {
    "ExecuteTime": {
     "end_time": "2022-06-25T13:17:24.727538Z",
     "start_time": "2022-06-25T13:17:24.683559Z"
    }
   },
   "outputs": [
    {
     "name": "stdout",
     "output_type": "stream",
     "text": [
      "Performance on training data using Lasso Regression: 0.6460459117819254\n",
      "Performance on testing data using Lasso Regression: 0.6303262040941766\n",
      "Accuracy las:  0.6303262040941766\n",
      "MSE:  46931783268.24552\n",
      "MAE: 140223.69819951185\n"
     ]
    }
   ],
   "source": [
    "y_pred = las_model.predict(X_test)\n",
    "print('Performance on training data using Lasso Regression:',las_model.score(X_train,y_train))\n",
    "print('Performance on testing data using Lasso Regression:',las_model.score(X_test,y_test))\n",
    "acc_las=metrics.r2_score(y_test, y_pred)\n",
    "print('Accuracy las: ',acc_las)\n",
    "print('MSE: ',metrics.mean_squared_error(y_test, y_pred))\n",
    "print('MAE:',metrics.mean_absolute_error(y_test,y_pred))"
   ]
  },
  {
   "cell_type": "code",
   "execution_count": 68,
   "id": "5c0dfbd5",
   "metadata": {
    "ExecuteTime": {
     "end_time": "2022-06-25T13:17:43.401393Z",
     "start_time": "2022-06-25T13:17:24.730545Z"
    }
   },
   "outputs": [
    {
     "name": "stdout",
     "output_type": "stream",
     "text": [
      "CPU times: total: 1.94 s\n",
      "Wall time: 18.7 s\n"
     ]
    },
    {
     "data": {
      "text/plain": [
       "RandomizedSearchCV(cv=10, estimator=Lasso(), n_jobs=-1,\n",
       "                   param_distributions={'alpha': [0.0001, 0.001, 0.01, 0.1, 1,\n",
       "                                                  10, 100, 1000]},\n",
       "                   scoring='neg_mean_absolute_error')"
      ]
     },
     "execution_count": 68,
     "metadata": {},
     "output_type": "execute_result"
    }
   ],
   "source": [
    "%%time\n",
    "tuned_params = {'alpha': [0.0001, 0.001, 0.01, 0.1, 1, 10, 100, 1000]}\n",
    "Lassso_model = RandomizedSearchCV(Lasso(), tuned_params, scoring = 'neg_mean_absolute_error', cv=10, n_jobs=-1)\n",
    "Lassso_model.fit(X_train, y_train)"
   ]
  },
  {
   "cell_type": "code",
   "execution_count": 69,
   "id": "866bd271",
   "metadata": {
    "ExecuteTime": {
     "end_time": "2022-06-25T13:17:43.417350Z",
     "start_time": "2022-06-25T13:17:43.404387Z"
    }
   },
   "outputs": [
    {
     "data": {
      "text/plain": [
       "Lasso(alpha=1000)"
      ]
     },
     "execution_count": 69,
     "metadata": {},
     "output_type": "execute_result"
    }
   ],
   "source": [
    "Lassso_model.best_estimator_"
   ]
  },
  {
   "cell_type": "code",
   "execution_count": 70,
   "id": "67654e2e",
   "metadata": {
    "ExecuteTime": {
     "end_time": "2022-06-25T13:17:43.433309Z",
     "start_time": "2022-06-25T13:17:43.421339Z"
    }
   },
   "outputs": [],
   "source": [
    "## Predict Train results\n",
    "y_train_pred = Lassso_model.predict(X_train)\n",
    "\n",
    "## Predict Test results\n",
    "y_pred = Lassso_model.predict(X_test)"
   ]
  },
  {
   "cell_type": "code",
   "execution_count": 71,
   "id": "ebd40c89",
   "metadata": {
    "ExecuteTime": {
     "end_time": "2022-06-25T13:17:43.464347Z",
     "start_time": "2022-06-25T13:17:43.437298Z"
    }
   },
   "outputs": [
    {
     "name": "stdout",
     "output_type": "stream",
     "text": [
      "Train Results for Lasso Regression:\n",
      "*******************************\n",
      "Root mean squared error:  220268.59891041616\n",
      "R-squared:  0.6446247075853007\n",
      "Mean Absolute Percentage Error:  0.29460637044432453\n"
     ]
    }
   ],
   "source": [
    "#entering metrics score to the metics dataframe\n",
    "Lasso_RMSE_Train = metrics.mean_squared_error(y_train.values, y_train_pred,squared=False) \n",
    "Lasso_R2_Train = metrics.r2_score(y_train.values, y_train_pred) \n",
    "Lasso_MAPE_Train = metrics.mean_absolute_percentage_error(y_train.values, y_train_pred) \n",
    "\n",
    "\n",
    "print(\"Train Results for Lasso Regression:\")\n",
    "print(\"*******************************\")\n",
    "print(\"Root mean squared error: \", sqrt(mse(y_train.values, y_train_pred)))\n",
    "print(\"R-squared: \", rs(y_train.values, y_train_pred))\n",
    "print(\"Mean Absolute Percentage Error: \", mean_absolute_percentage_error(y_train.values, y_train_pred))"
   ]
  },
  {
   "cell_type": "code",
   "execution_count": 72,
   "id": "f35d6409",
   "metadata": {
    "ExecuteTime": {
     "end_time": "2022-06-25T13:17:43.512221Z",
     "start_time": "2022-06-25T13:17:43.467340Z"
    }
   },
   "outputs": [
    {
     "name": "stdout",
     "output_type": "stream",
     "text": [
      "                   Model           RMSE  Adjusted_r_2      MAPE\n",
      "0  MultiLinear Reg Train  219827.712507      0.646046  0.294307\n",
      "1    Random Forest Train  153558.404086      0.827285  0.227879\n",
      "2    Decision Tree Train  172733.177074      0.781459  0.245495\n",
      "3              KNN Train  197302.601013      0.714867  0.246339\n",
      "4            Lasso Train  220268.598910      0.644625  0.294606\n"
     ]
    }
   ],
   "source": [
    "model_results = pd.DataFrame([['Lasso Train', Lasso_RMSE_Train, Lasso_R2_Train, Lasso_MAPE_Train]],\n",
    "               columns = ['Model', 'RMSE', 'Adjusted_r_2', 'MAPE'])\n",
    "\n",
    "results_train = results_train.append(model_results, ignore_index = True)\n",
    "print(results_train)"
   ]
  },
  {
   "cell_type": "code",
   "execution_count": 73,
   "id": "b1d08863",
   "metadata": {
    "ExecuteTime": {
     "end_time": "2022-06-25T13:17:43.544143Z",
     "start_time": "2022-06-25T13:17:43.515212Z"
    }
   },
   "outputs": [
    {
     "name": "stdout",
     "output_type": "stream",
     "text": [
      "Test Results for Lasso Regression:\n",
      "*******************************\n",
      "Root mean squared error:  217050.0771587626\n",
      "R-squared:  0.6289166234423993\n",
      "Mean Absolute Percentage Error:  0.2941338692432985\n"
     ]
    }
   ],
   "source": [
    "#entering metrics score to the metics dataframe\n",
    "Lasso_RMSE_Test = metrics.mean_squared_error(y_test, y_pred,squared=False)\n",
    "Lasso_R2_Test = metrics.r2_score(y_test, y_pred) \n",
    "Lasso_MAPE_Test = metrics.mean_absolute_percentage_error(y_test, y_pred) \n",
    "\n",
    "\n",
    "print(\"Test Results for Lasso Regression:\")\n",
    "print(\"*******************************\")\n",
    "print(\"Root mean squared error: \", sqrt(mse(y_test, y_pred)))\n",
    "print(\"R-squared: \", rs(y_test, y_pred))\n",
    "print(\"Mean Absolute Percentage Error: \", mean_absolute_percentage_error(y_test, y_pred))"
   ]
  },
  {
   "cell_type": "code",
   "execution_count": 74,
   "id": "066ff20a",
   "metadata": {
    "ExecuteTime": {
     "end_time": "2022-06-25T13:17:43.591791Z",
     "start_time": "2022-06-25T13:17:43.547136Z"
    }
   },
   "outputs": [
    {
     "name": "stdout",
     "output_type": "stream",
     "text": [
      "                  Model           RMSE  Adjusted_r_2      MAPE\n",
      "0  MultiLinear Reg Test  216637.442013      0.630326  0.293538\n",
      "1    Random Forest Test  192314.253574      0.708677  0.259496\n",
      "2    Decision Tree Test  217296.966568      0.628072  0.272698\n",
      "3              KNN Test  206965.646551      0.662598  0.264910\n",
      "4            Lasso Test  217050.077159      0.628917  0.294134\n"
     ]
    }
   ],
   "source": [
    "model_results = pd.DataFrame([['Lasso Test', Lasso_RMSE_Test, Lasso_R2_Test, Lasso_MAPE_Test]],\n",
    "               columns = ['Model', 'RMSE', 'Adjusted_r_2', 'MAPE'])\n",
    "\n",
    "results_test = results_test.append(model_results, ignore_index = True)\n",
    "print(results_test)"
   ]
  },
  {
   "cell_type": "markdown",
   "id": "905727cd",
   "metadata": {},
   "source": [
    "### Ridge Regression"
   ]
  },
  {
   "cell_type": "code",
   "execution_count": 75,
   "id": "db81198d",
   "metadata": {
    "ExecuteTime": {
     "end_time": "2022-06-25T13:17:43.623705Z",
     "start_time": "2022-06-25T13:17:43.593787Z"
    }
   },
   "outputs": [
    {
     "data": {
      "text/plain": [
       "Ridge(alpha=0.1)"
      ]
     },
     "execution_count": 75,
     "metadata": {},
     "output_type": "execute_result"
    }
   ],
   "source": [
    "#created a Ridge regression model\n",
    "from sklearn.linear_model import Ridge\n",
    "rid_model=Ridge(alpha=0.1)\n",
    "rid_model.fit(X_train,y_train)"
   ]
  },
  {
   "cell_type": "code",
   "execution_count": 76,
   "id": "b01968a9",
   "metadata": {
    "ExecuteTime": {
     "end_time": "2022-06-25T13:17:43.669924Z",
     "start_time": "2022-06-25T13:17:43.626698Z"
    }
   },
   "outputs": [
    {
     "name": "stdout",
     "output_type": "stream",
     "text": [
      "Performance on training data using Ridge Regression: 0.6460458955279469\n",
      "Performance on testing data using Ridge Regression: 0.6303228731554475\n",
      "Accuracy rid:  0.6303228731554475\n",
      "MSE:  46932206146.18884\n",
      "MAE: 140223.791853952\n"
     ]
    }
   ],
   "source": [
    "y_pred = rid_model.predict(X_test)\n",
    "print('Performance on training data using Ridge Regression:',rid_model.score(X_train,y_train))\n",
    "print('Performance on testing data using Ridge Regression:',rid_model.score(X_test,y_test))\n",
    "acc_rid=metrics.r2_score(y_test, y_pred)\n",
    "print('Accuracy rid: ',acc_rid)\n",
    "print('MSE: ',metrics.mean_squared_error(y_test, y_pred))\n",
    "print('MAE:',metrics.mean_absolute_error(y_test,y_pred))"
   ]
  },
  {
   "cell_type": "code",
   "execution_count": 77,
   "id": "12ab949d",
   "metadata": {
    "ExecuteTime": {
     "end_time": "2022-06-25T13:17:44.241604Z",
     "start_time": "2022-06-25T13:17:43.673916Z"
    }
   },
   "outputs": [
    {
     "data": {
      "text/plain": [
       "GridSearchCV(cv=10, estimator=Ridge(), n_jobs=-1,\n",
       "             param_grid={'alpha': [0.0001, 0.001, 0.01, 0.1, 1, 10, 100, 1000]},\n",
       "             scoring='neg_mean_absolute_error')"
      ]
     },
     "execution_count": 77,
     "metadata": {},
     "output_type": "execute_result"
    }
   ],
   "source": [
    "tuned_paramss = {'alpha': [0.001, 0.01, 0.1, 1, 10, 100, 1000]}\n",
    "Ridge_model = GridSearchCV(Ridge(), tuned_params, scoring = 'neg_mean_absolute_error', cv=10, n_jobs=-1)\n",
    "Ridge_model.fit(X_train, y_train)"
   ]
  },
  {
   "cell_type": "code",
   "execution_count": 78,
   "id": "44251e3c",
   "metadata": {
    "ExecuteTime": {
     "end_time": "2022-06-25T13:17:44.273516Z",
     "start_time": "2022-06-25T13:17:44.252573Z"
    }
   },
   "outputs": [
    {
     "data": {
      "text/plain": [
       "Ridge(alpha=10)"
      ]
     },
     "execution_count": 78,
     "metadata": {},
     "output_type": "execute_result"
    }
   ],
   "source": [
    "Ridge_model.best_estimator_"
   ]
  },
  {
   "cell_type": "code",
   "execution_count": 79,
   "id": "a8f96aa8",
   "metadata": {
    "ExecuteTime": {
     "end_time": "2022-06-25T13:17:44.304436Z",
     "start_time": "2022-06-25T13:17:44.277510Z"
    }
   },
   "outputs": [],
   "source": [
    "## Predict Train results\n",
    "y_train_pred = Ridge_model.predict(X_train)\n",
    "\n",
    "## Predict Test results\n",
    "y_pred = Ridge_model.predict(X_test)"
   ]
  },
  {
   "cell_type": "code",
   "execution_count": 80,
   "id": "5fecba83",
   "metadata": {
    "ExecuteTime": {
     "end_time": "2022-06-25T13:17:44.336350Z",
     "start_time": "2022-06-25T13:17:44.307426Z"
    }
   },
   "outputs": [
    {
     "name": "stdout",
     "output_type": "stream",
     "text": [
      "Train Results for Ridge Regression:\n",
      "*******************************\n",
      "Root mean squared error:  219869.609630282\n",
      "R-squared:  0.6459109782062109\n",
      "Mean Absolute Percentage Error:  0.29423271913242827\n"
     ]
    }
   ],
   "source": [
    "#entering metrics score to the metics dataframe\n",
    "Ridge_RMSE_Train = metrics.mean_squared_error(y_train.values, y_train_pred,squared=False) \n",
    "Ridge_R2_Train = metrics.r2_score(y_train.values, y_train_pred) \n",
    "Ridge_MAPE_Train = metrics.mean_absolute_percentage_error(y_train.values, y_train_pred) \n",
    "\n",
    "\n",
    "print(\"Train Results for Ridge Regression:\")\n",
    "print(\"*******************************\")\n",
    "print(\"Root mean squared error: \", sqrt(mse(y_train.values, y_train_pred)))\n",
    "print(\"R-squared: \", r2_score(y_train.values, y_train_pred))\n",
    "print(\"Mean Absolute Percentage Error: \", mean_absolute_percentage_error(y_train.values, y_train_pred))"
   ]
  },
  {
   "cell_type": "code",
   "execution_count": 81,
   "id": "2f343715",
   "metadata": {
    "ExecuteTime": {
     "end_time": "2022-06-25T13:17:44.383837Z",
     "start_time": "2022-06-25T13:17:44.338837Z"
    }
   },
   "outputs": [
    {
     "name": "stdout",
     "output_type": "stream",
     "text": [
      "                   Model           RMSE  Adjusted_r_2      MAPE\n",
      "0  MultiLinear Reg Train  219827.712507      0.646046  0.294307\n",
      "1    Random Forest Train  153558.404086      0.827285  0.227879\n",
      "2    Decision Tree Train  172733.177074      0.781459  0.245495\n",
      "3              KNN Train  197302.601013      0.714867  0.246339\n",
      "4            Lasso Train  220268.598910      0.644625  0.294606\n",
      "5            Ridge Train  219869.609630      0.645911  0.294233\n"
     ]
    }
   ],
   "source": [
    "model_results = pd.DataFrame([['Ridge Train', Ridge_RMSE_Train, Ridge_R2_Train, Ridge_MAPE_Train]],\n",
    "               columns = ['Model', 'RMSE', 'Adjusted_r_2', 'MAPE'])\n",
    "\n",
    "results_train = results_train.append(model_results, ignore_index = True)\n",
    "print(results_train)"
   ]
  },
  {
   "cell_type": "code",
   "execution_count": 82,
   "id": "2d92197d",
   "metadata": {
    "ExecuteTime": {
     "end_time": "2022-06-25T13:17:44.415547Z",
     "start_time": "2022-06-25T13:17:44.385832Z"
    }
   },
   "outputs": [
    {
     "name": "stdout",
     "output_type": "stream",
     "text": [
      "Test Results for Ridge Regression:\n",
      "*******************************\n",
      "Root mean squared error:  216759.1675935557\n",
      "R-squared:  0.6299106738658555\n",
      "Mean Absolute Percentage Error:  0.29350148760529055\n"
     ]
    }
   ],
   "source": [
    "#entering metrics score to the metics dataframe\n",
    "Ridge_RMSE_Test = metrics.mean_squared_error(y_test, y_pred,squared=False)\n",
    "Ridge_R2_Test = metrics.r2_score(y_test, y_pred) \n",
    "Ridge_MAPE_Test = metrics.mean_absolute_percentage_error(y_test, y_pred) \n",
    "\n",
    "\n",
    "print(\"Test Results for Ridge Regression:\")\n",
    "print(\"*******************************\")\n",
    "print(\"Root mean squared error: \", sqrt(mse(y_test, y_pred)))\n",
    "print(\"R-squared: \", r2_score(y_test, y_pred))\n",
    "print(\"Mean Absolute Percentage Error: \", mean_absolute_percentage_error(y_test, y_pred))\n",
    "\n",
    "\n",
    "model_results = pd.DataFrame([['Ridge Test', Ridge_RMSE_Test, Ridge_R2_Test, Ridge_MAPE_Test]],\n",
    "               columns = ['Model', 'RMSE', 'Adjusted_r_2', 'MAPE'])"
   ]
  },
  {
   "cell_type": "code",
   "execution_count": 83,
   "id": "2f5b024d",
   "metadata": {
    "ExecuteTime": {
     "end_time": "2022-06-25T13:17:44.463418Z",
     "start_time": "2022-06-25T13:17:44.418537Z"
    }
   },
   "outputs": [
    {
     "name": "stdout",
     "output_type": "stream",
     "text": [
      "                  Model           RMSE  Adjusted_r_2      MAPE\n",
      "0  MultiLinear Reg Test  216637.442013      0.630326  0.293538\n",
      "1    Random Forest Test  192314.253574      0.708677  0.259496\n",
      "2    Decision Tree Test  217296.966568      0.628072  0.272698\n",
      "3              KNN Test  206965.646551      0.662598  0.264910\n",
      "4            Lasso Test  217050.077159      0.628917  0.294134\n",
      "5            Ridge Test  216759.167594      0.629911  0.293501\n"
     ]
    }
   ],
   "source": [
    "results_test = results_test.append(model_results, ignore_index = True)\n",
    "print(results_test)"
   ]
  },
  {
   "cell_type": "markdown",
   "id": "73c6f419",
   "metadata": {},
   "source": [
    "### XG Boost  "
   ]
  },
  {
   "cell_type": "code",
   "execution_count": 84,
   "id": "d7f4caf7",
   "metadata": {
    "ExecuteTime": {
     "end_time": "2022-06-25T13:17:55.285735Z",
     "start_time": "2022-06-25T13:17:53.952303Z"
    }
   },
   "outputs": [
    {
     "data": {
      "text/plain": [
       "XGBRegressor(base_score=0.5, booster='gbtree', colsample_bylevel=1,\n",
       "             colsample_bynode=1, colsample_bytree=1, enable_categorical=False,\n",
       "             gamma=0, gpu_id=-1, importance_type=None,\n",
       "             interaction_constraints='', learning_rate=0.300000012,\n",
       "             max_delta_step=0, max_depth=6, min_child_weight=1, missing=nan,\n",
       "             monotone_constraints='()', n_estimators=100, n_jobs=8,\n",
       "             num_parallel_tree=1, predictor='auto', random_state=0, reg_alpha=0,\n",
       "             reg_lambda=1, scale_pos_weight=1, subsample=1, tree_method='exact',\n",
       "             validate_parameters=1, verbosity=None)"
      ]
     },
     "execution_count": 84,
     "metadata": {},
     "output_type": "execute_result"
    }
   ],
   "source": [
    "#Created a Gradient boosting model\n",
    "XGB_model=XGBRegressor()\n",
    "XGB_model.fit(X_train,y_train)"
   ]
  },
  {
   "cell_type": "code",
   "execution_count": 85,
   "id": "7cd06960",
   "metadata": {
    "ExecuteTime": {
     "end_time": "2022-06-25T13:17:55.365521Z",
     "start_time": "2022-06-25T13:17:55.287730Z"
    }
   },
   "outputs": [
    {
     "name": "stdout",
     "output_type": "stream",
     "text": [
      "Performance on training data using Gradient-boosting: 0.9015304069456282\n",
      "Performance on testing data using Gradient-boosting: 0.7051288882049458\n",
      "Accuracy XGB:  0.7051288882049458\n",
      "MSE:  37435239565.52659\n",
      "MAE: 123121.66928184203\n"
     ]
    }
   ],
   "source": [
    "y_pred = XGB_model.predict(X_test)\n",
    "print('Performance on training data using Gradient-boosting:',XGB_model.score(X_train,y_train))\n",
    "print('Performance on testing data using Gradient-boosting:',XGB_model.score(X_test,y_test))\n",
    "acc_XGB=metrics.r2_score(y_test, y_pred)\n",
    "print('Accuracy XGB: ',acc_XGB)\n",
    "print('MSE: ',metrics.mean_squared_error(y_test, y_pred))\n",
    "print('MAE:',metrics.mean_absolute_error(y_test,y_pred))"
   ]
  },
  {
   "cell_type": "code",
   "execution_count": 86,
   "id": "0b3ee479",
   "metadata": {
    "ExecuteTime": {
     "end_time": "2022-06-25T13:39:55.187319Z",
     "start_time": "2022-06-25T13:17:55.369509Z"
    }
   },
   "outputs": [
    {
     "name": "stdout",
     "output_type": "stream",
     "text": [
      "CPU times: total: 2min 53s\n",
      "Wall time: 21min 59s\n"
     ]
    },
    {
     "data": {
      "text/plain": [
       "RandomizedSearchCV(cv=10,\n",
       "                   estimator=XGBRegressor(base_score=None, booster=None,\n",
       "                                          colsample_bylevel=None,\n",
       "                                          colsample_bynode=None,\n",
       "                                          colsample_bytree=None,\n",
       "                                          enable_categorical=False, gamma=None,\n",
       "                                          gpu_id=None, importance_type=None,\n",
       "                                          interaction_constraints=None,\n",
       "                                          learning_rate=None,\n",
       "                                          max_delta_step=None, max_depth=None,\n",
       "                                          min_child_weight=None, missing=nan,\n",
       "                                          monotone_constraints...\n",
       "                                          predictor=None, random_state=None,\n",
       "                                          reg_alpha=None, reg_lambda=None,\n",
       "                                          scale_pos_weight=None, subsample=None,\n",
       "                                          tree_method=None,\n",
       "                                          validate_parameters=None,\n",
       "                                          verbosity=None),\n",
       "                   n_jobs=-1,\n",
       "                   param_distributions={'learning_rate': [0.01, 0.05, 0.1],\n",
       "                                        'max_depth': [9, 11, 13],\n",
       "                                        'min_child_weight': [2, 3, 4],\n",
       "                                        'n_estimators': [800, 1000, 1100],\n",
       "                                        'reg_lambda': [0.001, 0.1, 1.0]},\n",
       "                   scoring='neg_mean_absolute_error')"
      ]
     },
     "execution_count": 86,
     "metadata": {},
     "output_type": "execute_result"
    }
   ],
   "source": [
    "%%time\n",
    "tuned_params = {\n",
    "    'max_depth': [ 9, 11, 13], \n",
    "    'learning_rate': [0.01, 0.05, 0.1],\n",
    "    'n_estimators': [800, 1000, 1100], \n",
    "    'reg_lambda': [0.001, 0.1, 1.0],\n",
    "    'min_child_weight' : [2, 3, 4],\n",
    "}\n",
    "\n",
    "xgb_model = RandomizedSearchCV(XGBRegressor(), tuned_params, scoring = 'neg_mean_absolute_error', cv=10, n_jobs=-1)\n",
    "\n",
    "xgb_model.fit(X_train, y_train)"
   ]
  },
  {
   "cell_type": "code",
   "execution_count": 87,
   "id": "6a4a0078",
   "metadata": {
    "ExecuteTime": {
     "end_time": "2022-06-25T13:39:55.218633Z",
     "start_time": "2022-06-25T13:39:55.193304Z"
    }
   },
   "outputs": [
    {
     "data": {
      "text/plain": [
       "XGBRegressor(base_score=0.5, booster='gbtree', colsample_bylevel=1,\n",
       "             colsample_bynode=1, colsample_bytree=1, enable_categorical=False,\n",
       "             gamma=0, gpu_id=-1, importance_type=None,\n",
       "             interaction_constraints='', learning_rate=0.01, max_delta_step=0,\n",
       "             max_depth=9, min_child_weight=3, missing=nan,\n",
       "             monotone_constraints='()', n_estimators=1000, n_jobs=8,\n",
       "             num_parallel_tree=1, predictor='auto', random_state=0, reg_alpha=0,\n",
       "             reg_lambda=1.0, scale_pos_weight=1, subsample=1,\n",
       "             tree_method='exact', validate_parameters=1, verbosity=None)"
      ]
     },
     "execution_count": 87,
     "metadata": {},
     "output_type": "execute_result"
    }
   ],
   "source": [
    "xgb_model.best_estimator_"
   ]
  },
  {
   "cell_type": "code",
   "execution_count": 88,
   "id": "127042eb",
   "metadata": {
    "ExecuteTime": {
     "end_time": "2022-06-25T13:39:55.487880Z",
     "start_time": "2022-06-25T13:39:55.220597Z"
    }
   },
   "outputs": [],
   "source": [
    "y_train_pred = xgb_model.predict(X_train)\n",
    "\n",
    "y_pred = xgb_model.predict(X_test)"
   ]
  },
  {
   "cell_type": "code",
   "execution_count": 89,
   "id": "6827e2a4",
   "metadata": {
    "ExecuteTime": {
     "end_time": "2022-06-25T13:39:55.519795Z",
     "start_time": "2022-06-25T13:39:55.491869Z"
    }
   },
   "outputs": [
    {
     "name": "stdout",
     "output_type": "stream",
     "text": [
      "Train Results for XG Boost Regression:\n",
      "*******************************\n",
      "Root mean squared error:  109331.16234173793\n",
      "R-squared:  0.9124472116401225\n",
      "Mean Absolute Percentage Error:  0.1886092072083742\n"
     ]
    }
   ],
   "source": [
    "#entering metrics score to the metics dataframe\n",
    "XGB_RMSE_Train = metrics.mean_squared_error(y_train.values, y_train_pred,squared=False) \n",
    "XGB_R2_Train = metrics.r2_score(y_train.values, y_train_pred) \n",
    "XGB_MAPE_Train = metrics.mean_absolute_percentage_error(y_train.values, y_train_pred) \n",
    "\n",
    "print(\"Train Results for XG Boost Regression:\")\n",
    "print(\"*******************************\")\n",
    "print(\"Root mean squared error: \", sqrt(mse(y_train.values, y_train_pred)))\n",
    "print(\"R-squared: \", rs(y_train.values, y_train_pred))\n",
    "print(\"Mean Absolute Percentage Error: \", mean_absolute_percentage_error(y_train.values, y_train_pred))"
   ]
  },
  {
   "cell_type": "code",
   "execution_count": 90,
   "id": "a0df76f2",
   "metadata": {
    "ExecuteTime": {
     "end_time": "2022-06-25T13:39:55.631498Z",
     "start_time": "2022-06-25T13:39:55.523785Z"
    }
   },
   "outputs": [
    {
     "name": "stdout",
     "output_type": "stream",
     "text": [
      "                   Model           RMSE  Adjusted_r_2      MAPE\n",
      "0  MultiLinear Reg Train  219827.712507      0.646046  0.294307\n",
      "1    Random Forest Train  153558.404086      0.827285  0.227879\n",
      "2    Decision Tree Train  172733.177074      0.781459  0.245495\n",
      "3              KNN Train  197302.601013      0.714867  0.246339\n",
      "4            Lasso Train  220268.598910      0.644625  0.294606\n",
      "5            Ridge Train  219869.609630      0.645911  0.294233\n",
      "6         XG Boost Train  109331.162342      0.912447  0.188609\n"
     ]
    }
   ],
   "source": [
    "model_results = pd.DataFrame([['XG Boost Train', XGB_RMSE_Train, XGB_R2_Train, XGB_MAPE_Train]],\n",
    "               columns = ['Model', 'RMSE', 'Adjusted_r_2', 'MAPE'])\n",
    "\n",
    "results_train = results_train.append(model_results, ignore_index = True)\n",
    "print(results_train)"
   ]
  },
  {
   "cell_type": "code",
   "execution_count": 91,
   "id": "374a55bb",
   "metadata": {
    "ExecuteTime": {
     "end_time": "2022-06-25T13:39:55.662415Z",
     "start_time": "2022-06-25T13:39:55.635485Z"
    }
   },
   "outputs": [
    {
     "name": "stdout",
     "output_type": "stream",
     "text": [
      "Test Results for XG Boost Regression:\n",
      "*******************************\n",
      "Root mean squared error:  194806.34080500287\n",
      "R-squared:  0.7010780628397572\n",
      "Mean Absolute Percentage Error:  0.2492145676236707\n"
     ]
    }
   ],
   "source": [
    "#entering metrics score to the metics dataframe\n",
    "XGB_RMSE_Test = metrics.mean_squared_error(y_test, y_pred,squared=False) \n",
    "XGB_R2_Test = metrics.r2_score(y_test, y_pred) \n",
    "XGB_MAPE_Test = metrics.mean_absolute_percentage_error(y_test, y_pred) \n",
    "\n",
    "\n",
    "print(\"Test Results for XG Boost Regression:\")\n",
    "print(\"*******************************\")\n",
    "print(\"Root mean squared error: \", sqrt(mse(y_test, y_pred)))\n",
    "print(\"R-squared: \", r2_score(y_test, y_pred))\n",
    "print(\"Mean Absolute Percentage Error: \", mean_absolute_percentage_error(y_test, y_pred))"
   ]
  },
  {
   "cell_type": "code",
   "execution_count": 92,
   "id": "08b3e101",
   "metadata": {
    "ExecuteTime": {
     "end_time": "2022-06-25T13:39:55.710287Z",
     "start_time": "2022-06-25T13:39:55.665409Z"
    }
   },
   "outputs": [
    {
     "name": "stdout",
     "output_type": "stream",
     "text": [
      "                  Model           RMSE  Adjusted_r_2      MAPE\n",
      "0  MultiLinear Reg Test  216637.442013      0.630326  0.293538\n",
      "1    Random Forest Test  192314.253574      0.708677  0.259496\n",
      "2    Decision Tree Test  217296.966568      0.628072  0.272698\n",
      "3              KNN Test  206965.646551      0.662598  0.264910\n",
      "4            Lasso Test  217050.077159      0.628917  0.294134\n",
      "5            Ridge Test  216759.167594      0.629911  0.293501\n",
      "6         XG Boost Test  194806.340805      0.701078  0.249215\n"
     ]
    }
   ],
   "source": [
    "model_results = pd.DataFrame([['XG Boost Test', XGB_RMSE_Test, XGB_R2_Test, XGB_MAPE_Test]],\n",
    "               columns = ['Model', 'RMSE', 'Adjusted_r_2', 'MAPE'])\n",
    "\n",
    "results_test = results_test.append(model_results, ignore_index = True)\n",
    "print(results_test)"
   ]
  },
  {
   "cell_type": "markdown",
   "id": "87ffb146",
   "metadata": {},
   "source": [
    "#### Feature Importance"
   ]
  },
  {
   "cell_type": "code",
   "execution_count": 93,
   "id": "4848ddcc",
   "metadata": {
    "ExecuteTime": {
     "end_time": "2022-06-25T13:40:45.092315Z",
     "start_time": "2022-06-25T13:39:55.713279Z"
    }
   },
   "outputs": [
    {
     "data": {
      "image/png": "[encoded data removed]",
      "text/plain": [
       "<Figure size 576x396 with 1 Axes>"
      ]
     },
     "metadata": {},
     "output_type": "display_data"
    },
    {
     "data": {
      "text/plain": [
       "<AxesSubplot:title={'center':'Feature Importances of 15 Features using XGBRegressor'}, xlabel='relative importance'>"
      ]
     },
     "execution_count": 93,
     "metadata": {},
     "output_type": "execute_result"
    }
   ],
   "source": [
    "xgb_model = XGBRegressor(max_depth=11,learning_rate=0.01,n_estimators=1100, reg_lambda=1.0,random_state =0)\n",
    "viz = FeatureImportances(xgb_model)\n",
    "viz.fit(X, y)\n",
    "viz.show()"
   ]
  },
  {
   "cell_type": "code",
   "execution_count": 94,
   "id": "ec30c559",
   "metadata": {
    "ExecuteTime": {
     "end_time": "2022-06-25T13:40:45.140182Z",
     "start_time": "2022-06-25T13:40:45.095302Z"
    }
   },
   "outputs": [
    {
     "data": {
      "text/plain": [
       "quality           0.559899\n",
       "coast             0.203707\n",
       "renovated         0.071663\n",
       "sight             0.049143\n",
       "living_measure    0.030478\n",
       "building_age      0.022382\n",
       "room_bath         0.011818\n",
       "basement          0.009821\n",
       "total_area        0.008938\n",
       "condition         0.008530\n",
       "lot_measure       0.007860\n",
       "ceil_measure      0.006533\n",
       "ceil              0.006338\n",
       "room_bed          0.002891\n",
       "furnished         0.000000\n",
       "dtype: float32"
      ]
     },
     "execution_count": 94,
     "metadata": {},
     "output_type": "execute_result"
    }
   ],
   "source": [
    "pd.Series(xgb_model.feature_importances_,index=X_train.columns).sort_values(ascending=False)"
   ]
  },
  {
   "cell_type": "markdown",
   "id": "63de2cef",
   "metadata": {},
   "source": [
    "### ADA Boost"
   ]
  },
  {
   "cell_type": "code",
   "execution_count": 95,
   "id": "a41bee39",
   "metadata": {
    "ExecuteTime": {
     "end_time": "2022-06-25T13:40:45.155153Z",
     "start_time": "2022-06-25T13:40:45.143174Z"
    }
   },
   "outputs": [],
   "source": [
    "from sklearn.ensemble import AdaBoostRegressor, GradientBoostingRegressor"
   ]
  },
  {
   "cell_type": "code",
   "execution_count": 96,
   "id": "fab5e661",
   "metadata": {
    "ExecuteTime": {
     "end_time": "2022-06-25T13:40:46.506065Z",
     "start_time": "2022-06-25T13:40:45.158135Z"
    }
   },
   "outputs": [
    {
     "data": {
      "text/plain": [
       "AdaBoostRegressor()"
      ]
     },
     "execution_count": 96,
     "metadata": {},
     "output_type": "execute_result"
    }
   ],
   "source": [
    "#Created an ada-boosting model\n",
    "AD_model=AdaBoostRegressor()\n",
    "AD_model.fit(X_train,y_train)"
   ]
  },
  {
   "cell_type": "code",
   "execution_count": 97,
   "id": "8a9ec2d3",
   "metadata": {
    "ExecuteTime": {
     "end_time": "2022-06-25T13:40:46.744427Z",
     "start_time": "2022-06-25T13:40:46.510055Z"
    }
   },
   "outputs": [
    {
     "name": "stdout",
     "output_type": "stream",
     "text": [
      "Performance on training data using Ada-boosting: -0.03671019979909418\n",
      "Performance on testing data using Ada-boosting: -0.1485312552963154\n",
      "Accuracy AD:  -0.1485312552963154\n",
      "MSE:  145811308638.4534\n",
      "MAE: 334667.7541904856\n"
     ]
    }
   ],
   "source": [
    "y_pred_ada = AD_model.predict(X_test)\n",
    "print('Performance on training data using Ada-boosting:',AD_model.score(X_train,y_train))\n",
    "print('Performance on testing data using Ada-boosting:',AD_model.score(X_test,y_test))\n",
    "acc_AD=metrics.r2_score(y_test, y_pred_ada)\n",
    "print('Accuracy AD: ',acc_AD)\n",
    "print('MSE: ',metrics.mean_squared_error(y_test, y_pred_ada))\n",
    "print('MAE:',metrics.mean_absolute_error(y_test,y_pred_ada))"
   ]
  },
  {
   "cell_type": "markdown",
   "id": "7cafa324",
   "metadata": {},
   "source": [
    "#### Tuning "
   ]
  },
  {
   "cell_type": "code",
   "execution_count": 98,
   "id": "3802b2f9",
   "metadata": {
    "ExecuteTime": {
     "end_time": "2022-06-25T13:46:38.252707Z",
     "start_time": "2022-06-25T13:40:46.746420Z"
    }
   },
   "outputs": [
    {
     "data": {
      "text/plain": [
       "GridSearchCV(cv=5, estimator=AdaBoostRegressor(), n_jobs=1,\n",
       "             param_grid={'learning_rate': [0.97, 0.98, 0.99, 1.0, 1.01, 1.02,\n",
       "                                           1.03, 1.04],\n",
       "                         'loss': ['linear', 'square', 'exponential'],\n",
       "                         'n_estimators': [2, 3, 4, 5, 6, 7, 8, 9, 10, 11, 12,\n",
       "                                          20]},\n",
       "             scoring='neg_mean_squared_error')"
      ]
     },
     "execution_count": 98,
     "metadata": {},
     "output_type": "execute_result"
    }
   ],
   "source": [
    "parameters = {\n",
    "    'n_estimators': [2, 3, 4, 5, 6, 7, 8, 9, 10, 11, 12, 20],\n",
    "    'loss': ['linear', 'square', 'exponential'],\n",
    "    'learning_rate': [(0.97 + x / 100) for x in range(0, 8)],\n",
    "}\n",
    "\n",
    "clf = GridSearchCV(estimator=AD_model,param_grid=parameters,scoring='neg_mean_squared_error',n_jobs=1,cv=5)\n",
    "clf.fit(X_train, y_train)"
   ]
  },
  {
   "cell_type": "code",
   "execution_count": 99,
   "id": "a81d7852",
   "metadata": {
    "ExecuteTime": {
     "end_time": "2022-06-25T13:46:38.268663Z",
     "start_time": "2022-06-25T13:46:38.255712Z"
    }
   },
   "outputs": [
    {
     "data": {
      "text/plain": [
       "{'learning_rate': 0.98, 'loss': 'exponential', 'n_estimators': 5}"
      ]
     },
     "execution_count": 99,
     "metadata": {},
     "output_type": "execute_result"
    }
   ],
   "source": [
    "clf.best_params_"
   ]
  },
  {
   "cell_type": "code",
   "execution_count": 100,
   "id": "2db1d1ab",
   "metadata": {
    "ExecuteTime": {
     "end_time": "2022-06-25T13:46:38.331494Z",
     "start_time": "2022-06-25T13:46:38.272654Z"
    }
   },
   "outputs": [],
   "source": [
    "## Predict Train results\n",
    "y_train_pred = clf.predict(X_train)\n",
    "\n",
    "## Predict Test results\n",
    "y_pred = clf.predict(X_test)"
   ]
  },
  {
   "cell_type": "code",
   "execution_count": 101,
   "id": "cdea6602",
   "metadata": {
    "ExecuteTime": {
     "end_time": "2022-06-25T13:46:38.363410Z",
     "start_time": "2022-06-25T13:46:38.335502Z"
    }
   },
   "outputs": [
    {
     "name": "stdout",
     "output_type": "stream",
     "text": [
      "Train Results for ADA Boosting:\n",
      "*******************************\n",
      "Root mean squared error:  233868.45527266533\n",
      "R-squared:  0.5993867164227918\n",
      "Mean Absolute Percentage Error:  0.36546950777407494\n"
     ]
    }
   ],
   "source": [
    "#entering metrics score to the metics dataframe\n",
    "TUNED_AD_RMSE_Train = metrics.mean_squared_error(y_train.values, y_train_pred,squared=False) \n",
    "TUNED_AD_R2_Train = metrics.r2_score(y_train.values, y_train_pred) \n",
    "TUNED_AD_MAPE_Train = metrics.mean_absolute_percentage_error(y_train.values, y_train_pred) \n",
    "\n",
    "\n",
    "print(\"Train Results for ADA Boosting:\")\n",
    "print(\"*******************************\")\n",
    "print(\"Root mean squared error: \", sqrt(mse(y_train.values, y_train_pred)))\n",
    "print(\"R-squared: \", rs(y_train.values, y_train_pred))\n",
    "print(\"Mean Absolute Percentage Error: \", mean_absolute_percentage_error(y_train.values, y_train_pred))"
   ]
  },
  {
   "cell_type": "code",
   "execution_count": 102,
   "id": "d8d88f53",
   "metadata": {
    "ExecuteTime": {
     "end_time": "2022-06-25T13:46:38.410285Z",
     "start_time": "2022-06-25T13:46:38.367413Z"
    }
   },
   "outputs": [
    {
     "name": "stdout",
     "output_type": "stream",
     "text": [
      "                   Model           RMSE  Adjusted_r_2      MAPE\n",
      "0  MultiLinear Reg Train  219827.712507      0.646046  0.294307\n",
      "1    Random Forest Train  153558.404086      0.827285  0.227879\n",
      "2    Decision Tree Train  172733.177074      0.781459  0.245495\n",
      "3              KNN Train  197302.601013      0.714867  0.246339\n",
      "4            Lasso Train  220268.598910      0.644625  0.294606\n",
      "5            Ridge Train  219869.609630      0.645911  0.294233\n",
      "6         XG Boost Train  109331.162342      0.912447  0.188609\n",
      "7        TUNED ADA Train  233868.455273      0.599387  0.365470\n"
     ]
    }
   ],
   "source": [
    "model_results = pd.DataFrame([['TUNED ADA Train', TUNED_AD_RMSE_Train, TUNED_AD_R2_Train, TUNED_AD_MAPE_Train]],\n",
    "               columns = ['Model', 'RMSE', 'Adjusted_r_2', 'MAPE'])\n",
    "\n",
    "results_train = results_train.append(model_results, ignore_index = True)\n",
    "print(results_train)"
   ]
  },
  {
   "cell_type": "code",
   "execution_count": 103,
   "id": "39453a24",
   "metadata": {
    "ExecuteTime": {
     "end_time": "2022-06-25T13:46:38.458157Z",
     "start_time": "2022-06-25T13:46:38.420261Z"
    }
   },
   "outputs": [
    {
     "name": "stdout",
     "output_type": "stream",
     "text": [
      "Test Results for ADA Boosting:\n",
      "*******************************\n",
      "Root mean squared error:  240022.99821916386\n",
      "R-squared:  0.5462074901206307\n",
      "Mean Absolute Percentage Error:  0.3720122314329564\n"
     ]
    }
   ],
   "source": [
    "#entering metrics score to the metics dataframe\n",
    "TUNED_AD_RMSE_Test = metrics.mean_squared_error(y_test, y_pred,squared=False)\n",
    "TUNED_AD_R2_Test = metrics.r2_score(y_test, y_pred) \n",
    "TUNED_AD_MAPE_Test = metrics.mean_absolute_percentage_error(y_test, y_pred) \n",
    "\n",
    "\n",
    "print(\"Test Results for ADA Boosting:\")\n",
    "print(\"*******************************\")\n",
    "print(\"Root mean squared error: \", sqrt(mse(y_test, y_pred)))\n",
    "print(\"R-squared: \", rs(y_test, y_pred))\n",
    "print(\"Mean Absolute Percentage Error: \", mean_absolute_percentage_error(y_test, y_pred))"
   ]
  },
  {
   "cell_type": "code",
   "execution_count": 104,
   "id": "7aac01a2",
   "metadata": {
    "ExecuteTime": {
     "end_time": "2022-06-25T13:46:38.506028Z",
     "start_time": "2022-06-25T13:46:38.461148Z"
    }
   },
   "outputs": [
    {
     "name": "stdout",
     "output_type": "stream",
     "text": [
      "                  Model           RMSE  Adjusted_r_2      MAPE\n",
      "0  MultiLinear Reg Test  216637.442013      0.630326  0.293538\n",
      "1    Random Forest Test  192314.253574      0.708677  0.259496\n",
      "2    Decision Tree Test  217296.966568      0.628072  0.272698\n",
      "3              KNN Test  206965.646551      0.662598  0.264910\n",
      "4            Lasso Test  217050.077159      0.628917  0.294134\n",
      "5            Ridge Test  216759.167594      0.629911  0.293501\n",
      "6         XG Boost Test  194806.340805      0.701078  0.249215\n",
      "7        TUNED ADA Test  240022.998219      0.546207  0.372012\n"
     ]
    }
   ],
   "source": [
    "model_results = pd.DataFrame([['TUNED ADA Test', TUNED_AD_RMSE_Test, TUNED_AD_R2_Test, TUNED_AD_MAPE_Test]],\n",
    "               columns = ['Model', 'RMSE', 'Adjusted_r_2', 'MAPE'])\n",
    "\n",
    "results_test = results_test.append(model_results, ignore_index = True)\n",
    "print(results_test)"
   ]
  },
  {
   "cell_type": "markdown",
   "id": "12efed36",
   "metadata": {},
   "source": [
    "### Gradient Boost"
   ]
  },
  {
   "cell_type": "code",
   "execution_count": 105,
   "id": "87184d20",
   "metadata": {
    "ExecuteTime": {
     "end_time": "2022-06-25T13:46:41.451148Z",
     "start_time": "2022-06-25T13:46:38.510028Z"
    }
   },
   "outputs": [
    {
     "data": {
      "text/plain": [
       "GradientBoostingRegressor()"
      ]
     },
     "execution_count": 105,
     "metadata": {},
     "output_type": "execute_result"
    }
   ],
   "source": [
    "#Created a Gradient boosting model\n",
    "GB_model=GradientBoostingRegressor()\n",
    "GB_model.fit(X_train,y_train)"
   ]
  },
  {
   "cell_type": "code",
   "execution_count": 106,
   "id": "8b121a61",
   "metadata": {
    "ExecuteTime": {
     "end_time": "2022-06-25T13:46:41.593826Z",
     "start_time": "2022-06-25T13:46:41.455138Z"
    }
   },
   "outputs": [
    {
     "name": "stdout",
     "output_type": "stream",
     "text": [
      "Performance on training data using Gradient-boosting: 0.780518935924395\n",
      "Performance on testing data using Gradient-boosting: 0.7252873782629572\n",
      "Accuracy GB:  0.7252873782629572\n",
      "MSE:  34876026830.14869\n",
      "MAE: 124202.53227410467\n"
     ]
    }
   ],
   "source": [
    "y_pred = GB_model.predict(X_test)\n",
    "print('Performance on training data using Gradient-boosting:',GB_model.score(X_train,y_train))\n",
    "print('Performance on testing data using Gradient-boosting:',GB_model.score(X_test,y_test))\n",
    "acc_GB=metrics.r2_score(y_test, y_pred)\n",
    "print('Accuracy GB: ',acc_GB)\n",
    "print('MSE: ',metrics.mean_squared_error(y_test, y_pred))\n",
    "print('MAE:',metrics.mean_absolute_error(y_test,y_pred))"
   ]
  },
  {
   "cell_type": "code",
   "execution_count": 107,
   "id": "a8480f03",
   "metadata": {
    "ExecuteTime": {
     "end_time": "2022-06-25T13:46:41.609784Z",
     "start_time": "2022-06-25T13:46:41.596818Z"
    }
   },
   "outputs": [],
   "source": [
    "#search best param for gradient boost\n",
    "param_dist_gb = { \"learning_rate\": [0.15,0.1,0.05,0.01,0.005,0.001],\n",
    "            \n",
    "                 'n_estimators':[100,250,500,750],\"max_depth\":[9,10,11,12],\n",
    "             \n",
    "              \"min_samples_leaf\": [3,5,7,9]\n",
    "                 }\n",
    "\n",
    "gb_gridsearch = RandomizedSearchCV(GB_model,param_dist_gb, random_state=0)"
   ]
  },
  {
   "cell_type": "code",
   "execution_count": 108,
   "id": "33a4d52a",
   "metadata": {
    "ExecuteTime": {
     "end_time": "2022-06-25T14:06:38.112740Z",
     "start_time": "2022-06-25T13:46:41.612775Z"
    }
   },
   "outputs": [
    {
     "data": {
      "text/plain": [
       "{'n_estimators': 100,\n",
       " 'min_samples_leaf': 9,\n",
       " 'max_depth': 12,\n",
       " 'learning_rate': 0.1}"
      ]
     },
     "execution_count": 108,
     "metadata": {},
     "output_type": "execute_result"
    }
   ],
   "source": [
    "search_gb=gb_gridsearch.fit(X_train, y_train)\n",
    "\n",
    "search_gb.best_params_"
   ]
  },
  {
   "cell_type": "code",
   "execution_count": 109,
   "id": "43c6fd5c",
   "metadata": {
    "ExecuteTime": {
     "end_time": "2022-06-25T14:06:38.143992Z",
     "start_time": "2022-06-25T14:06:38.112740Z"
    }
   },
   "outputs": [],
   "source": [
    "#build gb mdel with best param\n",
    "GB_model = GradientBoostingRegressor(learning_rate=0.01,\n",
    "                                     max_depth=12,\n",
    "                                     max_features='sqrt',\n",
    "                                     min_samples_leaf=7,\n",
    "                                     n_estimators=750)"
   ]
  },
  {
   "cell_type": "code",
   "execution_count": 110,
   "id": "f0c26392",
   "metadata": {
    "ExecuteTime": {
     "end_time": "2022-06-25T14:06:54.975782Z",
     "start_time": "2022-06-25T14:06:38.143992Z"
    }
   },
   "outputs": [
    {
     "data": {
      "text/plain": [
       "GradientBoostingRegressor(learning_rate=0.01, max_depth=12, max_features='sqrt',\n",
       "                          min_samples_leaf=7, n_estimators=750)"
      ]
     },
     "execution_count": 110,
     "metadata": {},
     "output_type": "execute_result"
    }
   ],
   "source": [
    "GB_model.fit(X_train, y_train)"
   ]
  },
  {
   "cell_type": "code",
   "execution_count": 111,
   "id": "809d1480",
   "metadata": {
    "ExecuteTime": {
     "end_time": "2022-06-25T14:06:56.241251Z",
     "start_time": "2022-06-25T14:06:54.975782Z"
    }
   },
   "outputs": [],
   "source": [
    "## Predict Train results\n",
    "y_train_pred = GB_model.predict(X_train)\n",
    "\n",
    "## Predict Test results\n",
    "y_pred = GB_model.predict(X_test)"
   ]
  },
  {
   "cell_type": "code",
   "execution_count": 112,
   "id": "03b6f025",
   "metadata": {
    "ExecuteTime": {
     "end_time": "2022-06-25T14:06:56.272564Z",
     "start_time": "2022-06-25T14:06:56.241251Z"
    }
   },
   "outputs": [
    {
     "name": "stdout",
     "output_type": "stream",
     "text": [
      "Train Results for Gradient Boosting:\n",
      "*******************************\n",
      "Root mean squared error:  106843.18752495291\n",
      "R-squared:  0.9163866308019069\n",
      "Mean Absolute Percentage Error:  0.17471974125308798\n"
     ]
    }
   ],
   "source": [
    "GB_RMSE_Train = metrics.mean_squared_error(y_train.values, y_train_pred,squared=False) \n",
    "GB_R2_Train = metrics.r2_score(y_train.values, y_train_pred) \n",
    "GB_MAPE_Train = metrics.mean_absolute_percentage_error(y_train.values, y_train_pred) \n",
    "\n",
    "\n",
    "print(\"Train Results for Gradient Boosting:\")\n",
    "print(\"*******************************\")\n",
    "print(\"Root mean squared error: \", sqrt(mse(y_train.values, y_train_pred)))\n",
    "print(\"R-squared: \", rs(y_train.values, y_train_pred))\n",
    "print(\"Mean Absolute Percentage Error: \", mean_absolute_percentage_error(y_train.values, y_train_pred))"
   ]
  },
  {
   "cell_type": "code",
   "execution_count": 113,
   "id": "80fcef9a",
   "metadata": {
    "ExecuteTime": {
     "end_time": "2022-06-25T14:06:56.319590Z",
     "start_time": "2022-06-25T14:06:56.272564Z"
    }
   },
   "outputs": [
    {
     "name": "stdout",
     "output_type": "stream",
     "text": [
      "                   Model           RMSE  Adjusted_r_2      MAPE\n",
      "0  MultiLinear Reg Train  219827.712507      0.646046  0.294307\n",
      "1    Random Forest Train  153558.404086      0.827285  0.227879\n",
      "2    Decision Tree Train  172733.177074      0.781459  0.245495\n",
      "3              KNN Train  197302.601013      0.714867  0.246339\n",
      "4            Lasso Train  220268.598910      0.644625  0.294606\n",
      "5            Ridge Train  219869.609630      0.645911  0.294233\n",
      "6         XG Boost Train  109331.162342      0.912447  0.188609\n",
      "7        TUNED ADA Train  233868.455273      0.599387  0.365470\n",
      "8               GB Train  106843.187525      0.916387  0.174720\n"
     ]
    }
   ],
   "source": [
    "model_results = pd.DataFrame([['GB Train', GB_RMSE_Train, GB_R2_Train, GB_MAPE_Train]],\n",
    "               columns = ['Model', 'RMSE', 'Adjusted_r_2', 'MAPE'])\n",
    "\n",
    "results_train = results_train.append(model_results, ignore_index = True)\n",
    "print(results_train)"
   ]
  },
  {
   "cell_type": "code",
   "execution_count": 114,
   "id": "135d6061",
   "metadata": {
    "ExecuteTime": {
     "end_time": "2022-06-25T14:06:56.413148Z",
     "start_time": "2022-06-25T14:06:56.319590Z"
    }
   },
   "outputs": [
    {
     "name": "stdout",
     "output_type": "stream",
     "text": [
      "Test Results for Gradient Boosting\n",
      "*******************************\n",
      "Root mean squared error:  185327.96510888604\n",
      "R-squared:  0.7294587296135977\n",
      "Mean Absolute Percentage Error:  0.24792581838138222\n"
     ]
    }
   ],
   "source": [
    "#entering metrics score to the metics dataframe\n",
    "GB_RMSE_Test = metrics.mean_squared_error(y_test, y_pred,squared=False)\n",
    "GB_R2_Test = metrics.r2_score(y_test, y_pred) \n",
    "GB_MAPE_Test = metrics.mean_absolute_percentage_error(y_test, y_pred) \n",
    "\n",
    "\n",
    "print(\"Test Results for Gradient Boosting\")\n",
    "print(\"*******************************\")\n",
    "print(\"Root mean squared error: \", sqrt(mse(y_test, y_pred)))\n",
    "print(\"R-squared: \", r2_score(y_test, y_pred))\n",
    "print(\"Mean Absolute Percentage Error: \", mean_absolute_percentage_error(y_test, y_pred))"
   ]
  },
  {
   "cell_type": "code",
   "execution_count": 115,
   "id": "3ea66b83",
   "metadata": {
    "ExecuteTime": {
     "end_time": "2022-06-25T14:06:56.460146Z",
     "start_time": "2022-06-25T14:06:56.413148Z"
    }
   },
   "outputs": [
    {
     "name": "stdout",
     "output_type": "stream",
     "text": [
      "                  Model           RMSE  Adjusted_r_2      MAPE\n",
      "0  MultiLinear Reg Test  216637.442013      0.630326  0.293538\n",
      "1    Random Forest Test  192314.253574      0.708677  0.259496\n",
      "2    Decision Tree Test  217296.966568      0.628072  0.272698\n",
      "3              KNN Test  206965.646551      0.662598  0.264910\n",
      "4            Lasso Test  217050.077159      0.628917  0.294134\n",
      "5            Ridge Test  216759.167594      0.629911  0.293501\n",
      "6         XG Boost Test  194806.340805      0.701078  0.249215\n",
      "7        TUNED ADA Test  240022.998219      0.546207  0.372012\n",
      "8               GB Test  185327.965109      0.729459  0.247926\n"
     ]
    }
   ],
   "source": [
    "model_results = pd.DataFrame([['GB Test', GB_RMSE_Test, GB_R2_Test, GB_MAPE_Test]],\n",
    "               columns = ['Model', 'RMSE', 'Adjusted_r_2', 'MAPE'])\n",
    "\n",
    "results_test = results_test.append(model_results, ignore_index = True)\n",
    "print(results_test)"
   ]
  },
  {
   "cell_type": "markdown",
   "id": "dd4fa8fb",
   "metadata": {},
   "source": [
    "### Ensemble Method"
   ]
  },
  {
   "cell_type": "code",
   "execution_count": 124,
   "id": "8d4e5ec6",
   "metadata": {
    "ExecuteTime": {
     "end_time": "2022-06-25T14:18:37.123878Z",
     "start_time": "2022-06-25T14:17:08.108753Z"
    }
   },
   "outputs": [],
   "source": [
    "## Ensembling Code\n",
    "# Ensembling rf_model, xgb_model,dt_model - avoided KNN as that involves scaling \n",
    "\n",
    "from sklearn.ensemble import VotingRegressor\n",
    "estim = [('RF',rf_model),('XG',xgb_model),('GB',GB_model)]\n",
    "vot = VotingRegressor(estim,weights=[1,3,1])\n",
    "vot.fit(X_train,y_train)\n",
    "y_train_pred = vot.predict(X_train)\n",
    "y_test_pred = vot.predict(X_test)\n",
    "\n",
    "# After these predictions are done compute RMSE, Rsquared and MAPE as earlier"
   ]
  },
  {
   "cell_type": "code",
   "execution_count": 125,
   "id": "45bd2d6c",
   "metadata": {
    "ExecuteTime": {
     "end_time": "2022-06-25T14:19:06.197534Z",
     "start_time": "2022-06-25T14:19:06.168611Z"
    }
   },
   "outputs": [
    {
     "name": "stdout",
     "output_type": "stream",
     "text": [
      "Train Results for Ensembling:\n",
      "*******************************\n",
      "Root mean squared error:  92358.43251075476\n",
      "R-squared:  0.9375208433906423\n",
      "Mean Absolute Percentage Error:  0.1608031796716949\n"
     ]
    }
   ],
   "source": [
    "Ensembling_RMSE_Train = metrics.mean_squared_error(y_train.values, y_train_pred,squared=False) \n",
    "Ensembling_R2_Train = metrics.r2_score(y_train.values, y_train_pred) \n",
    "Ensembling_MAPE_Train = metrics.mean_absolute_percentage_error(y_train.values, y_train_pred) \n",
    "\n",
    "\n",
    "print(\"Train Results for Ensembling:\")\n",
    "print(\"*******************************\")\n",
    "print(\"Root mean squared error: \", sqrt(mse(y_train.values, y_train_pred)))\n",
    "print(\"R-squared: \", rs(y_train.values, y_train_pred))\n",
    "print(\"Mean Absolute Percentage Error: \", mean_absolute_percentage_error(y_train.values, y_train_pred))"
   ]
  },
  {
   "cell_type": "code",
   "execution_count": 126,
   "id": "5349eb5d",
   "metadata": {
    "ExecuteTime": {
     "end_time": "2022-06-25T14:19:16.580062Z",
     "start_time": "2022-06-25T14:19:16.542163Z"
    }
   },
   "outputs": [
    {
     "name": "stdout",
     "output_type": "stream",
     "text": [
      "                    Model           RMSE  Adjusted_r_2      MAPE\n",
      "0   MultiLinear Reg Train  219827.712507      0.646046  0.294307\n",
      "1     Random Forest Train  153558.404086      0.827285  0.227879\n",
      "2     Decision Tree Train  172733.177074      0.781459  0.245495\n",
      "3               KNN Train  197302.601013      0.714867  0.246339\n",
      "4             Lasso Train  220268.598910      0.644625  0.294606\n",
      "5             Ridge Train  219869.609630      0.645911  0.294233\n",
      "6          XG Boost Train  109331.162342      0.912447  0.188609\n",
      "7         TUNED ADA Train  233868.455273      0.599387  0.365470\n",
      "8                GB Train  106843.187525      0.916387  0.174720\n",
      "9        Ensembling Train  103578.318750      0.921419  0.173576\n",
      "10       Ensembling Train   92358.432511      0.937521  0.160803\n"
     ]
    }
   ],
   "source": [
    "model_results = pd.DataFrame([['Ensembling Train', Ensembling_RMSE_Train, Ensembling_R2_Train, Ensembling_MAPE_Train]],\n",
    "               columns = ['Model', 'RMSE', 'Adjusted_r_2', 'MAPE'])\n",
    "\n",
    "results_train = results_train.append(model_results, ignore_index = True)\n",
    "print(results_train)"
   ]
  },
  {
   "cell_type": "code",
   "execution_count": 127,
   "id": "2e545e5c",
   "metadata": {
    "ExecuteTime": {
     "end_time": "2022-06-25T14:19:24.991220Z",
     "start_time": "2022-06-25T14:19:24.955317Z"
    }
   },
   "outputs": [
    {
     "name": "stdout",
     "output_type": "stream",
     "text": [
      "Test Results for :Ensembling\n",
      "*******************************\n",
      "Root mean squared error:  192063.26488495708\n",
      "R-squared:  0.7094370575250788\n",
      "Mean Absolute Percentage Error:  0.24803560082425302\n"
     ]
    }
   ],
   "source": [
    "#entering metrics score to the metics dataframe\n",
    "Ensembling_RMSE_Test = metrics.mean_squared_error(y_test, y_test_pred,squared=False)\n",
    "Ensembling_R2_Test = metrics.r2_score(y_test, y_test_pred) \n",
    "Ensembling_MAPE_Test = metrics.mean_absolute_percentage_error(y_test, y_test_pred) \n",
    "\n",
    "\n",
    "print(\"Test Results for :Ensembling\")\n",
    "print(\"*******************************\")\n",
    "print(\"Root mean squared error: \", sqrt(mse(y_test, y_test_pred)))\n",
    "print(\"R-squared: \", r2_score(y_test, y_test_pred))\n",
    "print(\"Mean Absolute Percentage Error: \", mean_absolute_percentage_error(y_test, y_test_pred))\n",
    "\n",
    "\n",
    "model_results = pd.DataFrame([['Ensembling Test', Ensembling_RMSE_Test, Ensembling_R2_Test, Ensembling_MAPE_Test]],\n",
    "               columns = ['Model', 'RMSE', 'Adjusted_r_2', 'MAPE'])"
   ]
  },
  {
   "cell_type": "code",
   "execution_count": 128,
   "id": "35c0c952",
   "metadata": {
    "ExecuteTime": {
     "end_time": "2022-06-25T14:19:26.988156Z",
     "start_time": "2022-06-25T14:19:26.942262Z"
    },
    "scrolled": true
   },
   "outputs": [
    {
     "name": "stdout",
     "output_type": "stream",
     "text": [
      "                   Model           RMSE  Adjusted_r_2      MAPE\n",
      "0   MultiLinear Reg Test  216637.442013      0.630326  0.293538\n",
      "1     Random Forest Test  192314.253574      0.708677  0.259496\n",
      "2     Decision Tree Test  217296.966568      0.628072  0.272698\n",
      "3               KNN Test  206965.646551      0.662598  0.264910\n",
      "4             Lasso Test  217050.077159      0.628917  0.294134\n",
      "5             Ridge Test  216759.167594      0.629911  0.293501\n",
      "6          XG Boost Test  194806.340805      0.701078  0.249215\n",
      "7         TUNED ADA Test  240022.998219      0.546207  0.372012\n",
      "8                GB Test  185327.965109      0.729459  0.247926\n",
      "9        Ensembling Test  190420.819535      0.714385  0.248637\n",
      "10       Ensembling Test  192063.264885      0.709437  0.248036\n"
     ]
    }
   ],
   "source": [
    "results_test = results_test.append(model_results, ignore_index = True)\n",
    "print(results_test)"
   ]
  },
  {
   "cell_type": "markdown",
   "id": "0742515e",
   "metadata": {},
   "source": [
    "### Final"
   ]
  },
  {
   "cell_type": "code",
   "execution_count": 121,
   "id": "2a13b2dd",
   "metadata": {
    "ExecuteTime": {
     "end_time": "2022-06-25T14:10:35.595380Z",
     "start_time": "2022-06-25T14:10:35.178495Z"
    }
   },
   "outputs": [],
   "source": [
    "pred_train=xgb_model.predict(X_train)\n",
    "pred_test = xgb_model.predict(X_test)"
   ]
  },
  {
   "cell_type": "code",
   "execution_count": 122,
   "id": "15a2cdef",
   "metadata": {
    "ExecuteTime": {
     "end_time": "2022-06-25T14:10:39.002049Z",
     "start_time": "2022-06-25T14:10:36.540559Z"
    }
   },
   "outputs": [
    {
     "data": {
      "text/plain": [
       "(59754.978092023375, 8861186.413365655, 87074.49970736905, 8888505.934981)"
      ]
     },
     "execution_count": 122,
     "metadata": {},
     "output_type": "execute_result"
    },
    {
     "data": {
      "image/png": "[encoded data removed]",
      "text/plain": [
       "<Figure size 576x396 with 1 Axes>"
      ]
     },
     "metadata": {},
     "output_type": "display_data"
    }
   ],
   "source": [
    "g=plt.scatter(y_test, pred_test)\n",
    "g.axes.set_yscale('log')\n",
    "g.axes.set_xscale('log')\n",
    "g.axes.set_xlabel('True Values ')\n",
    "g.axes.set_ylabel('Predictions ')\n",
    "g.axes.axis('equal')\n",
    "g.axes.axis('square')"
   ]
  },
  {
   "cell_type": "code",
   "execution_count": 123,
   "id": "234e8d50",
   "metadata": {
    "ExecuteTime": {
     "end_time": "2022-06-25T14:10:39.494757Z",
     "start_time": "2022-06-25T14:10:39.008033Z"
    }
   },
   "outputs": [
    {
     "data": {
      "image/png": "[encoded data removed]",
      "text/plain": [
       "<Figure size 576x396 with 1 Axes>"
      ]
     },
     "metadata": {},
     "output_type": "display_data"
    }
   ],
   "source": [
    "fig, ax = plt.subplots()\n",
    "ax.scatter(y_test, pred_test)\n",
    "ax.plot([y_test.min(), y_test.max()], [y_test.min(), y_test.max()], 'k--', lw=4)\n",
    "ax.set_xlabel('Measured')\n",
    "ax.set_ylabel('Predicted')\n",
    "plt.show();"
   ]
  },
  {
   "cell_type": "markdown",
   "id": "7f9288c1",
   "metadata": {},
   "source": [
    "## Comparing RSME"
   ]
  },
  {
   "cell_type": "code",
   "execution_count": 122,
   "id": "c8d20734",
   "metadata": {
    "ExecuteTime": {
     "end_time": "2022-06-19T05:43:11.135926Z",
     "start_time": "2022-06-19T05:43:11.031144Z"
    }
   },
   "outputs": [
    {
     "data": {
      "text/html": [
       "<div>\n",
       "<style scoped>\n",
       "    .dataframe tbody tr th:only-of-type {\n",
       "        vertical-align: middle;\n",
       "    }\n",
       "\n",
       "    .dataframe tbody tr th {\n",
       "        vertical-align: top;\n",
       "    }\n",
       "\n",
       "    .dataframe thead th {\n",
       "        text-align: right;\n",
       "    }\n",
       "</style>\n",
       "<table border=\"1\" class=\"dataframe\">\n",
       "  <thead>\n",
       "    <tr style=\"text-align: right;\">\n",
       "      <th></th>\n",
       "      <th>LR</th>\n",
       "      <th>RF</th>\n",
       "      <th>DT</th>\n",
       "      <th>XGB</th>\n",
       "      <th>KNN</th>\n",
       "      <th>Lasso</th>\n",
       "      <th>Ridge</th>\n",
       "      <th>XGB</th>\n",
       "      <th>ADA</th>\n",
       "      <th>Ensembling</th>\n",
       "      <th>Stacking</th>\n",
       "    </tr>\n",
       "  </thead>\n",
       "  <tbody>\n",
       "    <tr>\n",
       "      <th>Train_RMSE</th>\n",
       "      <td>219827.713</td>\n",
       "      <td>147757.344</td>\n",
       "      <td>174806.883</td>\n",
       "      <td>120597.520</td>\n",
       "      <td>197302.601</td>\n",
       "      <td>220268.599</td>\n",
       "      <td>219869.610</td>\n",
       "      <td>120597.520</td>\n",
       "      <td>237629.80</td>\n",
       "      <td>106940.431</td>\n",
       "      <td>151314.424</td>\n",
       "    </tr>\n",
       "    <tr>\n",
       "      <th>Test_RMSE</th>\n",
       "      <td>216637.442</td>\n",
       "      <td>191520.980</td>\n",
       "      <td>216645.048</td>\n",
       "      <td>190295.955</td>\n",
       "      <td>206965.647</td>\n",
       "      <td>217050.077</td>\n",
       "      <td>216759.168</td>\n",
       "      <td>190295.955</td>\n",
       "      <td>239178.45</td>\n",
       "      <td>194104.273</td>\n",
       "      <td>197368.290</td>\n",
       "    </tr>\n",
       "  </tbody>\n",
       "</table>\n",
       "</div>"
      ],
      "text/plain": [
       "                    LR          RF          DT         XGB         KNN  \\\n",
       "Train_RMSE  219827.713  147757.344  174806.883  120597.520  197302.601   \n",
       "Test_RMSE   216637.442  191520.980  216645.048  190295.955  206965.647   \n",
       "\n",
       "                 Lasso       Ridge         XGB        ADA  Ensembling  \\\n",
       "Train_RMSE  220268.599  219869.610  120597.520  237629.80  106940.431   \n",
       "Test_RMSE   217050.077  216759.168  190295.955  239178.45  194104.273   \n",
       "\n",
       "              Stacking  \n",
       "Train_RMSE  151314.424  \n",
       "Test_RMSE   197368.290  "
      ]
     },
     "execution_count": 122,
     "metadata": {},
     "output_type": "execute_result"
    }
   ],
   "source": [
    "index = ['Train_RMSE', 'Test_RMSE']\n",
    "columns = [\n",
    "    'LR','RF', 'DT', 'XGB', 'KNN', 'Lasso', 'Ridge', 'XGB', 'ADA','GB'\n",
    "    'Ensembling',\n",
    "]\n",
    "train = [\n",
    "    LR_RMSE_Train,RF_RMSE_Train, DT_RMSE_Train, XGB_RMSE_Train, KNN_RMSE_Train,\n",
    "     Lasso_RMSE_Train, Ridge_RMSE_Train, XGB_RMSE_Train,\n",
    "    TUNED_AD_RMSE_Train, GB ,Ensembling_RMSE_Train\n",
    "]\n",
    "test = [\n",
    "    LR_RMSE_Test,RF_RMSE_Test, DT_RMSE_Test, XGB_RMSE_Test, KNN_RMSE_Test,\n",
    "    Lasso_RMSE_Test, Ridge_RMSE_Test, XGB_RMSE_Test, TUNED_AD_RMSE_Test,\n",
    "    Ensembling_RMSE_Test\n",
    "]\n",
    "\n",
    "data = pd.DataFrame([train, test], index=index, columns=columns)\n",
    "round(data, 3)"
   ]
  },
  {
   "cell_type": "code",
   "execution_count": 123,
   "id": "1eb4fd6b",
   "metadata": {
    "ExecuteTime": {
     "end_time": "2022-06-19T05:43:15.641339Z",
     "start_time": "2022-06-19T05:43:15.092184Z"
    }
   },
   "outputs": [
    {
     "data": {
      "image/png": "[encoded data removed]",
      "text/plain": [
       "<Figure size 576x360 with 1 Axes>"
      ]
     },
     "metadata": {},
     "output_type": "display_data"
    }
   ],
   "source": [
    "#plot a horizontal bar plot for the metrics of different regressor\n",
    "plt.figure(figsize=(8,5))\n",
    "min_RMSE_index= results_train.RMSE.argmin()\n",
    "plt.barh(results_train.Model, results_train.RMSE, color='c')\n",
    "plt.barh(results_train.Model[min_RMSE_index], results_train.RMSE[min_RMSE_index], color='m')\n",
    "plt.title(\"RMSE for Train Data\", size=15);\n",
    "plt.show()"
   ]
  },
  {
   "cell_type": "code",
   "execution_count": 124,
   "id": "ba03ba67",
   "metadata": {
    "ExecuteTime": {
     "end_time": "2022-06-19T05:43:16.089949Z",
     "start_time": "2022-06-19T05:43:15.645237Z"
    }
   },
   "outputs": [
    {
     "data": {
      "image/png": "[encoded data removed]",
      "text/plain": [
       "<Figure size 576x360 with 1 Axes>"
      ]
     },
     "metadata": {},
     "output_type": "display_data"
    }
   ],
   "source": [
    "#plot a horizontal bar plot for the metrics of different regressor\n",
    "plt.figure(figsize=(8,5))\n",
    "min_RMSE_index= results_test.RMSE.argmin()\n",
    "plt.barh(results_test.Model, results_test.RMSE, color='c')\n",
    "plt.barh(results_test.Model[min_RMSE_index], results_test.RMSE[min_RMSE_index], color='m')\n",
    "plt.title(\"RMSE for Test Data\", size=15);\n",
    "plt.show()"
   ]
  },
  {
   "cell_type": "markdown",
   "id": "7276dc78",
   "metadata": {},
   "source": [
    "## Comparing Adjusted R_2"
   ]
  },
  {
   "cell_type": "code",
   "execution_count": 125,
   "id": "da5c0c3c",
   "metadata": {
    "ExecuteTime": {
     "end_time": "2022-06-19T05:43:16.324259Z",
     "start_time": "2022-06-19T05:43:16.263894Z"
    }
   },
   "outputs": [
    {
     "data": {
      "text/html": [
       "<div>\n",
       "<style scoped>\n",
       "    .dataframe tbody tr th:only-of-type {\n",
       "        vertical-align: middle;\n",
       "    }\n",
       "\n",
       "    .dataframe tbody tr th {\n",
       "        vertical-align: top;\n",
       "    }\n",
       "\n",
       "    .dataframe thead th {\n",
       "        text-align: right;\n",
       "    }\n",
       "</style>\n",
       "<table border=\"1\" class=\"dataframe\">\n",
       "  <thead>\n",
       "    <tr style=\"text-align: right;\">\n",
       "      <th></th>\n",
       "      <th>LR</th>\n",
       "      <th>RF</th>\n",
       "      <th>DT</th>\n",
       "      <th>XGB</th>\n",
       "      <th>KNN</th>\n",
       "      <th>Lasso</th>\n",
       "      <th>Ridge</th>\n",
       "      <th>XGB</th>\n",
       "      <th>ADA</th>\n",
       "      <th>Emsebling</th>\n",
       "      <th>Stacking</th>\n",
       "    </tr>\n",
       "  </thead>\n",
       "  <tbody>\n",
       "    <tr>\n",
       "      <th>Train_Adjusted_R_Square</th>\n",
       "      <td>0.646</td>\n",
       "      <td>0.840</td>\n",
       "      <td>0.776</td>\n",
       "      <td>0.893</td>\n",
       "      <td>0.715</td>\n",
       "      <td>0.645</td>\n",
       "      <td>0.646</td>\n",
       "      <td>0.893</td>\n",
       "      <td>0.586</td>\n",
       "      <td>0.916</td>\n",
       "      <td>0.693</td>\n",
       "    </tr>\n",
       "    <tr>\n",
       "      <th>Test_Adjusted_R_Square</th>\n",
       "      <td>0.630</td>\n",
       "      <td>0.711</td>\n",
       "      <td>0.630</td>\n",
       "      <td>0.715</td>\n",
       "      <td>0.663</td>\n",
       "      <td>0.629</td>\n",
       "      <td>0.630</td>\n",
       "      <td>0.715</td>\n",
       "      <td>0.549</td>\n",
       "      <td>0.703</td>\n",
       "      <td>0.693</td>\n",
       "    </tr>\n",
       "  </tbody>\n",
       "</table>\n",
       "</div>"
      ],
      "text/plain": [
       "                            LR     RF     DT    XGB    KNN  Lasso  Ridge  \\\n",
       "Train_Adjusted_R_Square  0.646  0.840  0.776  0.893  0.715  0.645  0.646   \n",
       "Test_Adjusted_R_Square   0.630  0.711  0.630  0.715  0.663  0.629  0.630   \n",
       "\n",
       "                           XGB    ADA  Emsebling  Stacking  \n",
       "Train_Adjusted_R_Square  0.893  0.586      0.916     0.693  \n",
       "Test_Adjusted_R_Square   0.715  0.549      0.703     0.693  "
      ]
     },
     "execution_count": 125,
     "metadata": {},
     "output_type": "execute_result"
    }
   ],
   "source": [
    "index = ['Train_Adjusted_R_Square', 'Test_Adjusted_R_Square']\n",
    "columns = [\n",
    "    'LR','RF', 'DT', 'XGB', 'KNN', 'Lasso', 'Ridge', 'XGB', 'ADA',\n",
    "    'Emsebling', 'Stacking'\n",
    "]\n",
    "train = [\n",
    "    LR_R2_Train,RF_R2_Train, DT_R2_Train, XGB_R2_Train, KNN_R2_Train,\n",
    "    Lasso_R2_Train, Ridge_R2_Train, XGB_R2_Train, TUNED_AD_R2_Train,\n",
    "    Ensembling_R2_Train, Stack_R2_Test\n",
    "]\n",
    "test = [\n",
    "    LR_R2_Test,RF_R2_Test, DT_R2_Test, XGB_R2_Test, KNN_R2_Test,\n",
    "    Lasso_R2_Test, Ridge_R2_Test, XGB_R2_Test, TUNED_AD_R2_Test,\n",
    "    Ensembling_R2_Test,Stack_R2_Test\n",
    "]\n",
    "\n",
    "data = pd.DataFrame([train, test], index=index, columns=columns)\n",
    "round(data, 3)"
   ]
  },
  {
   "cell_type": "code",
   "execution_count": 126,
   "id": "fbfca938",
   "metadata": {
    "ExecuteTime": {
     "end_time": "2022-06-19T05:43:17.022677Z",
     "start_time": "2022-06-19T05:43:16.645695Z"
    }
   },
   "outputs": [
    {
     "data": {
      "image/png": "[encoded data removed]",
      "text/plain": [
       "<Figure size 576x360 with 1 Axes>"
      ]
     },
     "metadata": {},
     "output_type": "display_data"
    }
   ],
   "source": [
    "#plot a horizontal bar plot for the metrics of different regressor\n",
    "plt.figure(figsize=(8,5))\n",
    "max_Adjusted_r_2_index= results_train.Adjusted_r_2.argmax()\n",
    "plt.barh(results_train.Model, results_train.Adjusted_r_2, color='c')\n",
    "plt.barh(results_train.Model[max_Adjusted_r_2_index], results_train.Adjusted_r_2[max_Adjusted_r_2_index], color='m')\n",
    "plt.title(\"Best Performace using r2 Score\", size=15);\n",
    "plt.show()"
   ]
  },
  {
   "cell_type": "code",
   "execution_count": 127,
   "id": "5201128e",
   "metadata": {
    "ExecuteTime": {
     "end_time": "2022-06-19T05:43:17.967845Z",
     "start_time": "2022-06-19T05:43:17.526395Z"
    }
   },
   "outputs": [
    {
     "data": {
      "image/png": "[encoded data removed]",
      "text/plain": [
       "<Figure size 576x360 with 1 Axes>"
      ]
     },
     "metadata": {},
     "output_type": "display_data"
    }
   ],
   "source": [
    "#plot a horizontal bar plot for the metrics of different regressor\n",
    "plt.figure(figsize=(8,5))\n",
    "max_Adjusted_r_2_index= results_test.Adjusted_r_2.argmax()\n",
    "plt.barh(results_test.Model, results_test.Adjusted_r_2, color='c')\n",
    "plt.barh(results_test.Model[max_Adjusted_r_2_index], results_test.Adjusted_r_2[max_Adjusted_r_2_index], color='m')\n",
    "plt.title(\"Best Performace using r2 Score TEST DATA\", size=15);\n",
    "plt.show()"
   ]
  },
  {
   "cell_type": "markdown",
   "id": "bab7c3c2",
   "metadata": {},
   "source": [
    "## Comparing MAPE"
   ]
  },
  {
   "cell_type": "code",
   "execution_count": 128,
   "id": "8a01946d",
   "metadata": {
    "ExecuteTime": {
     "end_time": "2022-06-19T05:43:21.547680Z",
     "start_time": "2022-06-19T05:43:21.445532Z"
    }
   },
   "outputs": [
    {
     "data": {
      "text/html": [
       "<div>\n",
       "<style scoped>\n",
       "    .dataframe tbody tr th:only-of-type {\n",
       "        vertical-align: middle;\n",
       "    }\n",
       "\n",
       "    .dataframe tbody tr th {\n",
       "        vertical-align: top;\n",
       "    }\n",
       "\n",
       "    .dataframe thead th {\n",
       "        text-align: right;\n",
       "    }\n",
       "</style>\n",
       "<table border=\"1\" class=\"dataframe\">\n",
       "  <thead>\n",
       "    <tr style=\"text-align: right;\">\n",
       "      <th></th>\n",
       "      <th>LR</th>\n",
       "      <th>RF</th>\n",
       "      <th>DT</th>\n",
       "      <th>XGB</th>\n",
       "      <th>KNN</th>\n",
       "      <th>Lasso</th>\n",
       "      <th>Ridge</th>\n",
       "      <th>ADA</th>\n",
       "      <th>Ensembling</th>\n",
       "      <th>Stacking</th>\n",
       "    </tr>\n",
       "  </thead>\n",
       "  <tbody>\n",
       "    <tr>\n",
       "      <th>Train_MAPE</th>\n",
       "      <td>0.294</td>\n",
       "      <td>0.208</td>\n",
       "      <td>0.246</td>\n",
       "      <td>0.197</td>\n",
       "      <td>0.246</td>\n",
       "      <td>0.295</td>\n",
       "      <td>0.294</td>\n",
       "      <td>0.348</td>\n",
       "      <td>0.179</td>\n",
       "      <td>0.195</td>\n",
       "    </tr>\n",
       "    <tr>\n",
       "      <th>Test_MAPE</th>\n",
       "      <td>0.294</td>\n",
       "      <td>0.254</td>\n",
       "      <td>0.273</td>\n",
       "      <td>0.250</td>\n",
       "      <td>0.265</td>\n",
       "      <td>0.294</td>\n",
       "      <td>0.294</td>\n",
       "      <td>0.354</td>\n",
       "      <td>0.250</td>\n",
       "      <td>0.255</td>\n",
       "    </tr>\n",
       "  </tbody>\n",
       "</table>\n",
       "</div>"
      ],
      "text/plain": [
       "               LR     RF     DT    XGB    KNN  Lasso  Ridge    ADA  \\\n",
       "Train_MAPE  0.294  0.208  0.246  0.197  0.246  0.295  0.294  0.348   \n",
       "Test_MAPE   0.294  0.254  0.273  0.250  0.265  0.294  0.294  0.354   \n",
       "\n",
       "            Ensembling  Stacking  \n",
       "Train_MAPE       0.179     0.195  \n",
       "Test_MAPE        0.250     0.255  "
      ]
     },
     "execution_count": 128,
     "metadata": {},
     "output_type": "execute_result"
    }
   ],
   "source": [
    "index = ['Train_MAPE', 'Test_MAPE']\n",
    "columns = [\n",
    "    'LR','RF', 'DT', 'XGB', 'KNN', 'Lasso', 'Ridge', 'ADA', 'Ensembling','Stacking'\n",
    "]\n",
    "train = [\n",
    "   LR_MAPE_Train, RF_MAPE_Train, DT_MAPE_Train, XGB_MAPE_Train, KNN_MAPE_Train,\n",
    "     Lasso_MAPE_Train, Ridge_MAPE_Train, TUNED_AD_MAPE_Train,\n",
    "    Ensembling_MAPE_Train, Stack_MAPE_Train\n",
    "]\n",
    "test = [\n",
    "    LR_MAPE_Test, RF_MAPE_Test, DT_MAPE_Test, XGB_MAPE_Test, KNN_MAPE_Test,\n",
    "    Lasso_MAPE_Test, Ridge_MAPE_Test, TUNED_AD_MAPE_Test, Ensembling_MAPE_Test, Stack_MAPE_Test\n",
    "]\n",
    "\n",
    "data = pd.DataFrame([train, test], index=index, columns=columns)\n",
    "round(data, 3)"
   ]
  },
  {
   "cell_type": "code",
   "execution_count": 129,
   "id": "9c36d29e",
   "metadata": {
    "ExecuteTime": {
     "end_time": "2022-06-19T05:43:25.304640Z",
     "start_time": "2022-06-19T05:43:24.731016Z"
    }
   },
   "outputs": [
    {
     "data": {
      "image/png": "[encoded data removed]",
      "text/plain": [
       "<Figure size 576x360 with 1 Axes>"
      ]
     },
     "metadata": {},
     "output_type": "display_data"
    }
   ],
   "source": [
    "#plot a horizontal bar plot for the metrics of different regressor\n",
    "plt.figure(figsize=(8,5))\n",
    "min_MAPE_index= results_train.MAPE.argmin()\n",
    "plt.barh(results_train.Model, results_train.MAPE, color='c')\n",
    "plt.barh(results_train.Model[min_MAPE_index], results_train.MAPE[min_MAPE_index], color='m')\n",
    "plt.title(\"Best Performace using MAPE TRAIN DATA\", size=15);\n",
    "plt.show()"
   ]
  },
  {
   "cell_type": "code",
   "execution_count": 130,
   "id": "2d5b94f6",
   "metadata": {
    "ExecuteTime": {
     "end_time": "2022-06-19T05:43:25.920106Z",
     "start_time": "2022-06-19T05:43:25.533220Z"
    }
   },
   "outputs": [
    {
     "data": {
      "image/png": "[encoded data removed]",
      "text/plain": [
       "<Figure size 576x360 with 1 Axes>"
      ]
     },
     "metadata": {},
     "output_type": "display_data"
    }
   ],
   "source": [
    "#plot a horizontal bar plot for the metrics of different regressor\n",
    "plt.figure(figsize=(8,5))\n",
    "min_MAPE_index= results_test.MAPE.argmin()\n",
    "plt.barh(results_test.Model, results_test.MAPE, color='c')\n",
    "plt.barh(results_test.Model[min_MAPE_index], results_test.MAPE[min_MAPE_index], color='m')\n",
    "plt.title(\"Best Performace using MAPE TEST DATA\", size=15);\n",
    "plt.show()"
   ]
  },
  {
   "cell_type": "markdown",
   "id": "c76bec4b",
   "metadata": {},
   "source": [
    "## Final Comparison "
   ]
  },
  {
   "cell_type": "code",
   "execution_count": 131,
   "id": "c199538e",
   "metadata": {
    "ExecuteTime": {
     "end_time": "2022-06-19T05:43:33.530751Z",
     "start_time": "2022-06-19T05:43:33.379494Z"
    }
   },
   "outputs": [
    {
     "data": {
      "text/html": [
       "<div>\n",
       "<style scoped>\n",
       "    .dataframe tbody tr th:only-of-type {\n",
       "        vertical-align: middle;\n",
       "    }\n",
       "\n",
       "    .dataframe tbody tr th {\n",
       "        vertical-align: top;\n",
       "    }\n",
       "\n",
       "    .dataframe thead th {\n",
       "        text-align: right;\n",
       "    }\n",
       "</style>\n",
       "<table border=\"1\" class=\"dataframe\">\n",
       "  <thead>\n",
       "    <tr style=\"text-align: right;\">\n",
       "      <th></th>\n",
       "      <th>MultiLinear Reg Train</th>\n",
       "      <th>MultiLinear Reg Test</th>\n",
       "      <th>Random Forest Train</th>\n",
       "      <th>Random Forest Test</th>\n",
       "      <th>Decision Tree Train</th>\n",
       "      <th>Decision Tree Test</th>\n",
       "      <th>XG Boost Train</th>\n",
       "      <th>XG Boost Test</th>\n",
       "      <th>KNN Train</th>\n",
       "      <th>KNN Test</th>\n",
       "      <th>Lasso Regression Train</th>\n",
       "      <th>Lasso Regression Test</th>\n",
       "      <th>Ridge Train</th>\n",
       "      <th>Ridge Test</th>\n",
       "      <th>ADA Boost Train</th>\n",
       "      <th>ADA Boost Test</th>\n",
       "      <th>Emsembling Train</th>\n",
       "      <th>Emsembling Test</th>\n",
       "      <th>Stacking Train</th>\n",
       "      <th>Stacking Test</th>\n",
       "    </tr>\n",
       "  </thead>\n",
       "  <tbody>\n",
       "    <tr>\n",
       "      <th>RMSE</th>\n",
       "      <td>219827.71</td>\n",
       "      <td>216637.44</td>\n",
       "      <td>147757.34</td>\n",
       "      <td>191520.98</td>\n",
       "      <td>174806.88</td>\n",
       "      <td>216645.05</td>\n",
       "      <td>120597.52</td>\n",
       "      <td>190295.96</td>\n",
       "      <td>197302.60</td>\n",
       "      <td>206965.65</td>\n",
       "      <td>220268.60</td>\n",
       "      <td>217050.08</td>\n",
       "      <td>219869.61</td>\n",
       "      <td>216759.17</td>\n",
       "      <td>237629.80</td>\n",
       "      <td>239178.45</td>\n",
       "      <td>106940.43</td>\n",
       "      <td>194104.27</td>\n",
       "      <td>151314.42</td>\n",
       "      <td>197368.29</td>\n",
       "    </tr>\n",
       "    <tr>\n",
       "      <th>Adjusted_R_Square</th>\n",
       "      <td>0.65</td>\n",
       "      <td>0.63</td>\n",
       "      <td>0.84</td>\n",
       "      <td>0.71</td>\n",
       "      <td>0.78</td>\n",
       "      <td>0.63</td>\n",
       "      <td>0.89</td>\n",
       "      <td>0.71</td>\n",
       "      <td>0.71</td>\n",
       "      <td>0.66</td>\n",
       "      <td>0.64</td>\n",
       "      <td>0.63</td>\n",
       "      <td>0.65</td>\n",
       "      <td>0.63</td>\n",
       "      <td>0.59</td>\n",
       "      <td>0.55</td>\n",
       "      <td>0.92</td>\n",
       "      <td>0.70</td>\n",
       "      <td>0.83</td>\n",
       "      <td>0.69</td>\n",
       "    </tr>\n",
       "    <tr>\n",
       "      <th>MAPE</th>\n",
       "      <td>0.29</td>\n",
       "      <td>0.29</td>\n",
       "      <td>0.21</td>\n",
       "      <td>0.25</td>\n",
       "      <td>0.25</td>\n",
       "      <td>0.27</td>\n",
       "      <td>0.20</td>\n",
       "      <td>0.25</td>\n",
       "      <td>0.25</td>\n",
       "      <td>0.26</td>\n",
       "      <td>0.29</td>\n",
       "      <td>0.29</td>\n",
       "      <td>0.29</td>\n",
       "      <td>0.29</td>\n",
       "      <td>0.35</td>\n",
       "      <td>0.35</td>\n",
       "      <td>0.18</td>\n",
       "      <td>0.25</td>\n",
       "      <td>0.20</td>\n",
       "      <td>0.25</td>\n",
       "    </tr>\n",
       "  </tbody>\n",
       "</table>\n",
       "</div>"
      ],
      "text/plain": [
       "                   MultiLinear Reg Train  MultiLinear Reg Test  \\\n",
       "RMSE                           219827.71             216637.44   \n",
       "Adjusted_R_Square                   0.65                  0.63   \n",
       "MAPE                                0.29                  0.29   \n",
       "\n",
       "                   Random Forest Train  Random Forest Test  \\\n",
       "RMSE                         147757.34           191520.98   \n",
       "Adjusted_R_Square                 0.84                0.71   \n",
       "MAPE                              0.21                0.25   \n",
       "\n",
       "                   Decision Tree Train  Decision Tree Test  XG Boost Train  \\\n",
       "RMSE                         174806.88           216645.05       120597.52   \n",
       "Adjusted_R_Square                 0.78                0.63            0.89   \n",
       "MAPE                              0.25                0.27            0.20   \n",
       "\n",
       "                   XG Boost Test  KNN Train   KNN Test  \\\n",
       "RMSE                   190295.96  197302.60  206965.65   \n",
       "Adjusted_R_Square           0.71       0.71       0.66   \n",
       "MAPE                        0.25       0.25       0.26   \n",
       "\n",
       "                   Lasso Regression Train  Lasso Regression Test  Ridge Train  \\\n",
       "RMSE                            220268.60              217050.08    219869.61   \n",
       "Adjusted_R_Square                    0.64                   0.63         0.65   \n",
       "MAPE                                 0.29                   0.29         0.29   \n",
       "\n",
       "                   Ridge Test  ADA Boost Train  ADA Boost Test  \\\n",
       "RMSE                216759.17        237629.80       239178.45   \n",
       "Adjusted_R_Square        0.63             0.59            0.55   \n",
       "MAPE                     0.29             0.35            0.35   \n",
       "\n",
       "                   Emsembling Train  Emsembling Test  Stacking Train  \\\n",
       "RMSE                      106940.43        194104.27       151314.42   \n",
       "Adjusted_R_Square              0.92             0.70            0.83   \n",
       "MAPE                           0.18             0.25            0.20   \n",
       "\n",
       "                   Stacking Test  \n",
       "RMSE                   197368.29  \n",
       "Adjusted_R_Square           0.69  \n",
       "MAPE                        0.25  "
      ]
     },
     "execution_count": 131,
     "metadata": {},
     "output_type": "execute_result"
    }
   ],
   "source": [
    "index = ['RMSE', 'Adjusted_R_Square', 'MAPE']\n",
    "data = pd.DataFrame(\n",
    "    {\n",
    "        'MultiLinear Reg Train': [LR_RMSE_Train, LR_R2_Train, LR_MAPE_Train],\n",
    "        'MultiLinear Reg Test': [LR_RMSE_Test, LR_R2_Test, LR_MAPE_Test],\n",
    "        'Random Forest Train': [RF_RMSE_Train, RF_R2_Train, RF_MAPE_Train],\n",
    "        'Random Forest Test': [RF_RMSE_Test, RF_R2_Test, RF_MAPE_Test],\n",
    "        'Decision Tree Train': [DT_RMSE_Train, DT_R2_Train, DT_MAPE_Train],\n",
    "        'Decision Tree Test': [DT_RMSE_Test, DT_R2_Test, DT_MAPE_Test],\n",
    "        'XG Boost Train': [XGB_RMSE_Train, XGB_R2_Train, XGB_MAPE_Train],\n",
    "        'XG Boost Test': [XGB_RMSE_Test, XGB_R2_Test, XGB_MAPE_Test],\n",
    "        'KNN Train': [KNN_RMSE_Train, KNN_R2_Train, KNN_MAPE_Train],\n",
    "        'KNN Test': [KNN_RMSE_Test, KNN_R2_Test, KNN_MAPE_Test],\n",
    "        'Lasso Regression Train':\n",
    "        [Lasso_RMSE_Train, Lasso_R2_Train, Lasso_MAPE_Train],\n",
    "        'Lasso Regression Test':\n",
    "        [Lasso_RMSE_Test, Lasso_R2_Test, Lasso_MAPE_Test],\n",
    "        'Ridge Train': [Ridge_RMSE_Train, Ridge_R2_Train, Ridge_MAPE_Train],\n",
    "        'Ridge Test': [Ridge_RMSE_Test, Ridge_R2_Test, Ridge_MAPE_Test],\n",
    "        'ADA Boost Train':\n",
    "        [TUNED_AD_RMSE_Train, TUNED_AD_R2_Train, TUNED_AD_MAPE_Train],\n",
    "        'ADA Boost Test':\n",
    "        [TUNED_AD_RMSE_Test, TUNED_AD_R2_Test, TUNED_AD_MAPE_Test],\n",
    "        'Emsembling Train':\n",
    "        [Ensembling_RMSE_Train, Ensembling_R2_Train, Ensembling_MAPE_Train],\n",
    "        'Emsembling Test':\n",
    "        [Ensembling_RMSE_Test, Ensembling_R2_Test, Ensembling_MAPE_Test],\n",
    "        'Stacking Train':\n",
    "        [Stack_RMSE_Train, Stack_R2_Train, Stack_MAPE_Train],\n",
    "        'Stacking Test':\n",
    "        [Stack_RMSE_Test, Stack_R2_Test, Stack_MAPE_Test]\n",
    "        \n",
    "    },\n",
    "    index=index)\n",
    "round(data, 2)"
   ]
  },
  {
   "cell_type": "code",
   "execution_count": 132,
   "id": "7ceb3d43",
   "metadata": {
    "ExecuteTime": {
     "end_time": "2022-06-19T05:43:39.582229Z",
     "start_time": "2022-06-19T05:43:39.483462Z"
    }
   },
   "outputs": [
    {
     "data": {
      "text/html": [
       "<div>\n",
       "<style scoped>\n",
       "    .dataframe tbody tr th:only-of-type {\n",
       "        vertical-align: middle;\n",
       "    }\n",
       "\n",
       "    .dataframe tbody tr th {\n",
       "        vertical-align: top;\n",
       "    }\n",
       "\n",
       "    .dataframe thead th {\n",
       "        text-align: right;\n",
       "    }\n",
       "</style>\n",
       "<table border=\"1\" class=\"dataframe\">\n",
       "  <thead>\n",
       "    <tr style=\"text-align: right;\">\n",
       "      <th></th>\n",
       "      <th>MultiLinear Reg Test</th>\n",
       "      <th>Random Forest Test</th>\n",
       "      <th>Decision Tree Test</th>\n",
       "      <th>XG Boost Test</th>\n",
       "      <th>KNN Test</th>\n",
       "      <th>Lasso Regression Test</th>\n",
       "      <th>Ridge Test</th>\n",
       "      <th>Tuned ADA Test</th>\n",
       "      <th>Emsembling Test</th>\n",
       "      <th>Stacking Test</th>\n",
       "    </tr>\n",
       "  </thead>\n",
       "  <tbody>\n",
       "    <tr>\n",
       "      <th>RMSE</th>\n",
       "      <td>216637.44</td>\n",
       "      <td>191520.98</td>\n",
       "      <td>216645.05</td>\n",
       "      <td>190295.96</td>\n",
       "      <td>206965.65</td>\n",
       "      <td>217050.08</td>\n",
       "      <td>216759.17</td>\n",
       "      <td>239178.45</td>\n",
       "      <td>194104.27</td>\n",
       "      <td>197368.29</td>\n",
       "    </tr>\n",
       "    <tr>\n",
       "      <th>Adjusted_R_Square</th>\n",
       "      <td>0.63</td>\n",
       "      <td>0.71</td>\n",
       "      <td>0.63</td>\n",
       "      <td>0.71</td>\n",
       "      <td>0.66</td>\n",
       "      <td>0.63</td>\n",
       "      <td>0.63</td>\n",
       "      <td>0.55</td>\n",
       "      <td>0.70</td>\n",
       "      <td>0.69</td>\n",
       "    </tr>\n",
       "    <tr>\n",
       "      <th>MAPE</th>\n",
       "      <td>0.29</td>\n",
       "      <td>0.25</td>\n",
       "      <td>0.27</td>\n",
       "      <td>0.25</td>\n",
       "      <td>0.26</td>\n",
       "      <td>0.29</td>\n",
       "      <td>0.29</td>\n",
       "      <td>0.35</td>\n",
       "      <td>0.25</td>\n",
       "      <td>0.25</td>\n",
       "    </tr>\n",
       "  </tbody>\n",
       "</table>\n",
       "</div>"
      ],
      "text/plain": [
       "                   MultiLinear Reg Test  Random Forest Test  \\\n",
       "RMSE                          216637.44           191520.98   \n",
       "Adjusted_R_Square                  0.63                0.71   \n",
       "MAPE                               0.29                0.25   \n",
       "\n",
       "                   Decision Tree Test  XG Boost Test   KNN Test  \\\n",
       "RMSE                        216645.05      190295.96  206965.65   \n",
       "Adjusted_R_Square                0.63           0.71       0.66   \n",
       "MAPE                             0.27           0.25       0.26   \n",
       "\n",
       "                   Lasso Regression Test  Ridge Test  Tuned ADA Test  \\\n",
       "RMSE                           217050.08   216759.17       239178.45   \n",
       "Adjusted_R_Square                   0.63        0.63            0.55   \n",
       "MAPE                                0.29        0.29            0.35   \n",
       "\n",
       "                   Emsembling Test  Stacking Test  \n",
       "RMSE                     194104.27      197368.29  \n",
       "Adjusted_R_Square             0.70           0.69  \n",
       "MAPE                          0.25           0.25  "
      ]
     },
     "execution_count": 132,
     "metadata": {},
     "output_type": "execute_result"
    }
   ],
   "source": [
    "index = ['RMSE', 'Adjusted_R_Square', 'MAPE']\n",
    "data = pd.DataFrame(\n",
    "    {\n",
    "        'MultiLinear Reg Test':[LR_RMSE_Test, LR_R2_Test, LR_MAPE_Test],\n",
    "        'Random Forest Test': [RF_RMSE_Test, RF_R2_Test, RF_MAPE_Test],\n",
    "        'Decision Tree Test': [DT_RMSE_Test, DT_R2_Test, DT_MAPE_Test],\n",
    "        'XG Boost Test': [XGB_RMSE_Test, XGB_R2_Test, XGB_MAPE_Test],\n",
    "        'KNN Test': [KNN_RMSE_Test, KNN_R2_Test, KNN_MAPE_Test],\n",
    "        'Lasso Regression Test':\n",
    "        [Lasso_RMSE_Test, Lasso_R2_Test, Lasso_MAPE_Test],\n",
    "        'Ridge Test': [Ridge_RMSE_Test, Ridge_R2_Test, Ridge_MAPE_Test],\n",
    "        'Tuned ADA Test':\n",
    "        [TUNED_AD_RMSE_Test, TUNED_AD_R2_Test, TUNED_AD_MAPE_Test],\n",
    "        'Emsembling Test':\n",
    "        [Ensembling_RMSE_Test, Ensembling_R2_Test, Ensembling_MAPE_Test],\n",
    "        'Stacking Test':\n",
    "        [Stack_RMSE_Test, Stack_R2_Test, Stack_MAPE_Test]\n",
    "    },\n",
    "    index=index)\n",
    "round(data, 2)"
   ]
  },
  {
   "cell_type": "code",
   "execution_count": null,
   "id": "27ef309a",
   "metadata": {},
   "outputs": [],
   "source": []
  }
 ],
 "metadata": {
  "kernelspec": {
   "display_name": "Python 3 (ipykernel)",
   "language": "python",
   "name": "python3"
  },
  "language_info": {
   "codemirror_mode": {
    "name": "ipython",
    "version": 3
   },
   "file_extension": ".py",
   "mimetype": "text/x-python",
   "name": "python",
   "nbconvert_exporter": "python",
   "pygments_lexer": "ipython3",
   "version": "3.8.13"
  },
  "toc": {
   "base_numbering": 1,
   "nav_menu": {},
   "number_sections": true,
   "sideBar": true,
   "skip_h1_title": false,
   "title_cell": "Table of Contents",
   "title_sidebar": "Contents",
   "toc_cell": false,
   "toc_position": {
    "height": "calc(100% - 180px)",
    "left": "10px",
    "top": "150px",
    "width": "256px"
   },
   "toc_section_display": true,
   "toc_window_display": true
  }
 },
 "nbformat": 4,
 "nbformat_minor": 5
}
